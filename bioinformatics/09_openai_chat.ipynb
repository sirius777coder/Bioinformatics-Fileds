{
 "cells": [
  {
   "cell_type": "code",
   "execution_count": 1,
   "metadata": {},
   "outputs": [
    {
     "name": "stdout",
     "output_type": "stream",
     "text": [
      "The translation of \"Hi there! How can I assist you today?\" into German is: \"Hallo da! Wie kann ich Ihnen heute helfen?\"\n"
     ]
    }
   ],
   "source": [
    "from openai import OpenAI\n",
    "\n",
    "client = OpenAI(\n",
    "    # #将这里换成你在aihubmix api keys拿到的密钥\n",
    "    api_key=\"sk-mFoEdn9WtQGBVC7PB8Aa647442Dc47A8B7Af3eC71e037a3d\",\n",
    "    # 这里将官方的接口访问地址，替换成aihubmix的入口地址\n",
    "    base_url=\"https://aihubmix.com/v1\"\n",
    ")\n",
    "\n",
    "chat_completion = client.chat.completions.create(\n",
    "    messages=[\n",
    "        {\n",
    "            \"role\": \"user\",\n",
    "            \"content\": \"Say Hi\",\n",
    "        },\n",
    "        {\n",
    "            \"role\": \"assistant\",\n",
    "            \"content\": \"Hi there! How can I assist you today?\",\n",
    "        },\n",
    "        {\n",
    "            \"role\": \"user\",\n",
    "            \"content\": \"What is the meaning of there in your response\",\n",
    "        },\n",
    "        {\n",
    "            \"role\": \"assistant\",\n",
    "            \"content\": 'In my response, \"there\" is used as an adverb to refer generally to the place that you are. It\\'s a friendly way of acknowledging your presence in conversation, even if we\\'re not physically located in the same space.',\n",
    "        },\n",
    "        {\n",
    "            \"role\":\"user\",\n",
    "            \"content\":\"how to translate this sentence into Germany\"\n",
    "        },\n",
    "        \n",
    "    ],\n",
    "    presence_penalty= 2.0,\n",
    "    frequency_penalty=2.0,\n",
    "    temperature=0.1,\n",
    "    top_p=0.9,\n",
    "    logprobs=True,\n",
    "    top_logprobs=5,\n",
    "    model=\"gpt-4\",\n",
    ")\n",
    "\n",
    "content = chat_completion.choices[0].message.content\n",
    "print(content)"
   ]
  },
  {
   "cell_type": "code",
   "execution_count": null,
   "metadata": {},
   "outputs": [],
   "source": []
  }
 ],
 "metadata": {
  "kernelspec": {
   "display_name": "dl",
   "language": "python",
   "name": "python3"
  },
  "language_info": {
   "codemirror_mode": {
    "name": "ipython",
    "version": 3
   },
   "file_extension": ".py",
   "mimetype": "text/x-python",
   "name": "python",
   "nbconvert_exporter": "python",
   "pygments_lexer": "ipython3",
   "version": "3.9.19"
  }
 },
 "nbformat": 4,
 "nbformat_minor": 2
}
