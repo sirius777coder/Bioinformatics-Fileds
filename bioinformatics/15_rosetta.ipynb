{
 "cells": [
  {
   "cell_type": "code",
   "execution_count": 1,
   "metadata": {},
   "outputs": [
    {
     "name": "stdout",
     "output_type": "stream",
     "text": [
      "┌──────────────────────────────────────────────────────────────────────────────┐\n",
      "│                                 PyRosetta-4                                  │\n",
      "│              Created in JHU by Sergey Lyskov and PyRosetta Team              │\n",
      "│              (C) Copyright Rosetta Commons Member Institutions               │\n",
      "│                                                                              │\n",
      "│ NOTE: USE OF PyRosetta FOR COMMERCIAL PURPOSES REQUIRE PURCHASE OF A LICENSE │\n",
      "│         See LICENSE.PyRosetta.md or email license@uw.edu for details         │\n",
      "└──────────────────────────────────────────────────────────────────────────────┘\n",
      "PyRosetta-4 2024 [Rosetta PyRosetta4.conda.linux.cxx11thread.serialization.CentOS.python38.Release 2024.19+release.a34b73c40fe9c61558d566d6a63f803cfb15a4fc 2024-05-02T16:22:03] retrieved from: http://www.pyrosetta.org\n"
     ]
    },
    {
     "name": "stderr",
     "output_type": "stream",
     "text": [
      "/tmp/ipykernel_29360/4171086284.py:2: UserWarning: Import of 'rosetta' as a top-level module is deprecated and may be removed in 2018, import via 'pyrosetta.rosetta'.\n",
      "  from rosetta import *\n"
     ]
    }
   ],
   "source": [
    "from pyrosetta import *\n",
    "from rosetta import *\n",
    "init( '-in:file:silent_struct_type binary -mute all' )"
   ]
  },
  {
   "cell_type": "code",
   "execution_count": 6,
   "metadata": {},
   "outputs": [],
   "source": [
    "tag = \"/home/sirius/PhD/scripts/oligomer_1120/TMP_012.pdb\"\n",
    "pose = pose_from_pdb(tag)\n",
    "chain_splits = pose.split_by_chain()"
   ]
  },
  {
   "cell_type": "code",
   "execution_count": 16,
   "metadata": {},
   "outputs": [],
   "source": [
    "import sys\n",
    "import numpy as np\n",
    "from typing import Tuple\n",
    "import collections\n",
    "atom_types = [\n",
    "    'N', 'CA', 'C', 'CB', 'O', 'CG', 'CG1', 'CG2', 'OG', 'OG1', 'SG', 'CD',\n",
    "    'CD1', 'CD2', 'ND1', 'ND2', 'OD1', 'OD2', 'SD', 'CE', 'CE1', 'CE2', 'CE3',\n",
    "    'NE', 'NE1', 'NE2', 'OE1', 'OE2', 'CH2', 'NH1', 'NH2', 'OH', 'CZ', 'CZ2',\n",
    "    'CZ3', 'NZ', 'OXT'\n",
    "]\n",
    "atom_order = {atom_type: i for i, atom_type in enumerate(atom_types)}\n",
    "atom_type_num = len(atom_types)  # := 37.\n",
    "def af2_get_atom_positions(pose, tmp_fn) -> Tuple[np.ndarray, np.ndarray]:\n",
    "    '''\n",
    "    Given a pose, return the AF2 atom positions array and atom mask array for the protein.\n",
    "    '''\n",
    "\n",
    "    # write pose to pdb file\n",
    "    pose.dump_pdb(tmp_fn)\n",
    "\n",
    "    with open(tmp_fn, 'r') as pdb_file:\n",
    "        lines = pdb_file.readlines()\n",
    "\n",
    "    # Delete the temporary file\n",
    "    os.remove(tmp_fn)\n",
    "\n",
    "    # indices of residues observed in the structure\n",
    "    idx_s = [int(l[22:26]) for l in lines if l[:4]==\"ATOM\" and l[12:16].strip()==\"CA\"]\n",
    "    num_res = len(idx_s)\n",
    "\n",
    "    all_positions = np.zeros([num_res, atom_type_num, 3])\n",
    "    all_positions_mask = np.zeros([num_res, atom_type_num],\n",
    "                                dtype=np.int64)\n",
    "\n",
    "    residues = collections.defaultdict(list)\n",
    "    # 4 BB + up to 10 SC atoms\n",
    "    xyz = np.full((len(idx_s), 14, 3), np.nan, dtype=np.float32)\n",
    "    for l in lines:\n",
    "        if l[:4] != \"ATOM\":\n",
    "            continue\n",
    "        resNo, atom, aa = int(l[22:26]), l[12:16], l[17:20]\n",
    "\n",
    "        residues[ resNo ].append( ( atom.strip(), aa, [float(l[30:38]), float(l[38:46]), float(l[46:54])] ) )\n",
    "\n",
    "    for resNo in residues:\n",
    "\n",
    "        pos = np.zeros([atom_type_num, 3], dtype=np.float32)\n",
    "        mask = np.zeros([atom_type_num], dtype=np.float32)\n",
    "\n",
    "        for atom in residues[ resNo ]:\n",
    "            atom_name = atom[0]\n",
    "            x, y, z = atom[2]\n",
    "            if atom_name in atom_order.keys():\n",
    "                pos[atom_order[atom_name]] = [x, y, z]\n",
    "                mask[atom_order[atom_name]] = 1.0\n",
    "            elif atom_name.upper() == 'SE' and res.get_resname() == 'MSE':\n",
    "                # Put the coordinates of the selenium atom in the sulphur column.\n",
    "                pos[atom_order['SD']] = [x, y, z]\n",
    "                mask[atom_order['SD']] = 1.0\n",
    "\n",
    "        idx = idx_s.index(resNo) # This is the order they show up in the pdb\n",
    "        all_positions[idx] = pos\n",
    "        all_positions_mask[idx] = mask\n",
    "\n",
    "    return all_positions, all_positions_mask"
   ]
  },
  {
   "cell_type": "code",
   "execution_count": 17,
   "metadata": {},
   "outputs": [],
   "source": [
    "all_positions, all_positions_mask = af2_get_atom_positions(pose, \"./test.pdb\")"
   ]
  },
  {
   "cell_type": "code",
   "execution_count": 21,
   "metadata": {},
   "outputs": [],
   "source": [
    "list_all_atom_positions = np.split(all_positions, all_positions.shape[0])"
   ]
  },
  {
   "cell_type": "code",
   "execution_count": 32,
   "metadata": {},
   "outputs": [],
   "source": [
    "seq = pose.sequence()\n",
    "binderlen = 100\n",
    "residue_mask = [int(i) > binderlen for i in range(len(seq))]"
   ]
  },
  {
   "cell_type": "code",
   "execution_count": 42,
   "metadata": {},
   "outputs": [
    {
     "data": {
      "text/plain": [
       "False"
      ]
     },
     "execution_count": 42,
     "metadata": {},
     "output_type": "execute_result"
    }
   ],
   "source": [
    "residue_mask[100]"
   ]
  },
  {
   "cell_type": "code",
   "execution_count": 35,
   "metadata": {},
   "outputs": [
    {
     "data": {
      "text/plain": [
       "691"
      ]
     },
     "execution_count": 35,
     "metadata": {},
     "output_type": "execute_result"
    }
   ],
   "source": [
    "np.sum(residue_mask)"
   ]
  },
  {
   "cell_type": "code",
   "execution_count": 36,
   "metadata": {},
   "outputs": [
    {
     "data": {
      "text/plain": [
       "792"
      ]
     },
     "execution_count": 36,
     "metadata": {},
     "output_type": "execute_result"
    }
   ],
   "source": [
    "len(seq)"
   ]
  },
  {
   "cell_type": "code",
   "execution_count": null,
   "metadata": {},
   "outputs": [],
   "source": [
    "def parse_initial_guess(all_atom_positions) -> jnp.ndarray:\n",
    "    '''\n",
    "    Given a numpy array of all atom positions, return a jax array of the initial guess\n",
    "    '''\n",
    "\n",
    "    list_all_atom_positions = np.split(all_atom_positions, all_atom_positions.shape[0])\n",
    "\n",
    "    templates_all_atom_positions = []\n",
    "\n",
    "    # Initially fill with zeros\n",
    "    for _ in list_all_atom_positions:\n",
    "        templates_all_atom_positions.append(jnp.zeros((residue_constants.atom_type_num, 3)))\n",
    "\n",
    "    for idx in range(len(list_all_atom_positions)):\n",
    "        templates_all_atom_positions[idx] = list_all_atom_positions[idx][0] \n",
    "\n",
    "    return jnp.array(templates_all_atom_positions)"
   ]
  }
 ],
 "metadata": {
  "kernelspec": {
   "display_name": "rosetta",
   "language": "python",
   "name": "python3"
  },
  "language_info": {
   "codemirror_mode": {
    "name": "ipython",
    "version": 3
   },
   "file_extension": ".py",
   "mimetype": "text/x-python",
   "name": "python",
   "nbconvert_exporter": "python",
   "pygments_lexer": "ipython3",
   "version": "3.8.19"
  }
 },
 "nbformat": 4,
 "nbformat_minor": 2
}
