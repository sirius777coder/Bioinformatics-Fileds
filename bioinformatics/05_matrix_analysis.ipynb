{
 "cells": [
  {
   "cell_type": "markdown",
   "metadata": {},
   "source": [
    "## elemenrary matrix , LU decomposition"
   ]
  },
  {
   "cell_type": "code",
   "execution_count": 1,
   "metadata": {},
   "outputs": [],
   "source": [
    "import numpy as np\n",
    "import scipy"
   ]
  },
  {
   "cell_type": "code",
   "execution_count": 7,
   "metadata": {},
   "outputs": [
    {
     "name": "stdout",
     "output_type": "stream",
     "text": [
      "[[ 0  1  2  3]\n",
      " [ 4  5  6  7]\n",
      " [ 8  9 10 11]]\n",
      "[[ 4.  5.  6.  7.]\n",
      " [ 0.  1.  2.  3.]\n",
      " [ 8.  9. 10. 11.]]\n"
     ]
    }
   ],
   "source": [
    "# Elementary matrix : In mathematics, an elementary matrix is a matrix which differs from the identity matrix by one single elementary row operation\n",
    "# 1. Row switching\n",
    "# 2. Row multiplication\n",
    "# 3, Row addition\n",
    "\n",
    "# case1 switch two rows\n",
    "def switch_rows(A, i, j):\n",
    "    m,n = A.shape\n",
    "    E = np.eye(m)\n",
    "    E[i,i] = 0; E[j,j] = 0\n",
    "    E[i,j] = 1; E[j,i] = 1\n",
    "    return E,E @ A\n",
    "\n",
    "x= np.arange(12).reshape(3,4)\n",
    "print(x)\n",
    "print(switch_rows(x, 0, 1)[-1])"
   ]
  },
  {
   "cell_type": "code",
   "execution_count": 20,
   "metadata": {},
   "outputs": [
    {
     "name": "stdout",
     "output_type": "stream",
     "text": [
      "[[ 0  1  2  3]\n",
      " [ 4  5  6  7]\n",
      " [ 8  9 10 11]\n",
      " [12 13 14 15]]\n"
     ]
    },
    {
     "data": {
      "text/plain": [
       "array([[12., 13., 14., 15.],\n",
       "       [ 8.,  9., 10., 11.],\n",
       "       [ 4.,  5.,  6.,  7.],\n",
       "       [ 0.,  1.,  2.,  3.]])"
      ]
     },
     "execution_count": 20,
     "metadata": {},
     "output_type": "execute_result"
    }
   ],
   "source": [
    "# permutation matrix to switch rows\n",
    "def switch_rows_permutation(A, source_list, target_list):\n",
    "    m,n = A.shape\n",
    "    P = np.eye(m)\n",
    "    for i in range(len(source_list)):\n",
    "        P[source_list[i], source_list[i]] = 0\n",
    "        P[target_list[i], target_list[i]] = 0\n",
    "        P[source_list[i], target_list[i]] = 1\n",
    "        P[target_list[i], source_list[i]] = 1\n",
    "    return P @ A\n",
    "x = np.arange(16).reshape(4,4)\n",
    "print(x)\n",
    "switch_rows_permutation(x, [0,1],[3,2])"
   ]
  },
  {
   "cell_type": "code",
   "execution_count": 4,
   "metadata": {},
   "outputs": [],
   "source": [
    "# communication matrix for transpose matrix\n",
    "# x[i,j] = x[i*n+j] -> 对于Python, matlab按行展开\n",
    "x = np.arange(12).reshape(4,3)\n",
    "for i in range(x.shape[0]):\n",
    "    for j in range(x.shape[1]):\n",
    "        print(f\"{x[i,j]} , {x.flatten()[i*x.shape[1]+j]}\")"
   ]
  },
  {
   "cell_type": "code",
   "execution_count": 5,
   "metadata": {},
   "outputs": [],
   "source": [
    "def transpose_by_commuinication_matrix(x):\n",
    "    m, n = x.shape\n",
    "    y = np.zeros((m*n,m*n))\n",
    "    x_flatten = x.flatten()\n",
    "    for i in range(m):\n",
    "        for j in range(i,n):\n",
    "            if i == j:\n",
    "              # 如果是对角线元素，则不改变，因此在communication matrix中[i*n+j,i*n+j] = 1\n",
    "              y[i*n+j,i*n+j] = 1\n",
    "            else:\n",
    "              # tranpose x[i,j] and x[j,i]\n",
    "              # 如果非对角线元素，则交换x[i,j]与x[j,i]- > x[i,j]在flatten中为i*n+j行，x[j,i]在flatten中为j*n+i行，因此是i*n+j,j*n+i=1表示第i*n+j行的元素是原来第j*n+i行，j*n+i,i*n+1=1第j*n+i行的元素是原来第i*n+j行\n",
    "              y[i*n+j,j*n+i] = 1\n",
    "              y[j*n+i,i*n+j] = 1\n",
    "    return y.dot(x_flatten).reshape(n,m),y"
   ]
  },
  {
   "cell_type": "code",
   "execution_count": 3,
   "metadata": {},
   "outputs": [
    {
     "name": "stdout",
     "output_type": "stream",
     "text": [
      "[[0 1 2]\n",
      " [3 4 5]\n",
      " [6 7 8]]\n"
     ]
    }
   ],
   "source": [
    "x = np.arange(9).reshape(3,3)\n",
    "print(x)"
   ]
  },
  {
   "cell_type": "code",
   "execution_count": 17,
   "metadata": {},
   "outputs": [
    {
     "name": "stdout",
     "output_type": "stream",
     "text": [
      "[[0.29817673 0.5668421  0.00673651 0.92867801]\n",
      " [0.74563511 0.58834465 0.4878704  0.37604444]\n",
      " [0.0742193  0.3063073  0.98769045 0.39777847]\n",
      " [0.42357609 0.10708826 0.14831382 0.2010552 ]]\n",
      "[[0.42357609 0.10708826 0.14831382 0.2010552 ]\n",
      " [0.0742193  0.3063073  0.98769045 0.39777847]\n",
      " [0.74563511 0.58834465 0.4878704  0.37604444]\n",
      " [0.29817673 0.5668421  0.00673651 0.92867801]]\n"
     ]
    }
   ],
   "source": [
    "# exchange matrix\n",
    "def echange_matrix(n):\n",
    "    x = np.zeros((n,n))\n",
    "    for i in range(n):\n",
    "        x[i,n-1-i] = 1\n",
    "    return x\n",
    "# test exchange matrix\n",
    "x = echange_matrix(4)\n",
    "test=np.random.rand(4,4)\n",
    "print(test)\n",
    "print(x@test)"
   ]
  },
  {
   "cell_type": "code",
   "execution_count": 9,
   "metadata": {},
   "outputs": [],
   "source": [
    "x = echange_matrix(4)"
   ]
  },
  {
   "cell_type": "code",
   "execution_count": 33,
   "metadata": {},
   "outputs": [
    {
     "name": "stdout",
     "output_type": "stream",
     "text": [
      "[[ 5.          2.         -4.          0.        ]\n",
      " [ 0.          1.          0.          2.        ]\n",
      " [ 0.          0.          1.8         0.8       ]\n",
      " [ 0.          0.          0.          0.77777778]]\n"
     ]
    },
    {
     "data": {
      "text/plain": [
       "array([[ True,  True,  True,  True],\n",
       "       [ True,  True,  True,  True],\n",
       "       [ True,  True,  True,  True],\n",
       "       [ True,  True,  True,  True]])"
      ]
     },
     "execution_count": 33,
     "metadata": {},
     "output_type": "execute_result"
    }
   ],
   "source": [
    "# LU decomposition by Scipy\n",
    "from scipy.linalg import lu\n",
    "A = np.array([\n",
    "    [5,2,-4,0],\n",
    "    [2,1,-2,1],\n",
    "    [-4,-2,5,0],\n",
    "    [0,1,0,2]\n",
    "])\n",
    "P,L,U = lu(A)\n",
    "print(U)\n",
    "P @ A == L @ U"
   ]
  },
  {
   "cell_type": "code",
   "execution_count": 62,
   "metadata": {},
   "outputs": [],
   "source": [
    "# LU decomposition by procedure program\n",
    "\n",
    "import numpy as np\n",
    "from copy import deepcopy\n",
    "\n",
    "class naive_lup:\n",
    "    def __init__(self,A) -> None:\n",
    "        self.matrix = A\n",
    "    \n",
    "    @staticmethod\n",
    "    def switch_pivot(A,k):\n",
    "        column_A = A[:,k]\n",
    "        lower_array = np.abs(column_A[k+1:])\n",
    "        max_index = np.argmax(lower_array)\n",
    "        if lower_array[max_index].item() > np.abs(column_A[k]).item():\n",
    "            P,A = switch_rows(A,k,k+1+max_index)\n",
    "        else:\n",
    "            P = np.eye(A.shape[0])\n",
    "        return P,A\n",
    "\n",
    "\n",
    "    @staticmethod\n",
    "    def eliminate_column(A,k):\n",
    "        m,n = A.shape\n",
    "        elimination_matrix = np.eye(m)\n",
    "        for i in range(k+1,m):\n",
    "            elimination_matrix[i,k] = -A[i,k]/A[k,k]\n",
    "        return elimination_matrix, elimination_matrix @ A\n",
    "\n",
    "\n",
    "    def lup(self):\n",
    "        \"\"\"\n",
    "        matrix implementation of LU decomposition with partial pivoting\n",
    "        \"\"\"\n",
    "        m,n = self.matrix.shape\n",
    "        A = deepcopy(self.matrix)\n",
    "        P_list = []\n",
    "        M_list = []\n",
    "        for i in range(n-1):\n",
    "            # avoid 0 and interchange rows to geter larger pivots\n",
    "            P,A = self.switch_pivot(A,i) # bug\n",
    "            M,A = self.eliminate_column(A,i)\n",
    "            # print(f\"{i}\\neliminate column:{A}\\n,elimination matrix:{M}\")\n",
    "            P_list.append(P)\n",
    "            M_list.append(M)\n",
    "        P = np.eye(m)\n",
    "        L_inv = np.eye(m)\n",
    "        for i in range(len(P_list)-1,-1,-1):\n",
    "            P = P @ P_list[i]\n",
    "            if i != 0:\n",
    "                L_inv = L_inv @ M_list[i] @ P_list[i]\n",
    "            else:\n",
    "                L_inv = L_inv @ M_list[i]\n",
    "                for k in range(1,len(P_list)):\n",
    "                    L_inv = L_inv @ P_list[k]\n",
    "        L = np.linalg.inv(L_inv)\n",
    "        return P,L,A\n",
    "    \n",
    "    def doolittile(self):\n",
    "        \"\"\"\n",
    "        suppose we don't nedd to interchange any row, and suppose for a square matrix\n",
    "        \"\"\"\n",
    "        m,_ = self.matrix.shape\n",
    "        A = deepcopy(self.matrix)\n",
    "        L = np.eye(m)\n",
    "        U = np.zeros((m,m))\n",
    "        for i in range(m):\n",
    "            for j in range(i,m):\n",
    "                U[i,j] = A[i,j] - L[i,:i] @ U[:i,j] # don't need to dive U[i,i] as the diagnal of L is 1\n",
    "            for j in range(i+1,m):\n",
    "                L[j,i] = (A[j,i] - L[j,:i] @ U[:i,i])/U[i,i]\n",
    "        return L,U  \n"
   ]
  },
  {
   "cell_type": "code",
   "execution_count": 65,
   "metadata": {},
   "outputs": [
    {
     "name": "stdout",
     "output_type": "stream",
     "text": [
      "[[ 6.         -6.          7.        ]\n",
      " [ 0.         -5.          0.5       ]\n",
      " [ 0.          0.          1.33333333]]\n"
     ]
    },
    {
     "data": {
      "text/plain": [
       "array([[ True,  True,  True],\n",
       "       [ True,  True,  True],\n",
       "       [ True,  True,  True]])"
      ]
     },
     "execution_count": 65,
     "metadata": {},
     "output_type": "execute_result"
    }
   ],
   "source": [
    "B = np.array([\n",
    "    [-2,2,-1],\n",
    "    [6,-6,7],\n",
    "    [3,-8,4]\n",
    "])\n",
    "x = naive_lup(B)\n",
    "P,L,U = x.lup()\n",
    "print(U)\n",
    "P@B == L@U"
   ]
  },
  {
   "cell_type": "code",
   "execution_count": 66,
   "metadata": {},
   "outputs": [
    {
     "name": "stdout",
     "output_type": "stream",
     "text": [
      "[[  5.           2.          -4.           0.        ]\n",
      " [  0.          25.          -1.80327869 -13.19672131]\n",
      " [  0.           0.           1.08790965   1.33360146]\n",
      " [  0.           0.           0.           0.58297994]]\n"
     ]
    },
    {
     "data": {
      "text/plain": [
       "array([[ True,  True,  True,  True],\n",
       "       [ True,  True,  True,  True],\n",
       "       [ True,  True, False,  True],\n",
       "       [ True, False,  True, False]])"
      ]
     },
     "execution_count": 66,
     "metadata": {},
     "output_type": "execute_result"
    }
   ],
   "source": [
    "x = naive_lup(A)\n",
    "P,L,U = x.lup()\n",
    "print(U)\n",
    "P@A == L@U"
   ]
  },
  {
   "cell_type": "code",
   "execution_count": 63,
   "metadata": {},
   "outputs": [
    {
     "name": "stdout",
     "output_type": "stream",
     "text": [
      "[[ True  True  True  True]\n",
      " [ True  True  True  True]\n",
      " [ True  True False  True]\n",
      " [ True  True  True  True]]\n"
     ]
    }
   ],
   "source": [
    "permutation_a = P @ A\n",
    "d_L,d_U = naive_lup(permutation_a).doolittile()\n",
    "print(permutation_a == d_L @ d_U)\n"
   ]
  },
  {
   "cell_type": "markdown",
   "metadata": {},
   "source": [
    "## pseudo-inverse matrix\n"
   ]
  },
  {
   "cell_type": "code",
   "execution_count": 3,
   "metadata": {},
   "outputs": [],
   "source": [
    "a = np.array([\n",
    "    [7,12,7,6,6],\n",
    "    [17,32,18,15,14],\n",
    "    [14,20,12,14,16],\n",
    "    [15,16,11,14,18]\n",
    "])"
   ]
  },
  {
   "cell_type": "code",
   "execution_count": 135,
   "metadata": {},
   "outputs": [
    {
     "name": "stdout",
     "output_type": "stream",
     "text": [
      "[[ 0.24652295  0.09040334 -0.63212796  0.41968011]\n",
      " [-0.08770021  0.00601193  0.24803715 -0.20248777]\n",
      " [ 0.13936247  0.07012428 -0.34938759  0.20717619]\n",
      " [-0.17485082 -0.08291085  0.45244291 -0.2559895 ]\n",
      " [-0.06769034 -0.06263179  0.16970254 -0.04348558]]\n",
      "True\n"
     ]
    }
   ],
   "source": [
    "import copy\n",
    "from copy import deepcopy\n",
    "def get_column(A,j):\n",
    "    return A[:,j].reshape(-1,1)\n",
    "def get_submatrix(A,i):\n",
    "    if i == 0:\n",
    "        return A[:,0].reshape(-1,1)\n",
    "    else:\n",
    "        return A[:,0:i+1]\n",
    "def column_recursive_pinv(A):\n",
    "    m,n = A.shape\n",
    "    a1 = get_column(A,0)\n",
    "    a1_p = np.linalg.inv(a1.T @ a1) @ a1.T\n",
    "    A_p_k = a1_p\n",
    "    for i in range(1,n):\n",
    "        ak = get_column(A,i) #[m,1]\n",
    "        d = A_p_k @ ak #[i,m]@[m,1]\n",
    "        c = ak - get_submatrix(A,i-1) @ d\n",
    "        if np.allclose(c,np.zeros_like(c)):\n",
    "            b = 1/(1 + d.T @ d ) * d.T @ A_p_k\n",
    "        else:\n",
    "            b =  column_recursive_pinv(c)\n",
    "        A_p_k = np.concatenate([A_p_k - d @ b , b],axis=0)\n",
    "    return A_p_k\n",
    "\n",
    "print(column_recursive_pinv(a))\n",
    "print(np.allclose(column_recursive_pinv(a),np.linalg.pinv(a)))"
   ]
  },
  {
   "cell_type": "markdown",
   "metadata": {},
   "source": [
    "$A^{\\dagger}$是$A^{(1,3)}$与$A^{(1,4)}$的特殊情况\n",
    "\n",
    "- $A^{(1,3)}={A^{(1,3)}+(In-A^{(1,3)}A)Z|Z\\in \\mathbb{C} ^{5\\times 4}}$ \n",
    "\n",
    "- $A^{(1,4)}={A^{(1,4)}+Z(In-AA^{(1,4)})|Z\\in \\mathbb{C} ^{5\\times 4}}$ "
   ]
  },
  {
   "cell_type": "code",
   "execution_count": 136,
   "metadata": {},
   "outputs": [
    {
     "data": {
      "text/plain": [
       "array([[ 0.19354839,  0.32258065, -0.16129032,  0.16129032],\n",
       "       [ 0.32258065,  0.87096774,  0.06451613, -0.06451613],\n",
       "       [-0.16129032,  0.06451613,  0.96774194,  0.03225806],\n",
       "       [ 0.16129032, -0.06451613,  0.03225806,  0.96774194]])"
      ]
     },
     "execution_count": 136,
     "metadata": {},
     "output_type": "execute_result"
    }
   ],
   "source": [
    "a@column_recursive_pinv(a)"
   ]
  },
  {
   "cell_type": "code",
   "execution_count": 137,
   "metadata": {},
   "outputs": [
    {
     "data": {
      "text/plain": [
       "array([[ 0.70792768, -0.07649513,  0.38386648, -0.13908206,  0.18497914],\n",
       "       [-0.07649513,  0.86091794,  0.2433936 ,  0.20166898, -0.11821975],\n",
       "       [ 0.38386648,  0.2433936 ,  0.3240612 , -0.10292072, -0.04311544],\n",
       "       [-0.13908206,  0.20166898, -0.10292072,  0.45757997,  0.42141864],\n",
       "       [ 0.18497914, -0.11821975, -0.04311544,  0.42141864,  0.64951321]])"
      ]
     },
     "execution_count": 137,
     "metadata": {},
     "output_type": "execute_result"
    }
   ],
   "source": [
    "column_recursive_pinv(a)@a"
   ]
  },
  {
   "cell_type": "code",
   "execution_count": null,
   "metadata": {},
   "outputs": [],
   "source": []
  }
 ],
 "metadata": {
  "kernelspec": {
   "display_name": "Python 3 (ipykernel)",
   "language": "python",
   "name": "python3"
  }
 },
 "nbformat": 4,
 "nbformat_minor": 2
}
