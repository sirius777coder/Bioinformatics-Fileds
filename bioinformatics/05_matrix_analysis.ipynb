{
 "cells": [
  {
   "cell_type": "code",
   "execution_count": 1,
   "metadata": {},
   "outputs": [],
   "source": [
    "import numpy as np\n"
   ]
  },
  {
   "cell_type": "code",
   "execution_count": 14,
   "metadata": {},
   "outputs": [
    {
     "name": "stdout",
     "output_type": "stream",
     "text": [
      "[[ 0  1  2  3]\n",
      " [ 4  5  6  7]\n",
      " [ 8  9 10 11]]\n",
      "[[ 4.  5.  6.  7.]\n",
      " [ 0.  1.  2.  3.]\n",
      " [ 8.  9. 10. 11.]]\n"
     ]
    }
   ],
   "source": [
    "# Elementary matrix : In mathematics, an elementary matrix is a matrix which differs from the identity matrix by one single elementary row operation\n",
    "# 1. Row switching\n",
    "# 2. Row multiplication\n",
    "# 3, Row addition\n",
    "\n",
    "# case1 switch two rows\n",
    "def switch_rows(A, i, j):\n",
    "    m,n = A.shape\n",
    "    E = np.eye(m)\n",
    "    E[i,i] = 0; E[j,j] = 0\n",
    "    E[i,j] = 1; E[j,i] = 1\n",
    "    return E @ A\n",
    "\n",
    "x= np.arange(12).reshape(3,4)\n",
    "print(x)\n",
    "print(switch_rows(x, 0, 1))"
   ]
  },
  {
   "cell_type": "code",
   "execution_count": 20,
   "metadata": {},
   "outputs": [
    {
     "name": "stdout",
     "output_type": "stream",
     "text": [
      "[[ 0  1  2  3]\n",
      " [ 4  5  6  7]\n",
      " [ 8  9 10 11]\n",
      " [12 13 14 15]]\n"
     ]
    },
    {
     "data": {
      "text/plain": [
       "array([[12., 13., 14., 15.],\n",
       "       [ 8.,  9., 10., 11.],\n",
       "       [ 4.,  5.,  6.,  7.],\n",
       "       [ 0.,  1.,  2.,  3.]])"
      ]
     },
     "execution_count": 20,
     "metadata": {},
     "output_type": "execute_result"
    }
   ],
   "source": [
    "# permutation matrix to switch rows\n",
    "def switch_rows_permutation(A, source_list, target_list):\n",
    "    m,n = A.shape\n",
    "    P = np.eye(m)\n",
    "    for i in range(len(source_list)):\n",
    "        P[source_list[i], source_list[i]] = 0\n",
    "        P[target_list[i], target_list[i]] = 0\n",
    "        P[source_list[i], target_list[i]] = 1\n",
    "        P[target_list[i], source_list[i]] = 1\n",
    "    return P @ A\n",
    "x = np.arange(16).reshape(4,4)\n",
    "print(x)\n",
    "switch_rows_permutation(x, [0,1],[3,2])"
   ]
  },
  {
   "cell_type": "code",
   "execution_count": 4,
   "metadata": {},
   "outputs": [],
   "source": [
    "# communication matrix for transpose matrix\n",
    "# x[i,j] = x[i*n+j] -> 对于Python, matlab按行展开\n",
    "x = np.arange(12).reshape(4,3)\n",
    "for i in range(x.shape[0]):\n",
    "    for j in range(x.shape[1]):\n",
    "        print(f\"{x[i,j]} , {x.flatten()[i*x.shape[1]+j]}\")"
   ]
  },
  {
   "cell_type": "code",
   "execution_count": 5,
   "metadata": {},
   "outputs": [],
   "source": [
    "def transpose_by_commuinication_matrix(x):\n",
    "    m, n = x.shape\n",
    "    y = np.zeros((m*n,m*n))\n",
    "    x_flatten = x.flatten()\n",
    "    for i in range(m):\n",
    "        for j in range(i,n):\n",
    "            if i == j:\n",
    "              # 如果是对角线元素，则不改变，因此在communication matrix中[i*n+j,i*n+j] = 1\n",
    "              y[i*n+j,i*n+j] = 1\n",
    "            else:\n",
    "              # tranpose x[i,j] and x[j,i]\n",
    "              # 如果非对角线元素，则交换x[i,j]与x[j,i]- > x[i,j]在flatten中为i*n+j行，x[j,i]在flatten中为j*n+i行，因此是i*n+j,j*n+i=1表示第i*n+j行的元素是原来第j*n+i行，j*n+i,i*n+1=1第j*n+i行的元素是原来第i*n+j行\n",
    "              y[i*n+j,j*n+i] = 1\n",
    "              y[j*n+i,i*n+j] = 1\n",
    "    return y.dot(x_flatten).reshape(n,m),y"
   ]
  },
  {
   "cell_type": "code",
   "execution_count": 3,
   "metadata": {},
   "outputs": [
    {
     "name": "stdout",
     "output_type": "stream",
     "text": [
      "[[0 1 2]\n",
      " [3 4 5]\n",
      " [6 7 8]]\n"
     ]
    }
   ],
   "source": [
    "x = np.arange(9).reshape(3,3)\n",
    "print(x)"
   ]
  },
  {
   "cell_type": "code",
   "execution_count": 6,
   "metadata": {},
   "outputs": [],
   "source": [
    "y, y_comm = transpose(x)"
   ]
  },
  {
   "cell_type": "code",
   "execution_count": 10,
   "metadata": {},
   "outputs": [
    {
     "data": {
      "text/plain": [
       "array([[ True,  True,  True],\n",
       "       [ True,  True,  True],\n",
       "       [ True,  True,  True]])"
      ]
     },
     "execution_count": 10,
     "metadata": {},
     "output_type": "execute_result"
    }
   ],
   "source": [
    "x.T == y"
   ]
  },
  {
   "cell_type": "code",
   "execution_count": 20,
   "metadata": {},
   "outputs": [],
   "source": [
    "m,n = x.shape"
   ]
  },
  {
   "cell_type": "code",
   "execution_count": 21,
   "metadata": {},
   "outputs": [
    {
     "data": {
      "text/plain": [
       "3"
      ]
     },
     "execution_count": 21,
     "metadata": {},
     "output_type": "execute_result"
    }
   ],
   "source": [
    "m"
   ]
  },
  {
   "cell_type": "code",
   "execution_count": null,
   "metadata": {},
   "outputs": [],
   "source": [
    "for i in range"
   ]
  }
 ],
 "metadata": {
  "kernelspec": {
   "display_name": "esm_if",
   "language": "python",
   "name": "python3"
  },
  "language_info": {
   "codemirror_mode": {
    "name": "ipython",
    "version": 3
   },
   "file_extension": ".py",
   "mimetype": "text/x-python",
   "name": "python",
   "nbconvert_exporter": "python",
   "pygments_lexer": "ipython3",
   "version": "3.8.17"
  }
 },
 "nbformat": 4,
 "nbformat_minor": 2
}
