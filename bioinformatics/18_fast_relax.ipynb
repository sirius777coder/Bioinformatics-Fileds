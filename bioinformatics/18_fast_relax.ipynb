{
 "cells": [
  {
   "cell_type": "markdown",
   "metadata": {},
   "source": [
    "## 2025 1. 26\n",
    "\n",
    "根据bennet fast relax + hhj 脚本进行threading - rosetta repack - fast relax的尝试"
   ]
  },
  {
   "cell_type": "code",
   "execution_count": 1,
   "metadata": {},
   "outputs": [],
   "source": [
    "from pyrosetta import *\n",
    "from pyrosetta.rosetta import *"
   ]
  },
  {
   "cell_type": "code",
   "execution_count": null,
   "metadata": {},
   "outputs": [
    {
     "name": "stdout",
     "output_type": "stream",
     "text": [
      "┌──────────────────────────────────────────────────────────────────────────────┐\n",
      "│                                 PyRosetta-4                                  │\n",
      "│              Created in JHU by Sergey Lyskov and PyRosetta Team              │\n",
      "│              (C) Copyright Rosetta Commons Member Institutions               │\n",
      "│                                                                              │\n",
      "│ NOTE: USE OF PyRosetta FOR COMMERCIAL PURPOSES REQUIRE PURCHASE OF A LICENSE │\n",
      "│         See LICENSE.PyRosetta.md or email license@uw.edu for details         │\n",
      "└──────────────────────────────────────────────────────────────────────────────┘\n",
      "PyRosetta-4 2025 [Rosetta PyRosetta4.conda.ubuntu.cxx11thread.serialization.Ubuntu.python38.Release 2025.03+release.1f5080a079a5261122c0e532c46f61a4f7e20df8 2025-01-13T15:37:50] retrieved from: http://www.pyrosetta.org\n"
     ]
    }
   ],
   "source": [
    "init( \"-beta_nov16 -in:file:silent_struct_type binary -mute all\" +\n",
    "    \" -use_terminal_residues true -mute basic.io.database core.scoring\" )\n"
   ]
  },
  {
   "cell_type": "code",
   "execution_count": 7,
   "metadata": {},
   "outputs": [],
   "source": [
    "# Loading xml and mover\n",
    "xml = os.path.join('RosettaFastRelaxUtil.xml')\n",
    "objs = protocols.rosetta_scripts.XmlObjects.create_from_file(xml)\n",
    "\n",
    "detect_symm = objs.get_mover('detect_symm')\n",
    "packer = objs.get_mover('repack')\n",
    "FastRelax = objs.get_mover('FastRelax')"
   ]
  },
  {
   "cell_type": "code",
   "execution_count": 8,
   "metadata": {},
   "outputs": [
    {
     "name": "stdout",
     "output_type": "stream",
     "text": [
      "Detecting symmetry...\n"
     ]
    }
   ],
   "source": [
    "# loading pose\n",
    "pose = pose_from_pdb('fast_relax_folder/TMHC8.pdb')\n",
    "print('Detecting symmetry...')\n",
    "detect_symm.apply(pose)"
   ]
  },
  {
   "cell_type": "code",
   "execution_count": 12,
   "metadata": {},
   "outputs": [],
   "source": [
    "alpha_1 = list(\"ARNDCQEGHILKMFPSTWYV-\")\n",
    "states = len(alpha_1)\n",
    "alpha_3 = ['ALA','ARG','ASN','ASP','CYS','GLN','GLU','GLY','HIS','ILE',\n",
    "           'LEU','LYS','MET','PHE','PRO','SER','THR','TRP','TYR','VAL','GAP']\n",
    "\n",
    "aa_1_N = {a:n for n,a in enumerate(alpha_1)}\n",
    "aa_3_N = {a:n for n,a in enumerate(alpha_3)}\n",
    "aa_N_1 = {n:a for n,a in enumerate(alpha_1)}\n",
    "aa_1_3 = {a:b for a,b in zip(alpha_1,alpha_3)}\n",
    "aa_3_1 = {b:a for a,b in zip(alpha_1,alpha_3)}\n"
   ]
  },
  {
   "cell_type": "code",
   "execution_count": 13,
   "metadata": {},
   "outputs": [
    {
     "data": {
      "text/plain": [
       "True"
      ]
     },
     "execution_count": 13,
     "metadata": {},
     "output_type": "execute_result"
    }
   ],
   "source": [
    "rsd_set = pose.residue_type_set_for_pose(core.chemical.FULL_ATOM_t )\n",
    "nemo_seq = \"GARRRLRLLFLILLLVFLLFILLAFLLLLLIFVFFYKMREEIKKLEKEGAASGREIAKMEMDHYNNLLDHVLRLSAIFSDSIIRLLELLMRLVEMILEYA\" * 8 \n",
    "for resi, mut_to in enumerate(nemo_seq):\n",
    "    resi += 1 # 1 indexing\n",
    "    name3 = aa_1_3[ mut_to ]\n",
    "    new_res = core.conformation.ResidueFactory.create_residue( rsd_set.name_map( name3 ) )\n",
    "    pose.replace_residue( resi, new_res, True )\n",
    "# save the pose\n",
    "pose.dump_pdb('fast_relax_folder/TMHC8_mutated.pdb')"
   ]
  },
  {
   "cell_type": "code",
   "execution_count": null,
   "metadata": {},
   "outputs": [
    {
     "data": {
      "text/plain": [
       "True"
      ]
     },
     "execution_count": 25,
     "metadata": {},
     "output_type": "execute_result"
    }
   ],
   "source": [
    "# Repacking\n",
    "print(\"threading mpnn sequence...\")\n",
    "packer.apply(pose)\n",
    "# save the pose\n",
    "pose.dump_pdb('fast_relax_folder/TMHC8_mutated_repacked.pdb')\n",
    "\n",
    "# FastRelax\n",
    "print('Running FastRelax...')\n",
    "FastRelax.apply(pose)\n",
    "# save the pose\n",
    "pose.dump_pdb('fast_relax_folder/TMHC8_mutated_repacked_fastrelaxed.pdb')"
   ]
  },
  {
   "cell_type": "code",
   "execution_count": null,
   "metadata": {},
   "outputs": [],
   "source": []
  }
 ],
 "metadata": {
  "kernelspec": {
   "display_name": "protein_design",
   "language": "python",
   "name": "python3"
  },
  "language_info": {
   "codemirror_mode": {
    "name": "ipython",
    "version": 3
   },
   "file_extension": ".py",
   "mimetype": "text/x-python",
   "name": "python",
   "nbconvert_exporter": "python",
   "pygments_lexer": "ipython3",
   "version": "3.8.20"
  }
 },
 "nbformat": 4,
 "nbformat_minor": 2
}
