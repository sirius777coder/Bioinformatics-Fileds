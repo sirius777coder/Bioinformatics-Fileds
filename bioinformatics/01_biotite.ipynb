{
 "cells": [
  {
   "attachments": {},
   "cell_type": "markdown",
   "metadata": {},
   "source": [
    "---\n",
    "\n",
    "# Biotite documentation\n",
    "\n",
    "---\n",
    "https://www.biotite-python.org/\n",
    "\n",
    "目标\n",
    "- 梳理tutorial的基本内容，熟悉一下biotite处理生物大分子对象的底层逻辑\n",
    "- 结合ESM的模块，生成自己用于数据处理的code\n",
    "\n",
    "biotite的基本内容:\n",
    "1. Searching and fetching data from biological databases\n",
    "2. Reading and writing popular sequence/structure file formats\n",
    "3. Analyzing and editing sequence/structure data\n",
    "4. Visualizing sequence/structure data\n",
    "5. Interfacing external applications for further analysis\n",
    "\n",
    "biotite和biopython最大的区别: biotite在内部将大部分对象存储在numpy ndarray的形式，更方便外部索引和加速\n"
   ]
  },
  {
   "attachments": {},
   "cell_type": "markdown",
   "metadata": {},
   "source": [
    "## sequence subpackage"
   ]
  },
  {
   "cell_type": "code",
   "execution_count": null,
   "metadata": {},
   "outputs": [],
   "source": []
  },
  {
   "attachments": {},
   "cell_type": "markdown",
   "metadata": {},
   "source": [
    "## structure subpackage\n",
    "\n",
    "This subpackage enables handling of 3D structures of biomolecules. Simplified, a structure is represented by a list of atoms and their properties, based on ndarray objects. Optionally, this representation can be enriched with chemical bond information. Biotite supports different structure formats, including the ones provided by the RCSB and Gromacs trajectory formats. The subpackage offers a wide range of functions for atom filtering, coordinate transformations, angle and bond measurements, accessible surface area calculation, structure superimposition and more.\n",
    "\n",
    "`biotite.structure`是处理结构的模块，主要包含三个部分，`Atom,AtomArray,AtomArrayStack`，分别对应了单个原子，一个model的所有原子，所有model的所有原子。这些模块的底层都是用numpy来实现存储的"
   ]
  },
  {
   "attachments": {},
   "cell_type": "markdown",
   "metadata": {},
   "source": [
    "### Creating structures"
   ]
  },
  {
   "cell_type": "code",
   "execution_count": 2,
   "metadata": {},
   "outputs": [],
   "source": [
    "import biotite.structure as struc\n",
    "atom1 = struc.Atom([0,0,0],chain_id=\"A\",res_id=1,res_name=\"GLY\",atom_name=\"N\",element=\"N\")\n",
    "atom2 = struc.Atom([0,1,1],chain_id=\"A\",res_id=1,res_name=\"GLY\",atom_name=\"CA\",element=\"C\")\n",
    "atom3 = struc.Atom([0,0,2],chain_id=\"A\",res_id=1,res_name=\"GLY\",atom_name=\"C\",element=\"C\")"
   ]
  },
  {
   "attachments": {},
   "cell_type": "markdown",
   "metadata": {},
   "source": [
    "第一个参数是坐标，在内部被转化为`numpy ndarray`，其余参数是注释，包括了chain ID,residue Id, residue name, insertion code, atom name, element, hetero(whethere the atom is not in protein/nucleotide chain)，如果在创建atom的时候忽视了这些注释那么就会得到默认值，The mandatory annotation categories 来自PDB格式的ATO吗和HETATM格式记录。也可以任意指定annotation比如b_factor和带电量等，具体可以参考 https://www.biotite-python.org/apidoc/biotite.structure.html 。\n",
    "\n",
    "如果想要控制整个大分子结构，一般更常见的是使用AtomArray或者AtomArrayStack。AtomArray内部并不是用数组来存储相关的内容，而是对每一个annotation和坐标存储一个ndarray (ndarray 是numpy array的数据类型，dtpye为str时用来存储annotation)"
   ]
  },
  {
   "cell_type": "code",
   "execution_count": 9,
   "metadata": {},
   "outputs": [
    {
     "name": "stdout",
     "output_type": "stream",
     "text": [
      "Chain ID:['A' 'A' 'A']\n",
      "Residue ID:[1 1 1]\n",
      "Atom name:['N' 'CA' 'C']\n",
      "Coordinates:[[0. 0. 0.]\n",
      " [0. 1. 1.]\n",
      " [0. 0. 2.]]\n",
      "    A       1  GLY N      N         0.000    0.000    0.000\n",
      "    A       1  GLY CA     C         0.000    1.000    1.000\n",
      "    A       1  GLY C      C         0.000    0.000    2.000\n"
     ]
    }
   ],
   "source": [
    "import numpy as np\n",
    "array = struc.array([atom1,atom2,atom3])\n",
    "print(f\"Chain ID:{array.chain_id}\")\n",
    "print(f\"Residue ID:{array.res_id}\")\n",
    "print(f\"Atom name:{array.atom_name}\")\n",
    "print(f\"Coordinates:{array.coord}\")\n",
    "print(array)"
   ]
  },
  {
   "attachments": {},
   "cell_type": "markdown",
   "metadata": {},
   "source": [
    "`biotite.structure.array()` 内置函数输入一个包含`Atom instance`的可迭代对象，来生成`AtomArray()`，由于`AtomArray()`本身就是一个可迭代对象，你甚至可以用`AtomArray()`来生成另一个`AtomArray()`。注意到生成的annotation ndarray size=(n,)，coordinate ndarray size=(n,3)"
   ]
  },
  {
   "cell_type": "code",
   "execution_count": 17,
   "metadata": {},
   "outputs": [
    {
     "name": "stdout",
     "output_type": "stream",
     "text": [
      "    B       1  GLY N      N         0.000    0.000    0.000\n",
      "    B       2  GLY CA     C         0.000    0.000    0.000\n",
      "    B       3  GLY C      C         0.000    0.000    0.000\n"
     ]
    }
   ],
   "source": [
    "# 根据annotation来numpy式的过滤coordinate\n",
    "array.chain_id[:] = \"B\"\n",
    "array.coord[array.chain_id == \"B\"] = np.array([0.0,0.0,0.0])\n",
    "# It is also possible to replace an entire annotation with another array\n",
    "array.res_id = np.array([1,2,3])\n",
    "print(array)"
   ]
  },
  {
   "attachments": {},
   "cell_type": "markdown",
   "metadata": {},
   "source": [
    "可以利用`array.add_annotation()` or `array.set_annotation()`来为array增添一个annotation"
   ]
  },
  {
   "cell_type": "code",
   "execution_count": 18,
   "metadata": {},
   "outputs": [
    {
     "name": "stdout",
     "output_type": "stream",
     "text": [
      "[False False False]\n",
      "[1 2 3]\n"
     ]
    }
   ],
   "source": [
    "array.add_annotation(\"foo\", dtype=bool)\n",
    "array.set_annotation(\"bar\", [1, 2, 3])\n",
    "print(array.foo)\n",
    "print(array.bar)"
   ]
  },
  {
   "attachments": {},
   "cell_type": "markdown",
   "metadata": {},
   "source": [
    "为了处理每个原子出现在不同位置的情况，比如在NMR结构中可能会有多个model，或者是MD traj会有成千上万个轨迹，此时就需要`AtomArrayStack` object来处理这种情况。annotation仍然是一个长度为n的 object array，但是coordinates就是一个(m,n,3)-shaped ndarray"
   ]
  },
  {
   "cell_type": "code",
   "execution_count": 19,
   "metadata": {},
   "outputs": [
    {
     "name": "stdout",
     "output_type": "stream",
     "text": [
      "Model 1\n",
      "    B       1  GLY N      N         0.000    0.000    0.000\n",
      "    B       2  GLY CA     C         0.000    0.000    0.000\n",
      "    B       3  GLY C      C         0.000    0.000    0.000\n",
      "\n",
      "Model 2\n",
      "    B       1  GLY N      N         0.000    0.000    0.000\n",
      "    B       2  GLY CA     C         0.000    0.000    0.000\n",
      "    B       3  GLY C      C         0.000    0.000    0.000\n",
      "\n",
      "\n"
     ]
    }
   ],
   "source": [
    "stack = struc.stack([array,array.copy()])\n",
    "print(stack)"
   ]
  },
  {
   "attachments": {},
   "cell_type": "markdown",
   "metadata": {},
   "source": [
    "### Loading structures from file\n",
    "\n",
    "根据`biotite.structure.io.pdb`里的PDBFile包来进行io操作"
   ]
  },
  {
   "cell_type": "code",
   "execution_count": 21,
   "metadata": {},
   "outputs": [
    {
     "name": "stdout",
     "output_type": "stream",
     "text": [
      "AtomArrayStack\n",
      "38\n",
      "304\n",
      "(38, 304)\n"
     ]
    }
   ],
   "source": [
    "import biotite.structure.io.pdb as pdb\n",
    "import biotite.database.rcsb as rcsb\n",
    "from tempfile import gettempdir, NamedTemporaryFile\n",
    "\n",
    "pdb_file_path = rcsb.fetch(\"1l2y\", \"pdb\", gettempdir())\n",
    "pdb_file = pdb.PDBFile.read(pdb_file_path)\n",
    "tc5b = pdb_file.get_structure()\n",
    "print(type(tc5b).__name__)\n",
    "print(tc5b.stack_depth())\n",
    "print(tc5b.array_length())\n",
    "print(tc5b.shape)"
   ]
  },
  {
   "cell_type": "code",
   "execution_count": null,
   "metadata": {},
   "outputs": [],
   "source": []
  }
 ],
 "metadata": {
  "kernelspec": {
   "display_name": "esmfold",
   "language": "python",
   "name": "python3"
  },
  "language_info": {
   "codemirror_mode": {
    "name": "ipython",
    "version": 3
   },
   "file_extension": ".py",
   "mimetype": "text/x-python",
   "name": "python",
   "nbconvert_exporter": "python",
   "pygments_lexer": "ipython3",
   "version": "3.8.0"
  },
  "orig_nbformat": 4,
  "vscode": {
   "interpreter": {
    "hash": "59ac7c7a591b3b1c7843a2ac3c1da3475c2ffdc4684f266052d1e649f1d10700"
   }
  }
 },
 "nbformat": 4,
 "nbformat_minor": 2
}
