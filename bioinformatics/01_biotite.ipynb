{
 "cells": [
  {
   "attachments": {},
   "cell_type": "markdown",
   "metadata": {},
   "source": [
    "---\n",
    "\n",
    "# Biotite documentation\n",
    "\n",
    "---\n",
    "https://www.biotite-python.org/\n",
    "\n",
    "目标\n",
    "- 梳理tutorial的基本内容，熟悉一下biotite处理生物大分子对象的底层逻辑\n",
    "- 结合ESM的模块，生成自己用于数据处理的code\n",
    "\n",
    "biotite的基本内容:\n",
    "1. Searching and fetching data from biological databases\n",
    "2. Reading and writing popular sequence/structure file formats\n",
    "3. Analyzing and editing sequence/structure data\n",
    "4. Visualizing sequence/structure data\n",
    "5. Interfacing external applications for further analysis\n",
    "\n",
    "biotite和biopython最大的区别: biotite在内部将大部分对象存储在numpy ndarray的形式，更方便外部索引和加速\n"
   ]
  },
  {
   "attachments": {},
   "cell_type": "markdown",
   "metadata": {},
   "source": [
    "## sequence subpackage"
   ]
  },
  {
   "cell_type": "code",
   "execution_count": null,
   "metadata": {},
   "outputs": [],
   "source": []
  },
  {
   "attachments": {},
   "cell_type": "markdown",
   "metadata": {},
   "source": [
    "## structure subpackage\n",
    "\n",
    "This subpackage enables handling of 3D structures of biomolecules. Simplified, a structure is represented by a list of atoms and their properties, based on ndarray objects. Optionally, this representation can be enriched with chemical bond information. Biotite supports different structure formats, including the ones provided by the RCSB and Gromacs trajectory formats. The subpackage offers a wide range of functions for atom filtering, coordinate transformations, angle and bond measurements, accessible surface area calculation, structure superimposition and more.\n",
    "\n",
    "`biotite.structure`是处理结构的模块，主要包含三个部分，`Atom,AtomArray,AtomArrayStack`，分别对应了单个原子，一个model的所有原子，所有model的所有原子。这些模块的底层都是用numpy来实现存储的"
   ]
  },
  {
   "attachments": {},
   "cell_type": "markdown",
   "metadata": {},
   "source": [
    "### Creating structures"
   ]
  },
  {
   "cell_type": "code",
   "execution_count": 1,
   "metadata": {},
   "outputs": [],
   "source": [
    "import biotite.structure as struc\n",
    "atom1 = struc.Atom([0,0,0],chain_id=\"A\",res_id=1,res_name=\"GLY\",atom_name=\"N\",element=\"N\")\n",
    "atom2 = struc.Atom([0,1,1],chain_id=\"A\",res_id=1,res_name=\"GLY\",atom_name=\"CA\",element=\"C\")\n",
    "atom3 = struc.Atom([0,0,2],chain_id=\"A\",res_id=1,res_name=\"GLY\",atom_name=\"C\",element=\"C\")"
   ]
  },
  {
   "attachments": {},
   "cell_type": "markdown",
   "metadata": {},
   "source": [
    "第一个参数是坐标，在内部被转化为`numpy ndarray`，其余参数是注释，包括了chain ID,residue Id, residue name, insertion code, atom name, element, hetero(whethere the atom is not in protein/nucleotide chain)，如果在创建atom的时候忽视了这些注释那么就会得到默认值，The mandatory annotation categories 来自PDB格式的ATO吗和HETATM格式记录。也可以任意指定annotation比如b_factor和带电量等，具体可以参考 https://www.biotite-python.org/apidoc/biotite.structure.html 。\n",
    "\n",
    "如果想要控制整个大分子结构，一般更常见的是使用AtomArray或者AtomArrayStack。AtomArray内部并不是用数组来存储相关的内容，而是对每一个annotation和坐标存储一个ndarray (ndarray 是numpy array的数据类型，dtpye为str时用来存储annotation)"
   ]
  },
  {
   "cell_type": "code",
   "execution_count": 2,
   "metadata": {},
   "outputs": [
    {
     "name": "stdout",
     "output_type": "stream",
     "text": [
      "Chain ID:['A' 'A' 'A']\n",
      "Residue ID:[1 1 1]\n",
      "Atom name:['N' 'CA' 'C']\n",
      "Coordinates:[[0. 0. 0.]\n",
      " [0. 1. 1.]\n",
      " [0. 0. 2.]]\n",
      "    A       1  GLY N      N         0.000    0.000    0.000\n",
      "    A       1  GLY CA     C         0.000    1.000    1.000\n",
      "    A       1  GLY C      C         0.000    0.000    2.000\n"
     ]
    }
   ],
   "source": [
    "import numpy as np\n",
    "array = struc.array([atom1,atom2,atom3])\n",
    "print(f\"Chain ID:{array.chain_id}\")\n",
    "print(f\"Residue ID:{array.res_id}\")\n",
    "print(f\"Atom name:{array.atom_name}\")\n",
    "print(f\"Coordinates:{array.coord}\")\n",
    "print(array)"
   ]
  },
  {
   "attachments": {},
   "cell_type": "markdown",
   "metadata": {},
   "source": [
    "`biotite.structure.array()` 内置函数输入一个包含`Atom instance`的可迭代对象，来生成`AtomArray()`，由于`AtomArray()`本身就是一个可迭代对象，你甚至可以用`AtomArray()`来生成另一个`AtomArray()`。注意到生成的annotation ndarray size=(n,)，coordinate ndarray size=(n,3)"
   ]
  },
  {
   "cell_type": "code",
   "execution_count": 3,
   "metadata": {},
   "outputs": [
    {
     "name": "stdout",
     "output_type": "stream",
     "text": [
      "    B       1  GLY N      N         0.000    0.000    0.000\n",
      "    B       2  GLY CA     C         0.000    0.000    0.000\n",
      "    B       3  GLY C      C         0.000    0.000    0.000\n"
     ]
    }
   ],
   "source": [
    "# 根据annotation来numpy式的过滤coordinate\n",
    "array.chain_id[:] = \"B\"\n",
    "array.coord[array.chain_id == \"B\"] = np.array([0.0,0.0,0.0])\n",
    "# It is also possible to replace an entire annotation with another array\n",
    "array.res_id = np.array([1,2,3])\n",
    "print(array)"
   ]
  },
  {
   "attachments": {},
   "cell_type": "markdown",
   "metadata": {},
   "source": [
    "可以利用`array.add_annotation()` or `array.set_annotation()`来为array增添一个annotation"
   ]
  },
  {
   "cell_type": "code",
   "execution_count": 4,
   "metadata": {},
   "outputs": [
    {
     "name": "stdout",
     "output_type": "stream",
     "text": [
      "[False False False]\n",
      "[1 2 3]\n"
     ]
    }
   ],
   "source": [
    "array.add_annotation(\"foo\", dtype=bool)\n",
    "array.set_annotation(\"bar\", [1, 2, 3])\n",
    "print(array.foo)\n",
    "print(array.bar)"
   ]
  },
  {
   "attachments": {},
   "cell_type": "markdown",
   "metadata": {},
   "source": [
    "为了处理每个原子出现在不同位置的情况，比如在NMR结构中可能会有多个model，或者是MD traj会有成千上万个轨迹，此时就需要`AtomArrayStack` object来处理这种情况。annotation仍然是一个长度为n的 object array，但是coordinates就是一个(m,n,3)-shaped ndarray"
   ]
  },
  {
   "cell_type": "code",
   "execution_count": 5,
   "metadata": {},
   "outputs": [
    {
     "name": "stdout",
     "output_type": "stream",
     "text": [
      "Model 1\n",
      "    B       1  GLY N      N         0.000    0.000    0.000\n",
      "    B       2  GLY CA     C         0.000    0.000    0.000\n",
      "    B       3  GLY C      C         0.000    0.000    0.000\n",
      "\n",
      "Model 2\n",
      "    B       1  GLY N      N         0.000    0.000    0.000\n",
      "    B       2  GLY CA     C         0.000    0.000    0.000\n",
      "    B       3  GLY C      C         0.000    0.000    0.000\n",
      "\n",
      "\n"
     ]
    }
   ],
   "source": [
    "stack = struc.stack([array,array.copy()])\n",
    "print(stack)"
   ]
  },
  {
   "attachments": {},
   "cell_type": "markdown",
   "metadata": {},
   "source": [
    "### Loading structures from file\n",
    "\n",
    "根据`biotite.structure.io.pdb`里的PDBFile包来进行io操作"
   ]
  },
  {
   "cell_type": "code",
   "execution_count": 6,
   "metadata": {},
   "outputs": [
    {
     "name": "stdout",
     "output_type": "stream",
     "text": [
      "AtomArrayStack\n",
      "38\n",
      "304\n",
      "(38, 304)\n"
     ]
    }
   ],
   "source": [
    "import biotite.structure.io.pdb as pdb\n",
    "import biotite.database.rcsb as rcsb\n",
    "from tempfile import gettempdir, NamedTemporaryFile\n",
    "\n",
    "pdb_file_path = rcsb.fetch(\"1l2y\", \"pdb\", gettempdir())\n",
    "pdb_file = pdb.PDBFile.read(pdb_file_path)\n",
    "tc5b = pdb_file.get_structure()\n",
    "print(type(tc5b).__name__)\n",
    "print(tc5b.stack_depth())\n",
    "print(tc5b.array_length())\n",
    "print(tc5b.shape)"
   ]
  },
  {
   "attachments": {},
   "cell_type": "markdown",
   "metadata": {},
   "source": [
    "利用`PDBFile` class来保存结构"
   ]
  },
  {
   "cell_type": "code",
   "execution_count": 7,
   "metadata": {},
   "outputs": [],
   "source": [
    "pdb_file = pdb.PDBFile()\n",
    "pdb_file.set_structure(tc5b)\n",
    "temp_file = NamedTemporaryFile(suffix=\".pdb\", delete=False)\n",
    "pdb_file.write(temp_file.name)\n",
    "temp_file.close()"
   ]
  },
  {
   "attachments": {},
   "cell_type": "markdown",
   "metadata": {},
   "source": [
    "注意到使用`biotite.structure.io.pdb`模块进行io操作时，除了原子的基本信息，其余信息比如（二级结构、作者、解析日期）等并不会保留，所以更好等建议是使用PDBx/mmCIF格式来进行io操作，biotite可以通过类似字典的方式来保存信息，只是要用到`PDBxFile` class"
   ]
  },
  {
   "cell_type": "code",
   "execution_count": 8,
   "metadata": {},
   "outputs": [],
   "source": [
    "import biotite.structure.io.pdbx as pdbx\n",
    "cif_file_path = rcsb.fetch(\"1l2y\",\"cif\",gettempdir())\n",
    "cif_file = pdbx.PDBxFile.read(cif_file_path)"
   ]
  },
  {
   "cell_type": "code",
   "execution_count": 9,
   "metadata": {},
   "outputs": [],
   "source": [
    "tc5b = pdbx.get_structure(cif_file,model=1)\n",
    "pdbx.set_structure(cif_file, tc5b)\n"
   ]
  },
  {
   "attachments": {},
   "cell_type": "markdown",
   "metadata": {},
   "source": [
    "`get_structure()`是来创建AtomArrayStack对象（即使只有1个model），如果想要制定AtomArray，可制指定用第几个model。`set_structure()`是为一个PDB,mmCIF文件对象来指定结构\n",
    "\n",
    "如果想要解析一个batch许多结构文件或loading很大的文件，使用PDB或者mmCIF文件可能比较慢，可以使用MMTF文件格式，MMTF是通过二进制文件来表示结构，信息与PDB和mmCIF相同。"
   ]
  },
  {
   "attachments": {},
   "cell_type": "markdown",
   "metadata": {},
   "source": [
    "### Array indexing and filtering"
   ]
  },
  {
   "cell_type": "code",
   "execution_count": 10,
   "metadata": {},
   "outputs": [
    {
     "name": "stdout",
     "output_type": "stream",
     "text": [
      "AtomArrayStack\n",
      "(38, 304)\n",
      "AtomArray\n",
      "(304,)\n",
      "Atom\n",
      "()\n"
     ]
    }
   ],
   "source": [
    "from tempfile import gettempdir\n",
    "import biotite.structure as struc\n",
    "import biotite.database.rcsb as rcsb\n",
    "import biotite.structure.io as strucio\n",
    "\n",
    "file_path = rcsb.fetch(\"1l2y\", \"mmtf\", gettempdir())\n",
    "stack = strucio.load_structure(file_path)\n",
    "print(type(stack).__name__)\n",
    "print(stack.shape)\n",
    "# Get the third model\n",
    "array = stack[0]\n",
    "print(type(array).__name__)\n",
    "print(array.shape)\n",
    "# Get the fifth atom\n",
    "atom = array[0]\n",
    "print(type(atom).__name__)\n",
    "print(atom.shape)"
   ]
  },
  {
   "attachments": {},
   "cell_type": "markdown",
   "metadata": {},
   "source": [
    "atom array的索引机制和ndarray完全一样，通过single value索引AtomArrayStack->AtomArray->Atom。shape属性和ndarray对象的shape属性一样，`stack_depth()`和`array_length()`可以用来看有多少个model和原子"
   ]
  },
  {
   "cell_type": "code",
   "execution_count": 11,
   "metadata": {},
   "outputs": [],
   "source": [
    "# get the first atom\n",
    "atom = array[0]\n",
    "\n",
    "# get the third and the third atom\n",
    "subarray = array[[0,2]]\n",
    "\n",
    "# get a subarray containing a range of atoms using slices\n",
    "subarray = array[100:200]\n",
    "\n",
    "# Filter all carbon atoms in resiude1\n",
    "subarray = array[(array.element == \"C\") & (array.res_id == 1)]\n",
    "# Filter all atoms where the X-coordinate is smaller than 2\n",
    "subarray = array[array.coord[:,0] < 2]"
   ]
  },
  {
   "cell_type": "code",
   "execution_count": 12,
   "metadata": {},
   "outputs": [
    {
     "data": {
      "text/plain": [
       "(304, 3)"
      ]
     },
     "execution_count": 12,
     "metadata": {},
     "output_type": "execute_result"
    }
   ],
   "source": [
    "array.coord.shape"
   ]
  },
  {
   "cell_type": "code",
   "execution_count": 13,
   "metadata": {},
   "outputs": [
    {
     "name": "stdout",
     "output_type": "stream",
     "text": [
      "['N' 'CA' 'C' 'N' 'CA' 'C' 'N' 'CA' 'C' 'N' 'CA' 'C' 'N' 'CA' 'C' 'N' 'CA'\n",
      " 'C' 'N' 'CA' 'C' 'N' 'CA' 'C' 'N' 'CA' 'C' 'N' 'CA' 'C' 'N' 'CA' 'C' 'N'\n",
      " 'CA' 'C' 'N' 'CA' 'C' 'N' 'CA' 'C' 'N' 'CA' 'C' 'N' 'CA' 'C' 'N' 'CA' 'C'\n",
      " 'N' 'CA' 'C' 'N' 'CA' 'C' 'N' 'CA' 'C']\n"
     ]
    }
   ],
   "source": [
    "backbone = array[struc.filter_backbone(array)]\n",
    "print(backbone.atom_name)"
   ]
  },
  {
   "attachments": {},
   "cell_type": "markdown",
   "metadata": {},
   "source": [
    "### Representing Bonds"
   ]
  },
  {
   "cell_type": "code",
   "execution_count": 14,
   "metadata": {},
   "outputs": [
    {
     "name": "stdout",
     "output_type": "stream",
     "text": [
      "Atoms: ['N' 'CA' 'C' 'CB']\n",
      "Bonds (indices):\n",
      "[[0 1 0]\n",
      " [1 2 0]\n",
      " [1 3 0]]\n"
     ]
    }
   ],
   "source": [
    "from tempfile import gettempdir\n",
    "import biotite.structure as struc\n",
    "\n",
    "array = struc.array([\n",
    "    struc.Atom([0,0,0], atom_name=\"N\"),\n",
    "    struc.Atom([0,0,0], atom_name=\"CA\"),\n",
    "    struc.Atom([0,0,0], atom_name=\"C\"),\n",
    "    struc.Atom([0,0,0], atom_name=\"CB\")\n",
    "])\n",
    "print(\"Atoms:\", array.atom_name)\n",
    "\n",
    "bond_list = struc.BondList(\n",
    "    array.array_length(),\n",
    "    np.array([[1,0], [1,2], [1,3]])\n",
    ")\n",
    "print(\"Bonds (indices):\")\n",
    "print(bond_list.as_array())"
   ]
  },
  {
   "cell_type": "code",
   "execution_count": 15,
   "metadata": {},
   "outputs": [
    {
     "name": "stdout",
     "output_type": "stream",
     "text": [
      "Bonds (atoms names):\n",
      "[['N' 'CA']\n",
      " ['CA' 'C']\n",
      " ['CA' 'CB']]\n"
     ]
    }
   ],
   "source": [
    "print(\"Bonds (atoms names):\")\n",
    "print(array.atom_name[bond_list.as_array()[:, :2]])"
   ]
  },
  {
   "cell_type": "code",
   "execution_count": 16,
   "metadata": {},
   "outputs": [
    {
     "name": "stdout",
     "output_type": "stream",
     "text": [
      "Bonds of CA: ['N' 'C' 'CB']\n"
     ]
    }
   ],
   "source": [
    "ca_bonds, ca_bond_types = bond_list.get_bonds(1)\n",
    "print(\"Bonds of CA:\", array.atom_name[ca_bonds])"
   ]
  },
  {
   "attachments": {},
   "cell_type": "markdown",
   "metadata": {},
   "source": [
    "注意到内部的化学键存储的方式类似于一个由链表组成的列表(`biotite.structure.BondList.as_array()`)，理论上这是最节省空间的图的表示方法，一共会返回一个`(N,3)`的ndarray, N表示原子之间一共有多少条边, 3列中的前两列由小到大表示边的索引，第三列表示边的类型`BondType`, 0代表BondType.ANY，表示边没定义。\n",
    "\n",
    "注意到虽然边是用ndarray定义的，但是索引的方式比较奇怪，索引需要对atom_array进行索引，以删除C原子所在的边为例子"
   ]
  },
  {
   "cell_type": "code",
   "execution_count": 17,
   "metadata": {},
   "outputs": [
    {
     "name": "stdout",
     "output_type": "stream",
     "text": [
      "Atoms: ['N' 'CA' 'CB']\n",
      "Bonds (indices):\n",
      "[[0 1 0]\n",
      " [1 2 0]]\n",
      "Bonds (atoms names):\n",
      "[['N' 'CA']\n",
      " ['CA' 'CB']]\n"
     ]
    }
   ],
   "source": [
    "mask = (array.atom_name != \"C\")\n",
    "sub_array = array[mask]\n",
    "sub_bond_list = bond_list[mask]\n",
    "print(\"Atoms:\", sub_array.atom_name)\n",
    "print(\"Bonds (indices):\")\n",
    "print(sub_bond_list.as_array())\n",
    "print(\"Bonds (atoms names):\")\n",
    "print(sub_array.atom_name[sub_bond_list.as_array()[:, :2]])\n"
   ]
  },
  {
   "attachments": {},
   "cell_type": "markdown",
   "metadata": {},
   "source": [
    "### Connecting atoms and bonds\n",
    "\n",
    "一旦创建了atom array之后只需要调用`array.bond=bond_list`就能够显示的将定义的bond_list关联到atom的属性，这样每次对array索引时，边也会自动索引"
   ]
  },
  {
   "cell_type": "code",
   "execution_count": 18,
   "metadata": {},
   "outputs": [
    {
     "name": "stdout",
     "output_type": "stream",
     "text": [
      "Bonds (atoms names):\n",
      "[['N' 'CA']\n",
      " ['CA' 'CB']]\n"
     ]
    }
   ],
   "source": [
    "array.bonds = bond_list\n",
    "sub_array = array[array.atom_name != \"C\"]\n",
    "print(\"Bonds (atoms names):\")\n",
    "print(sub_array.atom_name[sub_array.bonds.as_array()[:, :2]])"
   ]
  },
  {
   "attachments": {},
   "cell_type": "markdown",
   "metadata": {},
   "source": [
    "### Structure manipulation"
   ]
  },
  {
   "attachments": {},
   "cell_type": "markdown",
   "metadata": {},
   "source": [
    "直接读取结构文件后manipulate annotation和坐标"
   ]
  },
  {
   "cell_type": "code",
   "execution_count": 19,
   "metadata": {},
   "outputs": [
    {
     "name": "stdout",
     "output_type": "stream",
     "text": [
      "Before:\n",
      "    A       1  ASN N      N        -8.901    4.127   -0.555\n",
      "    A       1  ASN CA     C        -8.608    3.135   -1.618\n",
      "    A       1  ASN C      C        -7.117    2.964   -1.897\n",
      "    A       1  ASN O      O        -6.634    1.849   -1.758\n",
      "    A       1  ASN CB     C        -9.437    3.396   -2.889\n",
      "    A       1  ASN CG     C       -10.915    3.130   -2.611\n",
      "    A       1  ASN OD1    O       -11.269    2.700   -1.524\n",
      "    A       1  ASN ND2    N       -11.806    3.406   -3.543\n",
      "    A       1  ASN H1     H        -8.330    3.957    0.261\n",
      "    A       1  ASN H2     H        -8.740    5.068   -0.889\n",
      "    A       1  ASN H3     H        -9.877    4.041   -0.293\n",
      "    A       1  ASN HA     H        -8.930    2.162   -1.239\n",
      "    A       1  ASN HB2    H        -9.310    4.417   -3.193\n",
      "    A       1  ASN HB3    H        -9.108    2.719   -3.679\n",
      "    A       1  ASN HD21   H       -11.572    3.791   -4.444\n",
      "    A       1  ASN HD22   H       -12.757    3.183   -3.294\n",
      "\n",
      "After:\n",
      "    A       1  ASN N      N        91.099  104.127   99.445\n",
      "    A       1  ASN CA     C        91.392  103.135   98.382\n",
      "    A       1  ASN C      C        92.883  102.964   98.103\n",
      "    A       1  ASN O      O        93.366  101.849   98.242\n",
      "    A       1  ASN CB     C        90.563  103.396   97.111\n",
      "    A       1  ASN CG     C        89.085  103.130   97.389\n",
      "    A       1  ASN OD1    O        88.731  102.700   98.476\n",
      "    A       1  ASN ND2    N        88.194  103.406   96.457\n",
      "    A       1  ASN H1     H        91.670  103.957  100.261\n",
      "    A       1  ASN H2     H        91.260  105.068   99.111\n",
      "    A       1  ASN H3     H        90.123  104.041   99.707\n",
      "    A       1  ASN HA     H        91.070  102.162   98.761\n",
      "    A       1  ASN HB2    H        90.690  104.417   96.807\n",
      "    A       1  ASN HB3    H        90.892  102.719   96.321\n",
      "    A       1  ASN HD21   H        88.428  103.791   95.556\n",
      "    A       1  ASN HD22   H        87.243  103.183   96.706\n"
     ]
    }
   ],
   "source": [
    "from tempfile import gettempdir\n",
    "import biotite.database.rcsb as rcsb\n",
    "import biotite.structure as struc\n",
    "import biotite.structure.io.mmtf as mmtf\n",
    "import numpy as np\n",
    "\n",
    "file_path = rcsb.fetch(\"1l2y\", \"mmtf\", gettempdir())\n",
    "mmtf_file = mmtf.MMTFFile.read(file_path)\n",
    "structure = mmtf.get_structure(mmtf_file, model=1)\n",
    "print(\"Before:\")\n",
    "print(structure[structure.res_id == 1])\n",
    "print()\n",
    "structure.coord += 100\n",
    "print(\"After:\")\n",
    "print(structure[structure.res_id == 1])"
   ]
  },
  {
   "attachments": {},
   "cell_type": "markdown",
   "metadata": {},
   "source": [
    "除了直接对坐标和注释进行变化（存储的本质都是numpy.ndarray），还可以通过一些transformation函数，比如通过`rotate()`对x-,y-,z-进行旋转"
   ]
  },
  {
   "cell_type": "code",
   "execution_count": 20,
   "metadata": {},
   "outputs": [
    {
     "name": "stdout",
     "output_type": "stream",
     "text": [
      "Before:\n",
      "    A       1  ASN N      N        -8.901    4.127   -0.555\n",
      "    A       1  ASN CA     C        -8.608    3.135   -1.618\n",
      "    A       1  ASN C      C        -7.117    2.964   -1.897\n",
      "    A       1  ASN O      O        -6.634    1.849   -1.758\n",
      "    A       1  ASN CB     C        -9.437    3.396   -2.889\n",
      "    A       1  ASN CG     C       -10.915    3.130   -2.611\n",
      "    A       1  ASN OD1    O       -11.269    2.700   -1.524\n",
      "    A       1  ASN ND2    N       -11.806    3.406   -3.543\n",
      "    A       1  ASN H1     H        -8.330    3.957    0.261\n",
      "    A       1  ASN H2     H        -8.740    5.068   -0.889\n",
      "    A       1  ASN H3     H        -9.877    4.041   -0.293\n",
      "    A       1  ASN HA     H        -8.930    2.162   -1.239\n",
      "    A       1  ASN HB2    H        -9.310    4.417   -3.193\n",
      "    A       1  ASN HB3    H        -9.108    2.719   -3.679\n",
      "    A       1  ASN HD21   H       -11.572    3.791   -4.444\n",
      "    A       1  ASN HD22   H       -12.757    3.183   -3.294\n",
      "\n",
      "After:\n",
      "    A       1  ASN N      N        -4.127   -8.901   -0.555\n",
      "    A       1  ASN CA     C        -3.135   -8.608   -1.618\n",
      "    A       1  ASN C      C        -2.964   -7.117   -1.897\n",
      "    A       1  ASN O      O        -1.849   -6.634   -1.758\n",
      "    A       1  ASN CB     C        -3.396   -9.437   -2.889\n",
      "    A       1  ASN CG     C        -3.130  -10.915   -2.611\n",
      "    A       1  ASN OD1    O        -2.700  -11.269   -1.524\n",
      "    A       1  ASN ND2    N        -3.406  -11.806   -3.543\n",
      "    A       1  ASN H1     H        -3.957   -8.330    0.261\n",
      "    A       1  ASN H2     H        -5.068   -8.740   -0.889\n",
      "    A       1  ASN H3     H        -4.041   -9.877   -0.293\n",
      "    A       1  ASN HA     H        -2.162   -8.930   -1.239\n",
      "    A       1  ASN HB2    H        -4.417   -9.310   -3.193\n",
      "    A       1  ASN HB3    H        -2.719   -9.108   -3.679\n",
      "    A       1  ASN HD21   H        -3.791  -11.572   -4.444\n",
      "    A       1  ASN HD22   H        -3.183  -12.757   -3.294\n"
     ]
    }
   ],
   "source": [
    "structure = mmtf.get_structure(mmtf_file, model=1)\n",
    "print(\"Before:\")\n",
    "print(structure[structure.res_id == 1])\n",
    "print()\n",
    "# Rotation about z-axis by 90 degrees\n",
    "structure = struc.rotate(structure, [0, 0, np.deg2rad(90)])\n",
    "print(\"After:\")\n",
    "print(structure[structure.res_id == 1])"
   ]
  },
  {
   "attachments": {},
   "cell_type": "markdown",
   "metadata": {},
   "source": [
    "### Structure analysis\n",
    "\n",
    "最重要的分析结构的工具，可以有以下功能\n",
    "- bond angle\n",
    "- length mearsurements : `struc.distance()`\n",
    "- accessible surface area\n",
    "- secondary structure\n",
    "- radius gyration"
   ]
  },
  {
   "cell_type": "code",
   "execution_count": 21,
   "metadata": {},
   "outputs": [
    {
     "name": "stdout",
     "output_type": "stream",
     "text": [
      "Atom to atom: 3.876399\n",
      "Array to atom:\n",
      "[ 0.         3.876399   5.5766597  5.038891   6.316409   8.766815\n",
      "  9.908135  10.614817  12.890331  14.806679  13.5011635 16.87541\n",
      " 18.723566  17.224289  19.111933  16.193     15.514756  12.377812\n",
      " 10.445933  12.058967 ]\n",
      "[ 0.         3.876399   5.5766597  5.038891   6.316409   8.766815\n",
      "  9.908135  10.614817  12.890331  14.806679  13.5011635 16.87541\n",
      " 18.723566  17.224289  19.111933  16.193     15.514756  12.377812\n",
      " 10.445933  12.058967 ]\n",
      "Array to array:\n",
      "[3.4344199  0.37241507 0.22178602 0.10823133 0.15207201 0.17017055\n",
      " 0.22572783 0.47650498 0.29493213 0.1548351  0.2832347  0.40683934\n",
      " 0.1355508  0.3676874  0.46464393 0.57544243 0.33707416 0.25703317\n",
      " 0.34762198 0.38818687]\n",
      "Stack to atom:\n",
      "(38, 20)\n",
      "Adjacent CA distances\n",
      "[3.876399  3.8605015 3.87147   3.8455799 3.8666048 3.8585181 3.8818028\n",
      " 3.860987  3.8909183 3.8635552 3.8862703 3.8756127 3.8746684 3.8655493\n",
      " 3.8662775 3.8776622 3.8603828 3.8582468 3.8642192]\n"
     ]
    }
   ],
   "source": [
    "from tempfile import gettempdir\n",
    "import biotite.structure as struc\n",
    "import biotite.structure.io as strucio\n",
    "import biotite.database.rcsb as rcsb\n",
    "\n",
    "file_path = rcsb.fetch(\"1l2y\", \"mmtf\", gettempdir())\n",
    "stack = strucio.load_structure(file_path)\n",
    "# Filter only CA atoms\n",
    "stack = stack[:, stack.atom_name == \"CA\"]\n",
    "\n",
    "# Calculate distance between first and second CA in first frame\n",
    "array = stack[0]\n",
    "print(\"Atom to atom:\", struc.distance(array[0], array[1]))\n",
    "\n",
    "# Calculate distance between the first atom\n",
    "# and all other CA atoms in the array\n",
    "print(\"Array to atom:\")\n",
    "array = stack[0]\n",
    "print(struc.distance(array[0], array))\n",
    "\n",
    "array = stack[0]\n",
    "print(struc.distance(array[0], array))\n",
    "# Calculate pairwise distances between the CA atoms in the first frame\n",
    "# and the CA atoms in the second frame\n",
    "print(\"Array to array:\")\n",
    "print(struc.distance(stack[0], stack[1]))\n",
    "\n",
    "print(\"Stack to atom:\")\n",
    "print(struc.distance(stack, stack[0,0]).shape)\n",
    "# And finally distances between two adjacent CA in the first frame\n",
    "array = stack[0]\n",
    "print(\"Adjacent CA distances\")\n",
    "print(struc.distance(array[:-1], array[1:]))\n"
   ]
  },
  {
   "attachments": {},
   "cell_type": "markdown",
   "metadata": {},
   "source": [
    "计算angle和dihedral"
   ]
  },
  {
   "cell_type": "code",
   "execution_count": 22,
   "metadata": {},
   "outputs": [
    {
     "name": "stdout",
     "output_type": "stream",
     "text": [
      "Angle: 1.6098709\n",
      "Dihedral angle: 1.4903792\n"
     ]
    }
   ],
   "source": [
    "# Calculate angle between first 3 CA atoms in first frame\n",
    "# (in radians)\n",
    "print(\"Angle:\", struc.angle(array[0],array[1],array[2]))\n",
    "# Calculate dihedral angle between first 4 CA atoms in first frame\n",
    "# (in radians)\n",
    "print(\"Dihedral angle:\", struc.dihedral(array[0],array[1],array[2],array[4]))"
   ]
  },
  {
   "cell_type": "code",
   "execution_count": 23,
   "metadata": {},
   "outputs": [
    {
     "data": {
      "text/plain": [
       "Text(0, 0.5, '$\\\\psi$')"
      ]
     },
     "execution_count": 23,
     "metadata": {},
     "output_type": "execute_result"
    },
    {
     "data": {
      "image/png": "[encoded data removed]",
      "text/plain": [
       "<Figure size 640x480 with 1 Axes>"
      ]
     },
     "metadata": {},
     "output_type": "display_data"
    }
   ],
   "source": [
    "import matplotlib.pyplot as plt\n",
    "import numpy as np\n",
    "\n",
    "array = strucio.load_structure(file_path)[0]\n",
    "phi, psi, omega = struc.dihedral_backbone(array)\n",
    "plt.plot(phi * 360/(2*np.pi), psi * 360/(2*np.pi),\n",
    "        marker=\"o\", linestyle=\"None\")\n",
    "plt.xlim(-180,180)\n",
    "plt.ylim(-180,180)\n",
    "plt.xlabel(\"$\\phi$\")\n",
    "plt.ylabel(\"$\\psi$\")"
   ]
  },
  {
   "attachments": {},
   "cell_type": "markdown",
   "metadata": {},
   "source": [
    "### Comparing structures -- RMSD,RMSF"
   ]
  },
  {
   "cell_type": "code",
   "execution_count": 34,
   "metadata": {},
   "outputs": [
    {
     "name": "stdout",
     "output_type": "stream",
     "text": [
      "RMSD for each model to first model:\n",
      "[0.         0.7842643  1.0075767  0.5518028  0.8066345  1.0606678\n",
      " 0.8738371  0.6260641  1.0057656  0.81440794 0.876283   1.353859\n",
      " 0.93277985 0.8760094  0.99357325 0.40626574 0.31801927 1.1838906\n",
      " 1.2347708  0.89114463 0.5553653  0.73639375 0.7856738  1.1019256\n",
      " 0.67228884 1.1605636  0.98213965 1.2280884  0.79269636 0.8685473\n",
      " 0.9386668  0.8356571  0.61650354 0.97335416 1.0322398  0.5555665\n",
      " 1.1517522  0.8558534 ]\n"
     ]
    },
    {
     "data": {
      "text/plain": [
       "Text(0, 0.5, 'RMSF')"
      ]
     },
     "execution_count": 34,
     "metadata": {},
     "output_type": "execute_result"
    },
    {
     "data": {
      "image/png": "[encoded data removed]",
      "text/plain": [
       "<Figure size 640x480 with 1 Axes>"
      ]
     },
     "metadata": {},
     "output_type": "display_data"
    }
   ],
   "source": [
    "stack = strucio.load_structure(file_path)\n",
    "# We consider only CA atoms\n",
    "stack = stack[:, stack.atom_name == \"CA\"]\n",
    "# Superimposing all models of the structure onto the first model\n",
    "stack, transformation_tuple = struc.superimpose(stack[0], stack)\n",
    "print(\"RMSD for each model to first model:\")\n",
    "print(struc.rmsd(stack[0], stack))\n",
    "# Calculate the RMSF relative to the average of all models\n",
    "rmsf = struc.rmsf(struc.average(stack), stack)\n",
    "# Plotting stuff\n",
    "plt.plot(np.arange(1,21), rmsf)\n",
    "plt.xlim(0,21)\n",
    "plt.xticks(np.arange(1,21))\n",
    "plt.xlabel(\"Residue\")\n",
    "plt.ylabel(\"RMSF\")"
   ]
  },
  {
   "attachments": {},
   "cell_type": "markdown",
   "metadata": {},
   "source": [
    "### Calculating accessible surface area\n",
    "\n",
    "Another interesting value for a protein structure is the solvent accessible surface area (SASA) that indicates whether an atom or residue is on the protein surface or buried inside the protein. The function sasa() approximates the SASA for each atom. Then we sum up the values for each residue, to get the residue-wise SASA.\n",
    "\n",
    "Besides other parameters, you can choose between different Van-der-Waals radii sets: Prot0r, the default set, is a set that defines radii for non-hydrogen atoms, but determines the radius of an atom based on the assumed amount of hydrogen atoms connected to it. Therefore, ProtOr is suitable for structures with missing hydrogen atoms, like crystal structures. Since the structure of TC5b was elucidated via NMR, we can assign a radius to every single atom (including hydrogens), hence we use the Single set.\n",
    "\n"
   ]
  },
  {
   "cell_type": "code",
   "execution_count": 43,
   "metadata": {},
   "outputs": [
    {
     "data": {
      "text/plain": [
       "Text(0, 0.5, 'SASA')"
      ]
     },
     "execution_count": 43,
     "metadata": {},
     "output_type": "execute_result"
    },
    {
     "data": {
      "image/png": "[encoded data removed]",
      "text/plain": [
       "<Figure size 640x480 with 1 Axes>"
      ]
     },
     "metadata": {},
     "output_type": "display_data"
    }
   ],
   "source": [
    "array = strucio.load_structure(file_path)[0]\n",
    "# The following line calculates the atom-wise SASA of the atom array\n",
    "atom_sasa = struc.sasa(array, vdw_radii=\"Single\")\n",
    "# Sum up SASA for each residue in atom array\n",
    "res_sasa = struc.apply_residue_wise(array, atom_sasa, np.sum)\n",
    "# Again plotting stuff\n",
    "plt.plot(np.arange(1,21), res_sasa)\n",
    "plt.xlim(0,21)\n",
    "plt.xticks(np.arange(1,21))\n",
    "plt.xlabel(\"Residue\")\n",
    "plt.ylabel(\"SASA\")"
   ]
  },
  {
   "attachments": {},
   "cell_type": "markdown",
   "metadata": {},
   "source": [
    "### Secondary structure determination\n",
    "Biotite can also be used to assign secondary structure elements (SSE) to a structure with the annotate_sse() function. An 'a' means alpha-helix, 'b' beta-sheet, and 'c' means coil."
   ]
  },
  {
   "cell_type": "code",
   "execution_count": 44,
   "metadata": {},
   "outputs": [
    {
     "name": "stdout",
     "output_type": "stream",
     "text": [
      "caaaaaaaaccccccccccc\n"
     ]
    }
   ],
   "source": [
    "array = strucio.load_structure(file_path)[0]\n",
    "# Estimate secondary structure\n",
    "sse = struc.annotate_sse(array, chain_id=\"A\")\n",
    "# Pretty print\n",
    "print(\"\".join(sse))"
   ]
  },
  {
   "attachments": {},
   "cell_type": "markdown",
   "metadata": {},
   "source": [
    "### Radius of gyration"
   ]
  },
  {
   "cell_type": "code",
   "execution_count": 46,
   "metadata": {},
   "outputs": [
    {
     "data": {
      "text/plain": [
       "7.295848684998064"
      ]
     },
     "execution_count": 46,
     "metadata": {},
     "output_type": "execute_result"
    }
   ],
   "source": [
    "rg = struc.gyration_radius(array)\n",
    "rg"
   ]
  },
  {
   "cell_type": "code",
   "execution_count": 1,
   "metadata": {},
   "outputs": [],
   "source": [
    "import biotite.structure.io as strucio\n",
    "import biotite.structure as struc\n",
    "import numpy as np\n",
    "from biotite.structure.residues import get_residues\n",
    "from biotite.structure import get_chains\n",
    "from biotite.sequence import ProteinSequence\n",
    "\n",
    "def load_structure(fpath,chain=None):\n",
    "    \"\"\"\n",
    "    loading atom from the fpath, from the given chain\n",
    "    \"\"\"\n",
    "    structure = strucio.load_structure(fpath,model=1)\n",
    "    aa_mask = struc.filter_amino_acids(structure)\n",
    "    structure = structure[aa_mask]\n",
    "    all_chains = get_chains(structure)\n",
    "    if len(all_chains) == 0:\n",
    "        raise ValueError('No chains found in the input file.')\n",
    "    if chain is None:\n",
    "        chain_ids = all_chains\n",
    "    elif isinstance(chain, list):\n",
    "        chain_ids = chain\n",
    "    else:\n",
    "        chain_ids = [chain] \n",
    "    for chain in chain_ids:\n",
    "        if chain not in all_chains:\n",
    "            raise ValueError(f'Chain {chain} not found in input file')\n",
    "    chain_filter = [a.chain_id in chain_ids for a in structure]\n",
    "    structure = structure[chain_filter]\n",
    "    return structure\n",
    "\n",
    "def extract_seq(protein,chain_id=None):\n",
    "    if isinstance(protein,str):\n",
    "        atom_array = strucio.load_structure(protein,model=1)\n",
    "    elif isinstance(protein, struc.AtomArrayStack):\n",
    "        atom_array = protein[0]\n",
    "    elif isinstance(protein, struc.AtomArray):\n",
    "        atom_array = protein\n",
    "\n",
    "    # add multiple chain sequence subtract function\n",
    "    all_chains = get_chains(atom_array)\n",
    "    if len(all_chains) == 0:\n",
    "        raise ValueError('No chains found in the input file.')\n",
    "    if chain_id is None:\n",
    "        chain_ids = all_chains\n",
    "    elif isinstance(chain_id, list):\n",
    "        chain_ids = chain_id\n",
    "    else:\n",
    "        chain_ids = [chain_id] \n",
    "    for chain in chain_ids:\n",
    "        if chain not in all_chains:\n",
    "            raise ValueError(f'Chain {chain} not found in input file')\n",
    "    chain_filter = [a.chain_id in chain_ids for a in atom_array]\n",
    "    atom_array = atom_array[chain_filter]\n",
    "\n",
    "    # mask canonical aa\n",
    "    aa_mask = struc.filter_amino_acids(atom_array)\n",
    "    atom_array = atom_array[aa_mask]\n",
    "    residue_identities = get_residues(atom_array)[1]\n",
    "    seq = ''.join([ProteinSequence.convert_letter_3to1(r) for r in residue_identities])\n",
    "    return seq    \n"
   ]
  },
  {
   "cell_type": "code",
   "execution_count": 2,
   "metadata": {},
   "outputs": [
    {
     "data": {
      "text/plain": [
       "'EHMHGQQHHHFHQQFVPCSICSNNPTCWAICKRISPKSISFQQFIKYCTSLYQTMYIYCY'"
      ]
     },
     "execution_count": 2,
     "metadata": {},
     "output_type": "execute_result"
    }
   ],
   "source": [
    "extract_seq(\"../../../Desktop/inp2hal/5WN9_1867.pdb\")"
   ]
  },
  {
   "cell_type": "code",
   "execution_count": null,
   "metadata": {},
   "outputs": [],
   "source": []
  }
 ],
 "metadata": {
  "kernelspec": {
   "display_name": "esmfold",
   "language": "python",
   "name": "python3"
  },
  "language_info": {
   "codemirror_mode": {
    "name": "ipython",
    "version": 3
   },
   "file_extension": ".py",
   "mimetype": "text/x-python",
   "name": "python",
   "nbconvert_exporter": "python",
   "pygments_lexer": "ipython3",
   "version": "3.8.8"
  },
  "orig_nbformat": 4,
  "vscode": {
   "interpreter": {
    "hash": "59ac7c7a591b3b1c7843a2ac3c1da3475c2ffdc4684f266052d1e649f1d10700"
   }
  }
 },
 "nbformat": 4,
 "nbformat_minor": 2
}
