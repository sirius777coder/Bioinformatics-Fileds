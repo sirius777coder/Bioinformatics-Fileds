{
 "cells": [
  {
   "cell_type": "code",
   "execution_count": 5,
   "metadata": {},
   "outputs": [],
   "source": [
    "import numpy as np\n",
    "# import np softmax\n",
    "\n",
    "\n",
    "def softmax(x,dim=-1):\n",
    "    max_value = np.max(x, axis=dim, keepdims=True) # L,L,1\n",
    "    exp_x = np.exp(x - max_value) # L,L,64\n",
    "    sum_exp_x = np.sum(exp_x, axis=dim, keepdims=True) # L,L,1\n",
    "    y = exp_x / sum_exp_x\n",
    "    return y"
   ]
  },
  {
   "cell_type": "code",
   "execution_count": 7,
   "metadata": {},
   "outputs": [],
   "source": [
    "logits = np.random.randn(10, 10, 64)\n",
    "probs = softmax(logits)"
   ]
  },
  {
   "cell_type": "code",
   "execution_count": 2,
   "metadata": {},
   "outputs": [],
   "source": [
    "num_res = 100\n",
    "clipped_num_res = np.maximum(num_res, 19)\n",
    "d0 = 1.24 * (clipped_num_res - 15) ** (1. / 3) - 1.8"
   ]
  },
  {
   "cell_type": "code",
   "execution_count": 3,
   "metadata": {},
   "outputs": [
    {
     "data": {
      "text/plain": [
       "3.6520687934761424"
      ]
     },
     "execution_count": 3,
     "metadata": {},
     "output_type": "execute_result"
    }
   ],
   "source": [
    "probs = softmax(logits, axis=-1)"
   ]
  },
  {
   "cell_type": "code",
   "execution_count": 17,
   "metadata": {},
   "outputs": [
    {
     "name": "stdout",
     "output_type": "stream",
     "text": [
      "shape of breaks: (63,)\n"
     ]
    }
   ],
   "source": [
    "num_bins = 64\n",
    "max_erroe_bin = 31\n",
    "breaks = np.linspace(\n",
    "    0., max_erroe_bin, num_bins - 1)\n",
    "print(f\"shape of breaks: {breaks.shape}\")"
   ]
  },
  {
   "cell_type": "code",
   "execution_count": 22,
   "metadata": {},
   "outputs": [
    {
     "data": {
      "text/plain": [
       "array([ 0. ,  0.5,  1. ,  1.5,  2. ,  2.5,  3. ,  3.5,  4. ,  4.5,  5. ,\n",
       "        5.5,  6. ,  6.5,  7. ,  7.5,  8. ,  8.5,  9. ,  9.5, 10. , 10.5,\n",
       "       11. , 11.5, 12. , 12.5, 13. , 13.5, 14. , 14.5, 15. , 15.5, 16. ,\n",
       "       16.5, 17. , 17.5, 18. , 18.5, 19. , 19.5, 20. , 20.5, 21. , 21.5,\n",
       "       22. , 22.5, 23. , 23.5, 24. , 24.5, 25. , 25.5, 26. , 26.5, 27. ,\n",
       "       27.5, 28. , 28.5, 29. , 29.5, 30. , 30.5, 31. ])"
      ]
     },
     "execution_count": 22,
     "metadata": {},
     "output_type": "execute_result"
    }
   ],
   "source": [
    "breaks"
   ]
  },
  {
   "cell_type": "code",
   "execution_count": 23,
   "metadata": {},
   "outputs": [
    {
     "name": "stdout",
     "output_type": "stream",
     "text": [
      "shape of bin_centers: (64,)\n"
     ]
    }
   ],
   "source": [
    "# Add half-step to get the center\n",
    "step = (breaks[1] - breaks[0])\n",
    "\n",
    "bin_centers = breaks + step / 2\n",
    "# Add a catch-all bin at the end.\n",
    "bin_centers = np.concatenate([bin_centers, [bin_centers[-1] + step]], axis=0)\n",
    "print(f\"shape of bin_centers: {bin_centers.shape}\")"
   ]
  },
  {
   "cell_type": "code",
   "execution_count": 24,
   "metadata": {},
   "outputs": [],
   "source": [
    "tm_per_bin = 1. / (1 + np.square(bin_centers) / np.square(d0))"
   ]
  },
  {
   "cell_type": "code",
   "execution_count": 25,
   "metadata": {},
   "outputs": [
    {
     "data": {
      "text/plain": [
       "array([0.99533586, 0.95953268, 0.89513498, 0.81326341, 0.72486572,\n",
       "       0.63815974, 0.55805636, 0.48677207, 0.4247631 , 0.37151997,\n",
       "       0.326102  , 0.28744776, 0.25453396, 0.22644452, 0.20239127,\n",
       "       0.181711  , 0.16385245, 0.1483603 , 0.13485937, 0.12304053,\n",
       "       0.1126486 , 0.10347242, 0.09533664, 0.08809509, 0.08162545,\n",
       "       0.07582489, 0.07060666, 0.06589723, 0.06163401, 0.05776354,\n",
       "       0.05423994, 0.05102372, 0.04808075, 0.04538143, 0.04289997,\n",
       "       0.04061389, 0.03850347, 0.03655139, 0.03474239, 0.03306297,\n",
       "       0.03150119, 0.03004641, 0.02868919, 0.02742106, 0.02623447,\n",
       "       0.02512263, 0.02407944, 0.02309942, 0.02217759, 0.02130948,\n",
       "       0.02049102, 0.01971852, 0.01898862, 0.01829826, 0.01764467,\n",
       "       0.01702528, 0.01643777, 0.01587999, 0.01534999, 0.01484595,\n",
       "       0.01436623, 0.01390928, 0.01347369, 0.01305816])"
      ]
     },
     "execution_count": 25,
     "metadata": {},
     "output_type": "execute_result"
    }
   ],
   "source": [
    "tm_per_bin"
   ]
  },
  {
   "cell_type": "code",
   "execution_count": 26,
   "metadata": {},
   "outputs": [],
   "source": [
    "predicted_tm_term = (probs * tm_per_bin).sum(-1)"
   ]
  },
  {
   "cell_type": "code",
   "execution_count": 29,
   "metadata": {},
   "outputs": [
    {
     "data": {
      "text/plain": [
       "array([[0.17909932, 0.13737669, 0.13910296, 0.20424332, 0.18515297,\n",
       "        0.16306545, 0.11202117, 0.1886261 , 0.09910108, 0.12296503],\n",
       "       [0.16261438, 0.13685217, 0.22500003, 0.15073002, 0.11990103,\n",
       "        0.13959428, 0.27484976, 0.19616335, 0.18352049, 0.16465732],\n",
       "       [0.14050972, 0.14503962, 0.20609101, 0.1609441 , 0.17526215,\n",
       "        0.15210211, 0.17087797, 0.157245  , 0.18063095, 0.16212134],\n",
       "       [0.16786577, 0.14108027, 0.17747104, 0.1584792 , 0.12834079,\n",
       "        0.1337216 , 0.15207327, 0.19736005, 0.16072999, 0.13876611],\n",
       "       [0.19882685, 0.13654155, 0.1657041 , 0.12641982, 0.15063186,\n",
       "        0.17960611, 0.23343011, 0.13878014, 0.19478265, 0.34596958],\n",
       "       [0.22933886, 0.19822161, 0.16741908, 0.27077525, 0.12892025,\n",
       "        0.17194365, 0.09649993, 0.11559974, 0.13711364, 0.16050262],\n",
       "       [0.19800563, 0.11878168, 0.1680873 , 0.12567987, 0.22756437,\n",
       "        0.17839462, 0.21572045, 0.22786635, 0.15119701, 0.10604766],\n",
       "       [0.12863794, 0.2290285 , 0.16451503, 0.16133514, 0.16854104,\n",
       "        0.13861749, 0.19281309, 0.18394377, 0.16655887, 0.15263162],\n",
       "       [0.19631173, 0.22257167, 0.20297619, 0.28911463, 0.14412461,\n",
       "        0.13576475, 0.18253937, 0.14551659, 0.21922127, 0.23276761],\n",
       "       [0.13258075, 0.17853422, 0.14207256, 0.12066599, 0.15054201,\n",
       "        0.13639654, 0.16258035, 0.1543396 , 0.17121124, 0.19889281]])"
      ]
     },
     "execution_count": 29,
     "metadata": {},
     "output_type": "execute_result"
    }
   ],
   "source": [
    "predicted_tm_term"
   ]
  },
  {
   "cell_type": "code",
   "execution_count": null,
   "metadata": {},
   "outputs": [],
   "source": []
  }
 ],
 "metadata": {
  "kernelspec": {
   "display_name": "dl",
   "language": "python",
   "name": "python3"
  },
  "language_info": {
   "codemirror_mode": {
    "name": "ipython",
    "version": 3
   },
   "file_extension": ".py",
   "mimetype": "text/x-python",
   "name": "python",
   "nbconvert_exporter": "python",
   "pygments_lexer": "ipython3",
   "version": "3.12.2"
  }
 },
 "nbformat": 4,
 "nbformat_minor": 2
}
