{
 "cells": [
  {
   "cell_type": "markdown",
   "metadata": {},
   "source": [
    "## 2024  09 18 framediff learning"
   ]
  },
  {
   "cell_type": "markdown",
   "metadata": {},
   "source": [
    "### 1. PDB processing + AlphaFold mmcif object"
   ]
  },
  {
   "cell_type": "code",
   "execution_count": 14,
   "metadata": {},
   "outputs": [],
   "source": [
    "import Bio\n",
    "from Bio.PDB import PDBIO, MMCIFParser, PDBParser\n",
    "\n",
    "import sys\n",
    "sys.path.append(\"/home/sirius/PhD/software/se3_diffusion\")\n",
    "from data import errors, mmcif_parsing, parsers\n",
    "from data import utils as du\n",
    "import os\n",
    "import dataclasses\n",
    "import numpy as np"
   ]
  },
  {
   "cell_type": "code",
   "execution_count": 15,
   "metadata": {},
   "outputs": [],
   "source": [
    "def process_mmcif_mimic_framediff(mmcif_path,max_resolution,max_len):\n",
    "    metadata = {}\n",
    "    mmcif_name = os.path.basename(mmcif_path).replace('.cif', '')\n",
    "    metadata['pdb_name'] = mmcif_name\n",
    "    with open(mmcif_path, 'r') as f:\n",
    "        parsed_mmcif = mmcif_parsing.parse(\n",
    "            file_id=mmcif_name, mmcif_string=f.read())\n",
    "    metadata['raw_path'] = mmcif_path\n",
    "    parsed_mmcif = parsed_mmcif.mmcif_object\n",
    "    raw_mmcif = parsed_mmcif.raw_string\n",
    "    raw_olig_count = raw_mmcif['_pdbx_struct_assembly.oligomeric_count']\n",
    "    oligomeric_count = ','.join(raw_olig_count).lower()\n",
    "    raw_olig_detail = raw_mmcif['_pdbx_struct_assembly.oligomeric_details']\n",
    "    oligomeric_detail = ','.join(raw_olig_detail).lower()\n",
    "    metadata['oligomeric_count'] = oligomeric_count\n",
    "    metadata['oligomeric_detail'] = oligomeric_detail\n",
    "\n",
    "    mmcif_header = parsed_mmcif.header\n",
    "    mmcif_resolution = mmcif_header['resolution']\n",
    "    metadata['resolution'] = mmcif_resolution\n",
    "    metadata['structure_method'] = mmcif_header['structure_method']\n",
    "    if mmcif_resolution >= max_resolution:\n",
    "        raise errors.ResolutionError(\n",
    "            f'Too high resolution {mmcif_resolution}')\n",
    "    if mmcif_resolution == 0.0:\n",
    "        raise errors.ResolutionError(\n",
    "            f'Invalid resolution {mmcif_resolution}')\n",
    "\n",
    "        # Extract all chains\n",
    "    struct_chains = {\n",
    "        chain.id.upper(): chain\n",
    "        for chain in parsed_mmcif.structure.get_chains()}\n",
    "    metadata['num_chains'] = len(struct_chains)\n",
    "\n",
    "    # Extract features\n",
    "    struct_feats = []\n",
    "    all_seqs = set()\n",
    "    for chain_id, chain in struct_chains.items():\n",
    "        # Convert chain id into int\n",
    "        chain_id = du.chain_str_to_int(chain_id)\n",
    "        chain_prot = parsers.process_chain(chain, chain_id)\n",
    "        chain_dict = dataclasses.asdict(chain_prot)\n",
    "        chain_dict = du.parse_chain_feats(chain_dict)\n",
    "        all_seqs.add(tuple(chain_dict['aatype']))\n",
    "        struct_feats.append(chain_dict)\n",
    "    if len(all_seqs) == 1:\n",
    "        metadata['quaternary_category'] = 'homomer'\n",
    "    else:\n",
    "        metadata['quaternary_category'] = 'heteromer'\n",
    "    complex_feats = du.concat_np_features(struct_feats, False)\n",
    "\n",
    "    # Process geometry features\n",
    "    complex_aatype = complex_feats['aatype']\n",
    "    modeled_idx = np.where(complex_aatype != 20)[0]\n",
    "    if np.sum(complex_aatype != 20) == 0:\n",
    "        raise errors.LengthError('No modeled residues')\n",
    "    min_modeled_idx = np.min(modeled_idx)\n",
    "    max_modeled_idx = np.max(modeled_idx)\n",
    "    metadata['seq_len'] = len(complex_aatype)\n",
    "    metadata['modeled_seq_len'] = max_modeled_idx - min_modeled_idx + 1\n",
    "    complex_feats['modeled_idx'] = modeled_idx\n",
    "    return complex_feats, metadata"
   ]
  },
  {
   "cell_type": "code",
   "execution_count": 16,
   "metadata": {},
   "outputs": [],
   "source": [
    "mmcif_path = \"/home/sirius/PhD/software/se3_diffusion/data/1h2s.cif\"\n",
    "max_resolution = 8.0\n",
    "max_len = 2000\n",
    "complex_feats, metadata = process_mmcif_mimic_framediff(mmcif_path,max_resolution,max_len)"
   ]
  },
  {
   "cell_type": "markdown",
   "metadata": {},
   "source": [
    "modeled_idx is which residue is not X\n",
    "\n",
    "bb_mask is whether this residue has CA atom\n",
    "\n",
    "a modeled_idx can also be bb_mask"
   ]
  },
  {
   "cell_type": "code",
   "execution_count": 21,
   "metadata": {},
   "outputs": [
    {
     "name": "stdout",
     "output_type": "stream",
     "text": [
      "atom_positions (327, 37, 3)\n",
      "aatype (327,)\n",
      "atom_mask (327, 37)\n",
      "residue_index (327,)\n",
      "chain_index (327,)\n",
      "b_factors (327, 37)\n",
      "bb_mask (327,)\n",
      "bb_positions (327, 3)\n",
      "modeled_idx (285,)\n"
     ]
    }
   ],
   "source": [
    "for key in complex_feats.keys():\n",
    "    print(key, complex_feats[key].shape)"
   ]
  },
  {
   "cell_type": "code",
   "execution_count": 22,
   "metadata": {},
   "outputs": [
    {
     "data": {
      "text/plain": [
       "{'pdb_name': '1h2s',\n",
       " 'raw_path': '/home/sirius/PhD/software/se3_diffusion/data/1h2s.cif',\n",
       " 'oligomeric_count': '4',\n",
       " 'oligomeric_detail': 'tetrameric',\n",
       " 'resolution': 1.93,\n",
       " 'structure_method': 'x-ray diffraction',\n",
       " 'num_chains': 2,\n",
       " 'quaternary_category': 'heteromer',\n",
       " 'seq_len': 327,\n",
       " 'modeled_seq_len': 326}"
      ]
     },
     "execution_count": 22,
     "metadata": {},
     "output_type": "execute_result"
    }
   ],
   "source": [
    "metadata"
   ]
  },
  {
   "cell_type": "code",
   "execution_count": null,
   "metadata": {},
   "outputs": [],
   "source": []
  }
 ],
 "metadata": {
  "kernelspec": {
   "display_name": "se3",
   "language": "python",
   "name": "python3"
  },
  "language_info": {
   "codemirror_mode": {
    "name": "ipython",
    "version": 3
   },
   "file_extension": ".py",
   "mimetype": "text/x-python",
   "name": "python",
   "nbconvert_exporter": "python",
   "pygments_lexer": "ipython3",
   "version": "3.9.16"
  }
 },
 "nbformat": 4,
 "nbformat_minor": 2
}
