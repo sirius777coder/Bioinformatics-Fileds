{
 "cells": [
  {
   "cell_type": "markdown",
   "metadata": {},
   "source": [
    "## 2024  09 18 framediff learning"
   ]
  },
  {
   "cell_type": "markdown",
   "metadata": {},
   "source": [
    "### 1. PDB processing + AlphaFold mmcif object"
   ]
  },
  {
   "cell_type": "code",
   "execution_count": 1,
   "metadata": {},
   "outputs": [
    {
     "name": "stderr",
     "output_type": "stream",
     "text": [
      "/home/sirius/PhD/miniconda3/envs/se3/lib/python3.9/site-packages/Bio/Data/SCOPData.py:18: BiopythonDeprecationWarning: The 'Bio.Data.SCOPData' module will be deprecated in a future release of Biopython in favor of 'Bio.Data.PDBData.\n",
      "  warnings.warn(\n",
      "/home/sirius/PhD/miniconda3/envs/se3/lib/python3.9/site-packages/tqdm/auto.py:22: TqdmWarning: IProgress not found. Please update jupyter and ipywidgets. See https://ipywidgets.readthedocs.io/en/stable/user_install.html\n",
      "  from .autonotebook import tqdm as notebook_tqdm\n"
     ]
    }
   ],
   "source": [
    "import Bio\n",
    "from Bio.PDB import PDBIO, MMCIFParser, PDBParser\n",
    "\n",
    "import sys\n",
    "sys.path.append(\"/home/sirius/PhD/software/se3_diffusion\")\n",
    "from data import errors, mmcif_parsing, parsers\n",
    "from data import utils as du\n",
    "import os\n",
    "import dataclasses\n",
    "import numpy as np"
   ]
  },
  {
   "cell_type": "code",
   "execution_count": 2,
   "metadata": {},
   "outputs": [],
   "source": [
    "def process_mmcif_mimic_framediff(mmcif_path,max_resolution,max_len):\n",
    "    metadata = {}\n",
    "    mmcif_name = os.path.basename(mmcif_path).replace('.cif', '')\n",
    "    metadata['pdb_name'] = mmcif_name\n",
    "    with open(mmcif_path, 'r') as f:\n",
    "        parsed_mmcif = mmcif_parsing.parse(\n",
    "            file_id=mmcif_name, mmcif_string=f.read())\n",
    "    metadata['raw_path'] = mmcif_path\n",
    "    parsed_mmcif = parsed_mmcif.mmcif_object\n",
    "    raw_mmcif = parsed_mmcif.raw_string\n",
    "    raw_olig_count = raw_mmcif['_pdbx_struct_assembly.oligomeric_count']\n",
    "    oligomeric_count = ','.join(raw_olig_count).lower()\n",
    "    raw_olig_detail = raw_mmcif['_pdbx_struct_assembly.oligomeric_details']\n",
    "    oligomeric_detail = ','.join(raw_olig_detail).lower()\n",
    "    metadata['oligomeric_count'] = oligomeric_count\n",
    "    metadata['oligomeric_detail'] = oligomeric_detail\n",
    "\n",
    "    mmcif_header = parsed_mmcif.header\n",
    "    mmcif_resolution = mmcif_header['resolution']\n",
    "    metadata['resolution'] = mmcif_resolution\n",
    "    metadata['structure_method'] = mmcif_header['structure_method']\n",
    "    if mmcif_resolution >= max_resolution:\n",
    "        raise errors.ResolutionError(\n",
    "            f'Too high resolution {mmcif_resolution}')\n",
    "    if mmcif_resolution == 0.0:\n",
    "        raise errors.ResolutionError(\n",
    "            f'Invalid resolution {mmcif_resolution}')\n",
    "\n",
    "        # Extract all chains\n",
    "    struct_chains = {\n",
    "        chain.id.upper(): chain\n",
    "        for chain in parsed_mmcif.structure.get_chains()}\n",
    "    metadata['num_chains'] = len(struct_chains)\n",
    "\n",
    "    # Extract features\n",
    "    struct_feats = []\n",
    "    all_seqs = set()\n",
    "    for chain_id, chain in struct_chains.items():\n",
    "        # Convert chain id into int\n",
    "        chain_id = du.chain_str_to_int(chain_id)\n",
    "        chain_prot = parsers.process_chain(chain, chain_id)\n",
    "        chain_dict = dataclasses.asdict(chain_prot)\n",
    "        chain_dict = du.parse_chain_feats(chain_dict)\n",
    "        all_seqs.add(tuple(chain_dict['aatype']))\n",
    "        struct_feats.append(chain_dict)\n",
    "    if len(all_seqs) == 1:\n",
    "        metadata['quaternary_category'] = 'homomer'\n",
    "    else:\n",
    "        metadata['quaternary_category'] = 'heteromer'\n",
    "    complex_feats = du.concat_np_features(struct_feats, False)\n",
    "\n",
    "    # Process geometry features\n",
    "    complex_aatype = complex_feats['aatype']\n",
    "    modeled_idx = np.where(complex_aatype != 20)[0]\n",
    "    if np.sum(complex_aatype != 20) == 0:\n",
    "        raise errors.LengthError('No modeled residues')\n",
    "    min_modeled_idx = np.min(modeled_idx)\n",
    "    max_modeled_idx = np.max(modeled_idx)\n",
    "    metadata['seq_len'] = len(complex_aatype)\n",
    "    metadata['modeled_seq_len'] = max_modeled_idx - min_modeled_idx + 1\n",
    "    complex_feats['modeled_idx'] = modeled_idx\n",
    "    return complex_feats, metadata"
   ]
  },
  {
   "cell_type": "markdown",
   "metadata": {},
   "source": [
    "## ProteinMPNN chain and PDBTM chain not consistent"
   ]
  },
  {
   "cell_type": "code",
   "execution_count": 3,
   "metadata": {},
   "outputs": [],
   "source": [
    "mmcif_path = \"/home/sirius/Downloads/4a2n.cif\"\n",
    "max_resolution = 8.0\n",
    "max_len = 2000\n",
    "complex_feats, metadata = process_mmcif_mimic_framediff(mmcif_path,max_resolution,max_len)"
   ]
  },
  {
   "cell_type": "code",
   "execution_count": 8,
   "metadata": {},
   "outputs": [],
   "source": [
    "with open(mmcif_path, 'r') as f:\n",
    "    parsed_mmcif = mmcif_parsing.parse(\n",
    "        file_id=\"test\", mmcif_string=f.read())"
   ]
  },
  {
   "cell_type": "code",
   "execution_count": 14,
   "metadata": {},
   "outputs": [
    {
     "data": {
      "text/plain": [
       "{'structure_method': 'x-ray diffraction',\n",
       " 'release_date': '2012-01-11',\n",
       " 'resolution': 3.4}"
      ]
     },
     "execution_count": 14,
     "metadata": {},
     "output_type": "execute_result"
    }
   ],
   "source": [
    "parsed_mmcif.mmcif_object.header"
   ]
  },
  {
   "cell_type": "code",
   "execution_count": 6,
   "metadata": {},
   "outputs": [
    {
     "data": {
      "text/plain": [
       "dict_keys(['atom_positions', 'aatype', 'atom_mask', 'residue_index', 'chain_index', 'b_factors', 'bb_mask', 'bb_positions', 'modeled_idx'])"
      ]
     },
     "execution_count": 6,
     "metadata": {},
     "output_type": "execute_result"
    }
   ],
   "source": [
    "complex_feats.keys()"
   ]
  },
  {
   "cell_type": "code",
   "execution_count": 7,
   "metadata": {},
   "outputs": [
    {
     "data": {
      "text/plain": [
       "array([27, 27, 27, 27, 27, 27, 27, 27, 27, 27, 27, 27, 27, 27, 27, 27, 27,\n",
       "       27, 27, 27, 27, 27, 27, 27, 27, 27, 27, 27, 27, 27, 27, 27, 27, 27,\n",
       "       27, 27, 27, 27, 27, 27, 27, 27, 27, 27, 27, 27, 27, 27, 27, 27, 27,\n",
       "       27, 27, 27, 27, 27, 27, 27, 27, 27, 27, 27, 27, 27, 27, 27, 27, 27,\n",
       "       27, 27, 27, 27, 27, 27, 27, 27, 27, 27, 27, 27, 27, 27, 27, 27, 27,\n",
       "       27, 27, 27, 27, 27, 27, 27, 27, 27, 27, 27, 27, 27, 27, 27, 27, 27,\n",
       "       27, 27, 27, 27, 27, 27, 27, 27, 27, 27, 27, 27, 27, 27, 27, 27, 27,\n",
       "       27, 27, 27, 27, 27, 27, 27, 27, 27, 27, 27, 27, 27, 27, 27, 27, 27,\n",
       "       27, 27, 27, 27, 27, 27, 27, 27, 27, 27, 27, 27, 27, 27, 27, 27, 27,\n",
       "       27, 27, 27, 27, 27, 27, 27, 27, 27, 27, 27, 27, 27, 27, 27, 27, 27,\n",
       "       27, 27, 27, 27, 27, 27, 27, 27, 27, 27, 27, 27, 27, 27, 27, 27, 27,\n",
       "       27, 27, 27, 27, 27, 27, 27, 27])"
      ]
     },
     "execution_count": 7,
     "metadata": {},
     "output_type": "execute_result"
    }
   ],
   "source": [
    "complex_feats['chain_index']"
   ]
  },
  {
   "cell_type": "markdown",
   "metadata": {},
   "source": [
    "## End check"
   ]
  },
  {
   "cell_type": "code",
   "execution_count": 16,
   "metadata": {},
   "outputs": [],
   "source": [
    "mmcif_path = \"/home/sirius/PhD/software/se3_diffusion/data/1h2s.cif\"\n",
    "max_resolution = 8.0\n",
    "max_len = 2000\n",
    "complex_feats, metadata = process_mmcif_mimic_framediff(mmcif_path,max_resolution,max_len)"
   ]
  },
  {
   "cell_type": "markdown",
   "metadata": {},
   "source": [
    "modeled_idx is which residue is not X\n",
    "\n",
    "bb_mask is whether this residue has CA atom\n",
    "\n",
    "a modeled_idx can also be bb_mask"
   ]
  },
  {
   "cell_type": "code",
   "execution_count": 21,
   "metadata": {},
   "outputs": [
    {
     "name": "stdout",
     "output_type": "stream",
     "text": [
      "atom_positions (327, 37, 3)\n",
      "aatype (327,)\n",
      "atom_mask (327, 37)\n",
      "residue_index (327,)\n",
      "chain_index (327,)\n",
      "b_factors (327, 37)\n",
      "bb_mask (327,)\n",
      "bb_positions (327, 3)\n",
      "modeled_idx (285,)\n"
     ]
    }
   ],
   "source": [
    "for key in complex_feats.keys():\n",
    "    print(key, complex_feats[key].shape)"
   ]
  },
  {
   "cell_type": "code",
   "execution_count": 22,
   "metadata": {},
   "outputs": [
    {
     "data": {
      "text/plain": [
       "{'pdb_name': '1h2s',\n",
       " 'raw_path': '/home/sirius/PhD/software/se3_diffusion/data/1h2s.cif',\n",
       " 'oligomeric_count': '4',\n",
       " 'oligomeric_detail': 'tetrameric',\n",
       " 'resolution': 1.93,\n",
       " 'structure_method': 'x-ray diffraction',\n",
       " 'num_chains': 2,\n",
       " 'quaternary_category': 'heteromer',\n",
       " 'seq_len': 327,\n",
       " 'modeled_seq_len': 326}"
      ]
     },
     "execution_count": 22,
     "metadata": {},
     "output_type": "execute_result"
    }
   ],
   "source": [
    "metadata"
   ]
  },
  {
   "cell_type": "markdown",
   "metadata": {},
   "source": [
    "## 2. from framediff to obtain different chain (modeled residue)"
   ]
  },
  {
   "cell_type": "code",
   "execution_count": null,
   "metadata": {},
   "outputs": [],
   "source": []
  },
  {
   "cell_type": "code",
   "execution_count": null,
   "metadata": {},
   "outputs": [],
   "source": []
  },
  {
   "cell_type": "code",
   "execution_count": 1,
   "metadata": {},
   "outputs": [],
   "source": [
    "token2seq_dict = {0:'A', 1:'C', 2:'D', 3:'E', 4:'F', 5:'G', 6:'H', 7:'I', 8:'K', 9:'L', 10:'M', 11:'N', 12:'P', \n",
    "                13:'Q', 14:'R', 15:'S', 16:'T', 17:'V', 18:'W', 19:'Y', 20:'X', 21:'O', 22:'U', 23:'B', 24:'Z', 25:'-', 26:'.', \n",
    "                27:'<mask>', 28: '<pad>',}\n"
   ]
  },
  {
   "cell_type": "code",
   "execution_count": 20,
   "metadata": {},
   "outputs": [
    {
     "name": "stdout",
     "output_type": "stream",
     "text": [
      "random_seq GGLEPEPLIKNVMGMDMFAGQMGDTWRIMAHPQSFITIHDFLKFQQMVRDLNHTIFSYNKFERSLTLTLRLELFGEEESTNVKAHPLRTETMADGCNMLNFKRLMLLVANCYDHRFYYAQHHLTTAREKMGCVNAWGRWKQGVYMTIWWDENFKQRMDTFLESTLCSYCRTLLVVPAWHFCWCPKKAMYYYYDRTGRPSQ\n"
     ]
    }
   ],
   "source": [
    "import numpy as np\n",
    "random_length = 200\n",
    "random_seq = ''.join([token2seq_dict[np.random.randint(0, 20)] for i in range(random_length)])\n",
    "print(\"random_seq\", random_seq)"
   ]
  },
  {
   "cell_type": "code",
   "execution_count": 33,
   "metadata": {},
   "outputs": [],
   "source": [
    "def select_positions(n_mutations, seq, plddt, select_positions='plddt'):\n",
    "    mutable_positions = []\n",
    "    if select_positions == 'random':\n",
    "        # Choose positions randomly.\n",
    "        mutable_positions= np.random.choice(range(len(seq)), size=n_mutations, replace=False)\n",
    "\n",
    "\n",
    "    elif select_positions == 'plddt':\n",
    "        # Choose positions based on lowest plddt (taken across all states/oligomer for each protomer).\n",
    "        # First/last three positions of each protomers are choice frequency adjusted to avoid picking N/C term every time (they tend to score much lower).\n",
    "\n",
    "\n",
    "        mutate_plddt_quantile = 0.25 # default worst pLDDT quantile to mutate.\n",
    "\n",
    "\n",
    "        proto_L = len(seq)\n",
    "\n",
    "        # Weights associated with each position in the protomer.\n",
    "        # to account for termini systematically scoring worse in pLDDT.\n",
    "        weights = np.array([0.25, 0.5, 0.75] + [1] * (proto_L - 6) + [0.75, 0.5, 0.25])\n",
    "\n",
    "        # Sub-select lowest % quantile of plddt positions.\n",
    "        n_potential = round(proto_L * mutate_plddt_quantile)\n",
    "        print(\"n_potential\", n_potential)\n",
    "        consensus_min = np.min(plddt, axis=0)\n",
    "        print(\"consensus_min\", consensus_min)\n",
    "        potential_sites = np.argsort(consensus_min)[:n_potential]\n",
    "        print(\"potential_sites\", potential_sites)\n",
    "\n",
    "        # Select mutable sites\n",
    "        sub_w = weights[potential_sites]\n",
    "        print(\"sub_w\", sub_w)\n",
    "        sub_w = [w/np.sum(sub_w) for w in sub_w]\n",
    "        print(\"sub_w\", sub_w)\n",
    "        sites = np.random.choice(potential_sites, size=n_mutations, replace=False, p=sub_w)\n",
    "\n",
    "        mutable_positions = sites\n",
    "    return mutable_positions"
   ]
  },
  {
   "cell_type": "code",
   "execution_count": 34,
   "metadata": {},
   "outputs": [],
   "source": [
    "consensus_min = np.min(plddt, axis=0)"
   ]
  },
  {
   "cell_type": "code",
   "execution_count": 35,
   "metadata": {},
   "outputs": [],
   "source": [
    "n_potential = round(len(seq) * 0.25)\n",
    "potential_sites = np.argsort(consensus_min)[:n_potential]"
   ]
  },
  {
   "cell_type": "code",
   "execution_count": 36,
   "metadata": {},
   "outputs": [
    {
     "data": {
      "text/plain": [
       "array([144,  84, 142, 145, 136,  37,  56, 120, 167,  68, 173,  59,  49,\n",
       "       151, 195, 106,   2,  73, 140,  46, 110,  95,  65,  12,  48,   8,\n",
       "        82,  38,  17, 156, 131, 191,   3,  88, 166, 180, 114, 163, 168,\n",
       "        93, 176, 158,  29,  99,  90,  97,  23,  63,  34,  33,  36,  28,\n",
       "       181,  39,  60, 100,  24,   7,  89,  25, 192, 124, 121, 115,  35,\n",
       "       105,  26,  52,  13, 102, 170,  10,  27, 116,  31, 113, 177,  58,\n",
       "       109, 159,  44,   5,  30, 147,  94, 152,  32,  18,  45, 172, 150,\n",
       "       174,  41, 185,  40, 108, 111, 197,  86,  43,  42, 133, 127,  14,\n",
       "       162, 126, 129, 189, 123,  53,  79,  81,  47,  22, 143,  72,  78,\n",
       "       137,  67, 190,  85,   6, 118, 117,  16,  61, 188, 139, 149,  77,\n",
       "       178, 153,  98, 101, 164,  80,  15,  83,   1,  66, 187,  92, 169,\n",
       "       165, 175,  21,  57, 119, 183,  75, 160, 148,  91, 196, 193, 199,\n",
       "        74,  96, 130,  51,  87, 186,  69, 182,  64,  70, 128,  71, 122,\n",
       "       112,   9, 171, 125,   4, 154, 104, 146, 157, 135, 161,  55, 103,\n",
       "         0, 132,  54, 134,  76, 155, 107, 179,  50,  62, 194,  20,  11,\n",
       "       138,  19, 198, 184, 141])"
      ]
     },
     "execution_count": 36,
     "metadata": {},
     "output_type": "execute_result"
    }
   ],
   "source": [
    "np.argsort(consensus_min)"
   ]
  },
  {
   "cell_type": "code",
   "execution_count": 37,
   "metadata": {},
   "outputs": [
    {
     "name": "stdout",
     "output_type": "stream",
     "text": [
      "n_potential 50\n",
      "consensus_min [0.67991993 0.26378496 0.18109359 0.39947967 0.7163121  0.13783264\n",
      " 0.8614685  0.08578992 0.77003964 0.54391734 0.64565287 0.82070195\n",
      " 0.9552196  0.23292149 0.39489896 0.1182073  0.46144875 0.81987643\n",
      " 0.98049278 0.25808346 0.73930927 0.7708222  0.41862547 0.17380925\n",
      " 0.70748985 0.54950291 0.37264936 0.57239608 0.64097485 0.08048683\n",
      " 0.90783048 0.71416334 0.02783704 0.93322387 0.67972782 0.06035076\n",
      " 0.83755585 0.02235071 0.97216163 0.93606308 0.14000451 0.78488458\n",
      " 0.34574262 0.88226199 0.64664325 0.79654754 0.4133937  0.21479152\n",
      " 0.27035165 0.40062728 0.52380658 0.66069971 0.25267376 0.52290115\n",
      " 0.21954544 0.58495492 0.7988917  0.32635508 0.43369932 0.27049779\n",
      " 0.87199179 0.65525485 0.85770219 0.08791165 0.60426651 0.96960753\n",
      " 0.70136095 0.970794   0.36076204 0.99772002 0.59892164 0.83775233\n",
      " 0.920749   0.01257469 0.01009929 0.91493031 0.1061782  0.48316049\n",
      " 0.49281014 0.82409957 0.12322792 0.42623725 0.41373013 0.43101214\n",
      " 0.32987575 0.72117002 0.50032504 0.8588287  0.00577956 0.81510405\n",
      " 0.48986633 0.24303643 0.01693096 0.73838207 0.13869233 0.16500819\n",
      " 0.86900142 0.2334636  0.46509155 0.66182708 0.49256635 0.30211027\n",
      " 0.0818429  0.05265048 0.15085961 0.383194   0.49036662 0.09634622\n",
      " 0.46276247 0.76395736 0.3509236  0.5820602  0.37200981 0.27983121\n",
      " 0.11634271 0.41259534 0.82811827 0.05284834 0.87808999 0.50510392\n",
      " 0.02659121 0.4855198  0.39486348 0.71258899 0.07223024 0.31688432\n",
      " 0.94015107 0.69354002 0.3143934  0.12486131 0.47366077 0.7908076\n",
      " 0.23834766 0.11297414 0.42205457 0.89783278 0.73417291 0.79901047\n",
      " 0.61411197 0.07551845 0.80525859 0.80817025 0.12138194 0.78310347\n",
      " 0.44693069 0.84831895 0.358114   0.852111   0.25036723 0.00410649\n",
      " 0.29611082 0.43478777 0.3993456  0.93316945 0.92479817 0.51542248\n",
      " 0.50255786 0.12542577 0.45730461 0.5519109  0.83971304 0.94024819\n",
      " 0.54085738 0.66309622 0.09864362 0.63360886 0.76821797 0.68028927\n",
      " 0.46754687 0.64434924 0.88345231 0.82527221 0.21896172 0.30762877\n",
      " 0.17229355 0.81148954 0.11301119 0.83775787 0.39706825 0.27206853\n",
      " 0.37707299 0.96938309 0.25005667 0.75851174 0.8781173  0.19242364\n",
      " 0.73758313 0.87508563 0.98830094 0.11932705 0.74781428 0.97337346\n",
      " 0.47555277 0.77351298 0.14326866 0.90673415 0.03816624 0.09263802\n",
      " 0.07665784 0.27176665]\n",
      "potential_sites [149  88  74  73  92  37 120  32 196 103 117  35 124 139 198  29 102   7\n",
      "  63 197 107 164  76 133 176 114  15 189 142  80 129 157   5  94  40 194\n",
      " 104  95 174  23   2 185  47 172  54  13  97 132  91 182]\n",
      "sub_w [1.   1.   1.   1.   1.   1.   1.   1.   1.   1.   1.   1.   1.   1.\n",
      " 0.5  1.   1.   1.   1.   0.75 1.   1.   1.   1.   1.   1.   1.   1.\n",
      " 1.   1.   1.   1.   1.   1.   1.   1.   1.   1.   1.   1.   0.75 1.\n",
      " 1.   1.   1.   1.   1.   1.   1.   1.  ]\n",
      "sub_w [0.02040816326530612, 0.02040816326530612, 0.02040816326530612, 0.02040816326530612, 0.02040816326530612, 0.02040816326530612, 0.02040816326530612, 0.02040816326530612, 0.02040816326530612, 0.02040816326530612, 0.02040816326530612, 0.02040816326530612, 0.02040816326530612, 0.02040816326530612, 0.01020408163265306, 0.02040816326530612, 0.02040816326530612, 0.02040816326530612, 0.02040816326530612, 0.015306122448979591, 0.02040816326530612, 0.02040816326530612, 0.02040816326530612, 0.02040816326530612, 0.02040816326530612, 0.02040816326530612, 0.02040816326530612, 0.02040816326530612, 0.02040816326530612, 0.02040816326530612, 0.02040816326530612, 0.02040816326530612, 0.02040816326530612, 0.02040816326530612, 0.02040816326530612, 0.02040816326530612, 0.02040816326530612, 0.02040816326530612, 0.02040816326530612, 0.02040816326530612, 0.015306122448979591, 0.02040816326530612, 0.02040816326530612, 0.02040816326530612, 0.02040816326530612, 0.02040816326530612, 0.02040816326530612, 0.02040816326530612, 0.02040816326530612, 0.02040816326530612]\n"
     ]
    },
    {
     "data": {
      "text/plain": [
       "array([132,  32, 194])"
      ]
     },
     "execution_count": 37,
     "metadata": {},
     "output_type": "execute_result"
    }
   ],
   "source": [
    "n_mutation = 3\n",
    "seq = random_seq    \n",
    "plddt = np.random.rand(1, len(seq))\n",
    "select_positions(n_mutation, seq, plddt, select_positions='plddt')"
   ]
  },
  {
   "cell_type": "code",
   "execution_count": 31,
   "metadata": {},
   "outputs": [
    {
     "data": {
      "text/plain": [
       "(200,)"
      ]
     },
     "execution_count": 31,
     "metadata": {},
     "output_type": "execute_result"
    }
   ],
   "source": [
    "plddt.shape"
   ]
  },
  {
   "cell_type": "code",
   "execution_count": 19,
   "metadata": {},
   "outputs": [
    {
     "data": {
      "text/plain": [
       "0.004324417699140826"
      ]
     },
     "execution_count": 19,
     "metadata": {},
     "output_type": "execute_result"
    }
   ],
   "source": [
    "np.min(plddt, axis=0)"
   ]
  },
  {
   "cell_type": "code",
   "execution_count": 23,
   "metadata": {},
   "outputs": [
    {
     "data": {
      "text/plain": [
       "array([0.94466765, 0.35411377, 0.13133574, 0.62673324, 0.84319948,\n",
       "       0.64793025, 0.6168724 , 0.59099241, 0.65483817, 0.45938927,\n",
       "       0.19604578, 0.83483383, 0.81739394, 0.85594978, 0.34495433,\n",
       "       0.71568908, 0.35878587, 0.569031  , 0.74240711, 0.98657093,\n",
       "       0.73409419, 0.57650353, 0.89320624, 0.82503796, 0.77674735,\n",
       "       0.13603442, 0.22548158, 0.13620494, 0.54673154, 0.02608368,\n",
       "       0.5851039 , 0.42936689, 0.2882605 , 0.59071571, 0.7325343 ,\n",
       "       0.26741469, 0.26729874, 0.99642178, 0.49246782, 0.60826715,\n",
       "       0.2006435 , 0.4083844 , 0.06862138, 0.10747409, 0.58152769,\n",
       "       0.92430111, 0.47993575, 0.21817594, 0.31861625, 0.97095885,\n",
       "       0.47925291, 0.49145359, 0.74871333, 0.96650504, 0.94489188,\n",
       "       0.86572996, 0.84917946, 0.0219251 , 0.63692467, 0.04678527,\n",
       "       0.48505089, 0.21614411, 0.11926675, 0.46895851, 0.18889543,\n",
       "       0.65679202, 0.95285333, 0.81676777, 0.33813803, 0.49673921,\n",
       "       0.50772039, 0.06400917, 0.51053618, 0.94408299, 0.52686576,\n",
       "       0.97766902, 0.28829947, 0.24213809, 0.99194306, 0.83001167,\n",
       "       0.46509245, 0.8537029 , 0.80784666, 0.89332602, 0.69260045,\n",
       "       0.62354413, 0.19165926, 0.64603336, 0.28509706, 0.90166925,\n",
       "       0.67864091, 0.8912843 , 0.8241291 , 0.37328697, 0.83109109,\n",
       "       0.25598364, 0.65313808, 0.03015795, 0.04510841, 0.21165298,\n",
       "       0.88809166, 0.52718556, 0.30702194, 0.94925357, 0.9975808 ,\n",
       "       0.94834943, 0.07958081, 0.91261259, 0.14787355, 0.82768658,\n",
       "       0.83484989, 0.20441467, 0.09746846, 0.07956897, 0.05899605,\n",
       "       0.96075843, 0.89862178, 0.29311766, 0.9965549 , 0.45670816,\n",
       "       0.59174302, 0.31675588, 0.49857923, 0.28634738, 0.37023985,\n",
       "       0.99340331, 0.43370965, 0.35767814, 0.34011704, 0.73574227,\n",
       "       0.69405924, 0.72252729, 0.27478024, 0.45713293, 0.70774488,\n",
       "       0.18286311, 0.39881911, 0.63514557, 0.2468387 , 0.37765215,\n",
       "       0.7195584 , 0.60603777, 0.53449121, 0.75771972, 0.24079299,\n",
       "       0.87695452, 0.44805205, 0.44508123, 0.85877603, 0.38821547,\n",
       "       0.45115615, 0.75731221, 0.76776055, 0.45532287, 0.42475109,\n",
       "       0.36777081, 0.45029801, 0.72479546, 0.12052414, 0.62447586,\n",
       "       0.03354019, 0.16463987, 0.11050368, 0.0406037 , 0.97366125,\n",
       "       0.55205312, 0.85311472, 0.23880181, 0.32442111, 0.66718657,\n",
       "       0.20882355, 0.27541889, 0.80030049, 0.32397261, 0.74034314,\n",
       "       0.06337199, 0.06313855, 0.15397987, 0.79758886, 0.94972264,\n",
       "       0.76791592, 0.77860627, 0.06485908, 0.25679194, 0.49308548,\n",
       "       0.52347013, 0.8768192 , 0.51422799, 0.1589251 , 0.652122  ,\n",
       "       0.58084765, 0.10576014, 0.5828128 , 0.75077637, 0.8456721 ,\n",
       "       0.28597045, 0.15668869, 0.40820991, 0.89699885, 0.98023919])"
      ]
     },
     "execution_count": 23,
     "metadata": {},
     "output_type": "execute_result"
    }
   ],
   "source": [
    "plddt"
   ]
  },
  {
   "cell_type": "code",
   "execution_count": null,
   "metadata": {},
   "outputs": [],
   "source": []
  }
 ],
 "metadata": {
  "kernelspec": {
   "display_name": "se3",
   "language": "python",
   "name": "python3"
  },
  "language_info": {
   "codemirror_mode": {
    "name": "ipython",
    "version": 3
   },
   "file_extension": ".py",
   "mimetype": "text/x-python",
   "name": "python",
   "nbconvert_exporter": "python",
   "pygments_lexer": "ipython3",
   "version": "3.9.16"
  }
 },
 "nbformat": 4,
 "nbformat_minor": 2
}
