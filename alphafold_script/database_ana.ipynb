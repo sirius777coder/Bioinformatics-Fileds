{
 "cells": [
  {
   "cell_type": "markdown",
   "metadata": {},
   "source": [
    "## 2024. 4. 14 在下载alphafold数据库的时候顺便统计一下PDB结构中的所有序列"
   ]
  },
  {
   "cell_type": "code",
   "execution_count": 3,
   "metadata": {},
   "outputs": [],
   "source": [
    "import dataclasses\n",
    "import os\n",
    "from typing import Any, Mapping, MutableMapping, Optional, Sequence, Union, Tuple\n",
    "import collections\n",
    "import string\n",
    "\n",
    "\n",
    "def parse_fasta(fasta_string: str) -> Tuple[Sequence[str], Sequence[str]]:\n",
    "  \"\"\"Parses FASTA string and returns list of strings with amino-acid sequences.\n",
    "\n",
    "  Arguments:\n",
    "    fasta_string: The string contents of a FASTA file.\n",
    "\n",
    "  Returns:\n",
    "    A tuple of two lists:\n",
    "    * A list of sequences.\n",
    "    * A list of sequence descriptions taken from the comment lines. In the\n",
    "      same order as the sequences.\n",
    "  \"\"\"\n",
    "  sequences = []\n",
    "  descriptions = []\n",
    "  index = -1\n",
    "  for line in fasta_string.splitlines():\n",
    "    line = line.strip()\n",
    "    if line.startswith('>'):\n",
    "      index += 1\n",
    "      descriptions.append(line[1:])  # Remove the '>' at the beginning.\n",
    "      sequences.append('')\n",
    "      continue\n",
    "    elif not line:\n",
    "      continue  # Skip blank lines.\n",
    "    sequences[index] += line\n",
    "\n",
    "  return sequences, descriptions"
   ]
  },
  {
   "cell_type": "code",
   "execution_count": 4,
   "metadata": {},
   "outputs": [],
   "source": [
    "with open('/home/sirius/PhD/database/pdb_seqres/pdb_seqres.txt') as f:\n",
    "    fasta_string = f.read()\n",
    "sequences, descriptions = parse_fasta(fasta_string)"
   ]
  },
  {
   "cell_type": "code",
   "execution_count": 11,
   "metadata": {},
   "outputs": [],
   "source": [
    "mol = []\n",
    "for i in range(len(descriptions)):\n",
    "    mol.append(descriptions[i].split(' ')[1])"
   ]
  },
  {
   "cell_type": "code",
   "execution_count": 13,
   "metadata": {},
   "outputs": [],
   "source": [
    "from collections import Counter\n",
    "c = Counter(mol)"
   ]
  },
  {
   "cell_type": "code",
   "execution_count": 17,
   "metadata": {},
   "outputs": [],
   "source": [
    "protein_sequence = []\n",
    "na_sequence = []\n",
    "for i in range(len(sequences)):\n",
    "    if mol[i] == 'mol:protein':\n",
    "        protein_sequence.append(sequences[i])\n",
    "    else:\n",
    "        na_sequence.append(sequences[i])"
   ]
  },
  {
   "cell_type": "code",
   "execution_count": null,
   "metadata": {},
   "outputs": [],
   "source": []
  }
 ],
 "metadata": {
  "kernelspec": {
   "display_name": "dl",
   "language": "python",
   "name": "python3"
  },
  "language_info": {
   "codemirror_mode": {
    "name": "ipython",
    "version": 3
   },
   "file_extension": ".py",
   "mimetype": "text/x-python",
   "name": "python",
   "nbconvert_exporter": "python",
   "pygments_lexer": "ipython3",
   "version": "3.9.19"
  }
 },
 "nbformat": 4,
 "nbformat_minor": 2
}
