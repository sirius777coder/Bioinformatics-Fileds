{
 "cells": [
  {
   "cell_type": "markdown",
   "metadata": {},
   "source": [
    "## flash attention and attention mechanism \n",
    "### self attention"
   ]
  },
  {
   "cell_type": "code",
   "execution_count": 1,
   "metadata": {},
   "outputs": [],
   "source": [
    "from flash_attn import flash_attn_qkvpacked_func, flash_attn_func\n",
    "import torch\n",
    "\n",
    "batchsize = 2\n",
    "seqlen = 128\n",
    "num_heads = 8\n",
    "head_dim = 64\n",
    "\n",
    "q,k,v = [torch.randn(batchsize, seqlen, num_heads, head_dim) for _ in range(3)]"
   ]
  },
  {
   "cell_type": "code",
   "execution_count": 2,
   "metadata": {},
   "outputs": [],
   "source": [
    "# flash_attn_func needs bf16 and cuda\n",
    "q = q.to(torch.bfloat16).cuda()\n",
    "k = k.to(torch.bfloat16).cuda()\n",
    "v = v.to(torch.bfloat16).cuda()"
   ]
  },
  {
   "cell_type": "code",
   "execution_count": 3,
   "metadata": {},
   "outputs": [
    {
     "name": "stdout",
     "output_type": "stream",
     "text": [
      "torch.Size([2, 128, 8, 64])\n"
     ]
    }
   ],
   "source": [
    "output_flash_attn = flash_attn_func(q, k, v)\n",
    "print(output_flash_attn.shape)"
   ]
  },
  {
   "cell_type": "code",
   "execution_count": 4,
   "metadata": {},
   "outputs": [
    {
     "name": "stdout",
     "output_type": "stream",
     "text": [
      "torch.Size([2, 128, 8, 64])\n"
     ]
    }
   ],
   "source": [
    "activation = torch.einsum('bqhc,bkhc->bhqk',q,k) / (head_dim**0.5)\n",
    "output = torch.einsum('bhqk,bkhc->bqhc',activation,v)\n",
    "print(output.shape)"
   ]
  },
  {
   "cell_type": "code",
   "execution_count": 8,
   "metadata": {},
   "outputs": [
    {
     "data": {
      "text/plain": [
       "tensor([ 13.6875,   2.9844,   1.0938,   6.7500,  20.8750,   9.7500,   0.8945,\n",
       "          3.7812,   7.3125,  -3.6250,  -0.6055,  10.7500,  -6.7188, -20.0000,\n",
       "          8.4375, -19.0000, -12.1875,   3.0469,   6.6562,  20.1250,   3.6719,\n",
       "         12.1250, -10.5625,   8.5000,  -6.3125,  15.7500, -11.6250,   4.1875,\n",
       "         -7.2500,   4.1562, -13.3125,   5.5625,   8.3750,  -8.8125,  13.5000,\n",
       "         -5.0312,   9.8750,  13.4375,   5.1875,  -0.0776,  -3.4688, -10.6250,\n",
       "         -2.0781, -24.1250,  -2.1875,   8.5000, -17.1250,  12.6875,   9.1250,\n",
       "          8.6250,   9.3125,   0.7578, -16.0000,   2.4375,  -9.1875,  14.6250,\n",
       "        -11.9375,  -7.3438,   7.1250,   2.2656,  -1.1016,  -1.9297, -10.1875,\n",
       "         14.3125], device='cuda:0', dtype=torch.bfloat16)"
      ]
     },
     "execution_count": 8,
     "metadata": {},
     "output_type": "execute_result"
    }
   ],
   "source": [
    "output[0,0,0]"
   ]
  },
  {
   "cell_type": "code",
   "execution_count": 6,
   "metadata": {},
   "outputs": [],
   "source": [
    "causal_mask = torch.triu(torch.full((seqlen, seqlen), -10000.0, device=q.device), 1) # 1 means diagonal and above\n",
    "# node can attend itself and the nodes before it"
   ]
  },
  {
   "cell_type": "markdown",
   "metadata": {},
   "source": [
    "### cross attention"
   ]
  },
  {
   "cell_type": "code",
   "execution_count": 15,
   "metadata": {},
   "outputs": [],
   "source": [
    "memory_len = 256\n",
    "memory_k = torch.randn(batchsize, memory_len, num_heads, head_dim, device=q.device).to(torch.bfloat16)\n",
    "memory_v = torch.randn(batchsize, memory_len, num_heads, head_dim, device=q.device).to(torch.bfloat16)"
   ]
  },
  {
   "cell_type": "code",
   "execution_count": 16,
   "metadata": {},
   "outputs": [],
   "source": [
    "output_cross_attention = flash_attn_func(q, memory_k, memory_v)"
   ]
  },
  {
   "cell_type": "code",
   "execution_count": null,
   "metadata": {},
   "outputs": [],
   "source": []
  }
 ],
 "metadata": {
  "kernelspec": {
   "display_name": "Python 3 (ipykernel)",
   "language": "python",
   "name": "python3"
  },
  "language_info": {
   "codemirror_mode": {
    "name": "ipython",
    "version": 3
   },
   "file_extension": ".py",
   "mimetype": "text/x-python",
   "name": "python",
   "nbconvert_exporter": "python",
   "pygments_lexer": "ipython3",
   "version": "3.10.12"
  }
 },
 "nbformat": 4,
 "nbformat_minor": 2
}
