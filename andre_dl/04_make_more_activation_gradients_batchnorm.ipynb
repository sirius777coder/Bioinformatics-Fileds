{
 "cells": [
  {
   "cell_type": "markdown",
   "metadata": {},
   "source": [
    "## Activations(forward pass), Gradients(backward pass), Batchnorm\n",
    "\n",
    "2024.07.31\n",
    "\n",
    "语言模型在transformer前的中流砥柱，RNN和他的变体GRU、LSTM\n",
    "\n",
    "为什么在介绍RNN之前需要介绍模型训练中的activation和gradient,这对于理解RNN系列网络发展历史很有帮助。虽然RNN网络的表示能力非常强(very expressive, they are universal approximator and can in priciple inplement all the algorithms)，但是这一类网络使用一阶导数梯度下降很难优化,理解这一点的核心就是理解训练中的activations,gradients,后面的网络都是来解决这一类问题\n"
   ]
  },
  {
   "cell_type": "markdown",
   "metadata": {},
   "source": [
    "### 1.original code"
   ]
  },
  {
   "cell_type": "code",
   "execution_count": 184,
   "metadata": {},
   "outputs": [],
   "source": [
    "import torch\n",
    "import torch.nn.functional as F\n",
    "import matplotlib.pyplot as plt\n",
    "import torch.nn as nn"
   ]
  },
  {
   "cell_type": "code",
   "execution_count": 11,
   "metadata": {},
   "outputs": [
    {
     "data": {
      "text/plain": [
       "['emma', 'olivia', 'ava', 'isabella', 'sophia', 'charlotte', 'mia', 'amelia']"
      ]
     },
     "execution_count": 11,
     "metadata": {},
     "output_type": "execute_result"
    }
   ],
   "source": [
    "# read in all the words\n",
    "words = open('makemore/names.txt').read().splitlines()\n",
    "words[:8]"
   ]
  },
  {
   "cell_type": "code",
   "execution_count": 13,
   "metadata": {},
   "outputs": [
    {
     "data": {
      "text/plain": [
       "32033"
      ]
     },
     "execution_count": 13,
     "metadata": {},
     "output_type": "execute_result"
    }
   ],
   "source": [
    "len(words)\n",
    "# number of examples"
   ]
  },
  {
   "cell_type": "code",
   "execution_count": 24,
   "metadata": {},
   "outputs": [
    {
     "data": {
      "text/plain": [
       "{'a': 0,\n",
       " 'b': 1,\n",
       " 'c': 2,\n",
       " 'd': 3,\n",
       " 'e': 4,\n",
       " 'f': 5,\n",
       " 'g': 6,\n",
       " 'h': 7,\n",
       " 'i': 8,\n",
       " 'j': 9,\n",
       " 'k': 10,\n",
       " 'l': 11,\n",
       " 'm': 12,\n",
       " 'n': 13,\n",
       " 'o': 14,\n",
       " 'p': 15,\n",
       " 'q': 16,\n",
       " 'r': 17,\n",
       " 's': 18,\n",
       " 't': 19,\n",
       " 'u': 20,\n",
       " 'v': 21,\n",
       " 'w': 22,\n",
       " 'x': 23,\n",
       " 'y': 24,\n",
       " 'z': 25,\n",
       " '.': 0}"
      ]
     },
     "execution_count": 24,
     "metadata": {},
     "output_type": "execute_result"
    }
   ],
   "source": [
    "stoi"
   ]
  },
  {
   "cell_type": "code",
   "execution_count": 25,
   "metadata": {},
   "outputs": [
    {
     "name": "stdout",
     "output_type": "stream",
     "text": [
      "{1: 'a', 2: 'b', 3: 'c', 4: 'd', 5: 'e', 6: 'f', 7: 'g', 8: 'h', 9: 'i', 10: 'j', 11: 'k', 12: 'l', 13: 'm', 14: 'n', 15: 'o', 16: 'p', 17: 'q', 18: 'r', 19: 's', 20: 't', 21: 'u', 22: 'v', 23: 'w', 24: 'x', 25: 'y', 26: 'z', 0: '.'}\n",
      "27\n"
     ]
    }
   ],
   "source": [
    "# build the vocabulary of characters and mappings to/from integers\n",
    "chars = sorted(list(set(''.join(words))))\n",
    "stoi = {s:i+1 for i,s in enumerate(chars)}\n",
    "stoi['.'] = 0\n",
    "itos = {i:s for s,i in stoi.items()}\n",
    "vocab_size = len(itos)\n",
    "print(itos)\n",
    "print(vocab_size)"
   ]
  },
  {
   "cell_type": "code",
   "execution_count": 26,
   "metadata": {},
   "outputs": [
    {
     "name": "stdout",
     "output_type": "stream",
     "text": [
      "training shape : torch.Size([182441, 3]),torch.Size([182441])\n",
      "Dev shape : torch.Size([22902, 3]),torch.Size([22902])\n",
      "Test shape : torch.Size([22803, 3]),torch.Size([22803])\n",
      "27\n"
     ]
    }
   ],
   "source": [
    "# build the database\n",
    "block_size= 3 # context_window, 4 gram\n",
    "def build_dataset(words):\n",
    "    X, Y  = [], []\n",
    "    for w in words:\n",
    "        context = [0] * block_size # extend [0] -> [0,0,0]\n",
    "        for ch in w +'.':\n",
    "            ix = stoi[ch]\n",
    "            X.append(context)\n",
    "            Y.append(ix)\n",
    "            context = context[1:] + [ix] # concat two list \n",
    "    X = torch.tensor(X)\n",
    "    Y = torch.tensor(Y)\n",
    "    return X,Y\n",
    "\n",
    "import random\n",
    "random.seed(42)\n",
    "random.shuffle(words)\n",
    "n1 = int(0.8*len(words))\n",
    "n2 = int(0.9*len(words))\n",
    "\n",
    "Xtr, Ytr = build_dataset(words[:n1])\n",
    "Xdev, Ydev = build_dataset(words[n1:n2])\n",
    "Xte, Yte = build_dataset(words[n2:])\n",
    "print(f\"training shape : {Xtr.shape},{Ytr.shape}\") # 0.8 training\n",
    "print(f\"Dev shape : {Xdev.shape},{Ydev.shape}\") # 0.1 validation \n",
    "print(f\"Test shape : {Xte.shape},{Yte.shape}\") # 0.1 test\n",
    "print(vocab_size)"
   ]
  },
  {
   "cell_type": "code",
   "execution_count": 28,
   "metadata": {},
   "outputs": [
    {
     "name": "stdout",
     "output_type": "stream",
     "text": [
      "11897\n"
     ]
    }
   ],
   "source": [
    "# MLP revisted\n",
    "n_embd = 10 # one-hot to embedding\n",
    "n_hidden = 200\n",
    "g = torch.Generator().manual_seed(2147483467)\n",
    "C = torch.randn(vocab_size, n_embd,             generator=g)\n",
    "W1 = torch.randn(n_embd*block_size, n_hidden,   generator=g)\n",
    "b1 = torch.randn(n_hidden,                      generator=g)\n",
    "W2 = torch.randn(n_hidden,vocab_size,           generator=g)\n",
    "b2 = torch.randn(vocab_size,                    generator=g)\n",
    "\n",
    "parameters = [C,W1,b1,W2,b2]\n",
    "print(sum(p.nelement() for p in parameters))\n",
    "for p in parameters:\n",
    "    p.requires_grad = True"
   ]
  },
  {
   "cell_type": "code",
   "execution_count": 30,
   "metadata": {},
   "outputs": [
    {
     "data": {
      "text/plain": [
       "182441"
      ]
     },
     "execution_count": 30,
     "metadata": {},
     "output_type": "execute_result"
    }
   ],
   "source": [
    "Xtr.shape[0]"
   ]
  },
  {
   "cell_type": "code",
   "execution_count": 34,
   "metadata": {},
   "outputs": [
    {
     "name": "stdout",
     "output_type": "stream",
     "text": [
      "      0 /  200000: 25.8893\n",
      "  10000 /  200000: 1.7689\n",
      "  20000 /  200000: 2.5928\n",
      "  30000 /  200000: 2.2552\n",
      "  40000 /  200000: 1.9236\n",
      "  50000 /  200000: 2.5633\n",
      "  60000 /  200000: 2.3320\n",
      "  70000 /  200000: 2.8833\n",
      "  80000 /  200000: 2.2424\n",
      "  90000 /  200000: 2.1624\n",
      " 100000 /  200000: 1.9963\n",
      " 110000 /  200000: 2.2741\n",
      " 120000 /  200000: 2.3269\n",
      " 130000 /  200000: 2.5116\n",
      " 140000 /  200000: 2.2918\n",
      " 150000 /  200000: 2.0778\n",
      " 160000 /  200000: 2.2967\n",
      " 170000 /  200000: 2.4276\n",
      " 180000 /  200000: 2.3654\n",
      " 190000 /  200000: 2.2814\n"
     ]
    }
   ],
   "source": [
    "# 过去的数据我们是怎么做的？\n",
    "# 1.每一个dataset切分为不同的batch,这样整体的batch基本确保每个epoch可以把dataset过一遍; 数据训练更加有效\n",
    "# 2.有了dataset划分为基本的datasample, 这样其实就没有epoch这个概念，只用iteration这个概念，每次从dataset随机sample一个batch_size的数据，这样的优势是什么?\n",
    "\n",
    "# 3.注意一个点：(2)表示数字2， (2,)才表示一个tuple, 因此torch.randint(0,Xtr.shape[0],(batch_size))会报错，而torch.randint(0,Xtr.shape[0],(batch_size,)不会报错\n",
    "# same optimization\n",
    "max_steps = 200000\n",
    "batch_size = 32\n",
    "lossi = []\n",
    "for i in range(max_steps):\n",
    "    # minibatch construct\n",
    "    ix = torch.randint(0,Xtr.shape[0],(batch_size,),generator=g) #每次batch的sample数据其实是index\n",
    "    Xb,Yb = Xtr[ix],Ytr[ix]\n",
    "\n",
    "    # forward pass\n",
    "    emb = C[Xb] #[batch,block_size,n_emb]\n",
    "    embcat = emb.reshape(emb.shape[0],-1) # [batch, block_size * n_emb]\n",
    "    hpreact = embcat @ W1 + b1\n",
    "    h1 = torch.tanh(hpreact)\n",
    "    logits = h1 @ W2 + b2\n",
    "    \n",
    "    # loss computation\n",
    "    loss = F.cross_entropy(logits,Yb) # [batch, vocab],[vocab]\n",
    "    \n",
    "    # zero_grad\n",
    "    for p in parameters:\n",
    "        p.grad = None\n",
    "    \n",
    "    # backward\n",
    "    loss.backward()\n",
    "\n",
    "    # optimization\n",
    "    lr = 0.1 if i < 100000 else 0.1 # step learning rate decay\n",
    "    for p in parameters:\n",
    "        p.data += -lr * p.grad\n",
    "\n",
    "    # track stats\n",
    "    if i % 10000 == 0:\n",
    "        print(f\"{i :7d} / {max_steps : 7d}: {loss.item() :.4f}\")\n",
    "    lossi.append(loss.log10().item())\n",
    "    "
   ]
  },
  {
   "cell_type": "code",
   "execution_count": 37,
   "metadata": {},
   "outputs": [
    {
     "data": {
      "text/plain": [
       "[<matplotlib.lines.Line2D at 0x721b03928c70>]"
      ]
     },
     "execution_count": 37,
     "metadata": {},
     "output_type": "execute_result"
    },
    {
     "data": {
      "image/png": "[encoded data removed]",
      "text/plain": [
       "<Figure size 640x480 with 1 Axes>"
      ]
     },
     "metadata": {},
     "output_type": "display_data"
    }
   ],
   "source": [
    "plt.plot(lossi)"
   ]
  },
  {
   "cell_type": "code",
   "execution_count": 38,
   "metadata": {},
   "outputs": [
    {
     "name": "stdout",
     "output_type": "stream",
     "text": [
      "train 2.2018580436706543\n",
      "test 2.262258768081665\n"
     ]
    }
   ],
   "source": [
    "@torch.no_grad() # 函数的装饰器，表示调用这个函数的时候不用建立计算图，等价于with torch.no_grad()\n",
    "def split_loss(split):\n",
    "    x,y = {\n",
    "        'train':(Xtr,Ytr),\n",
    "        'val':(Xdev,Ydev),\n",
    "        'test':(Xte,Yte)\n",
    "    }[split]\n",
    "    emb = C[x] #[N,3,emb]\n",
    "    embcat = emb.reshape(emb.shape[0],-1) #[N,3*emmb]\n",
    "    h = torch.tanh(embcat@W1+b1) # [N,n_hidden]\n",
    "    logits = h@W2+b2\n",
    "    loss = F.cross_entropy(logits,y)\n",
    "    print(split,loss.item())\n",
    "\n",
    "split_loss('train')\n",
    "split_loss('test')\n"
   ]
  },
  {
   "cell_type": "code",
   "execution_count": 46,
   "metadata": {},
   "outputs": [
    {
     "name": "stdout",
     "output_type": "stream",
     "text": [
      "laileer\n",
      "fita\n",
      "kaith\n",
      "ah\n",
      "doristyn\n",
      "anna\n",
      "yideli\n",
      "yell\n",
      "ari\n",
      "maraze\n",
      "elle\n",
      "geaenuiston\n",
      "myonnei\n",
      "grayleni\n",
      "mari\n",
      "youldemontaon\n",
      "yani\n",
      "ramoni\n",
      "gin\n",
      "macie\n"
     ]
    }
   ],
   "source": [
    "# sample from the model\n",
    "# batch_zie = 1,从logtis中sample, 需要不断调整context_window,\n",
    "g = torch.Generator().manual_seed(7777777)\n",
    "\n",
    "for _ in range(20):\n",
    "    out = []\n",
    "    context = [0] *block_size #[context window] #[block_size]\n",
    "    while True:\n",
    "        emb = C[torch.tensor(context)] # [block_size,emb]\n",
    "        embcat = emb.reshape(1,-1) # [1,block_size*emb]\n",
    "        h = torch.tanh(embcat @ W1 + b1) # [1,hidden]\n",
    "        logits = h @ W2 + b2 # [vocab]\n",
    "        probs = F.softmax(logits,dim=-1) # [1,vocab]-prob\n",
    "        # sample from distribution\n",
    "        ix = torch.multinomial(probs,1,replacement=True).item()  # [1]\n",
    "        # shift the context window and track the sample\n",
    "        context = context[1:] + [ix]\n",
    "        # if we sample the special '.' token, break\n",
    "        out.append(ix)\n",
    "        if ix == 0:\n",
    "            break\n",
    "    print(''.join(itos[i] for i in out)[:-1])\n"
   ]
  },
  {
   "cell_type": "markdown",
   "metadata": {},
   "source": [
    "### 2. 最开始的Loss太高了，是因为initialization非常不好\n",
    "\n",
    "初始化好的作用：\n",
    "1. loss在刚开始训练的时候是我们理想的loss----loss刚开始更低，和uniform distribution接近\n",
    "2. loss曲线并不会像一个hocky stick,因为我们拿走了网络中最简单的那一个部分,\n",
    "3. 最终训练集和测试集的loss比random initialization loss更低,因为我们花了更多的cycle去真正优化模型，而不是让模型在前几个iterations只是去squashing down the weights ---- 现在weight刚开始更低，在零附近\n",
    "\n",
    "总之，初始化好了之后，可以让模型花更多时间有效的学习，而不是浪费前面的iteration在squashing down weights上"
   ]
  },
  {
   "cell_type": "code",
   "execution_count": 48,
   "metadata": {},
   "outputs": [
    {
     "data": {
      "text/plain": [
       "tensor(3.2958)"
      ]
     },
     "execution_count": 48,
     "metadata": {},
     "output_type": "execute_result"
    }
   ],
   "source": [
    "# 刚开始的loss是27，非常差\n",
    "# 理论上初始化之后希望得到一个uniform distribution, 概率为1/27\n",
    "-torch.tensor(1/27.0).log()"
   ]
  },
  {
   "cell_type": "code",
   "execution_count": null,
   "metadata": {},
   "outputs": [],
   "source": [
    "# at initialization, the nueral net is creating probability distributions that are all messed up.神经网络在初始化概率分布是乱七八糟的\n",
    "# some characters are very confident and some are not confident\n",
    "# basically what's happening is that the network is very confidently wrong,这也就导致了刚开始的loss非常高"
   ]
  },
  {
   "cell_type": "code",
   "execution_count": 70,
   "metadata": {},
   "outputs": [
    {
     "data": {
      "text/plain": [
       "(tensor([-26.7321,   7.8644,  -8.7521,  16.5426]),\n",
       " tensor([1.6068e-19, 1.7023e-04, 1.0341e-11, 9.9983e-01]),\n",
       " tensor(25.2949))"
      ]
     },
     "execution_count": 70,
     "metadata": {},
     "output_type": "execute_result"
    }
   ],
   "source": [
    "# 测试一下4-dimensional example of the issue\n",
    "logits = torch.randn(4) * 20 # confidently wrong\n",
    "probs = torch.softmax(logits,dim=-1)\n",
    "loss = -probs[2].log()\n",
    "logits,probs,loss"
   ]
  },
  {
   "cell_type": "code",
   "execution_count": 72,
   "metadata": {},
   "outputs": [
    {
     "data": {
      "text/plain": [
       "(tensor([0., 0., 0., 0.]),\n",
       " tensor([0.2500, 0.2500, 0.2500, 0.2500]),\n",
       " tensor(1.3863))"
      ]
     },
     "execution_count": 72,
     "metadata": {},
     "output_type": "execute_result"
    }
   ],
   "source": [
    "# 核心的目的是当网络初始化的时候，我们希望logits都在zero附近，这样得到uniform distribution方便优化\n",
    "# PS: 其实将logits固定为某一个正数或者某一个负数也可以，但是为了对称性，我们希望我们的logits都是0\n",
    "logits = torch.tensor([0.,0.,0.,0.])\n",
    "probs = torch.softmax(logits,dim=-1)\n",
    "loss = -probs[2].log()\n",
    "logits,probs,loss"
   ]
  },
  {
   "cell_type": "code",
   "execution_count": 104,
   "metadata": {},
   "outputs": [
    {
     "name": "stdout",
     "output_type": "stream",
     "text": [
      "11897\n"
     ]
    }
   ],
   "source": [
    "# 重新看我们的初始化和代码------核心目标，希望logits最后在零附近,不要变成extreme value\n",
    "# 1.为什么大部分模型的projection layer, bias都为False\n",
    "# MLP revisted\n",
    "n_embd = 10 # one-hot to embedding\n",
    "n_hidden = 200\n",
    "g = torch.Generator().manual_seed(2147483467)\n",
    "C = torch.randn(vocab_size, n_embd,             generator=g)\n",
    "W1 = torch.randn(n_embd*block_size, n_hidden,   generator=g)\n",
    "b1 = torch.randn(n_hidden,                      generator=g) \n",
    "W2 = torch.randn(n_hidden,vocab_size,           generator=g) * 0.01 # logits = h @ W2, 因此希望logits在零附近，可以给W2一个很小的值,但是最好不要给W2完全=0，虽然这样会得到一个最好的initialization loss\n",
    "b2 = torch.randn(vocab_size,                    generator=g) * 0 # b2直接设置为0，因为希望b2附近的bias为0,NeMO项目中初始化projection b2也为0\n",
    "\n",
    "parameters = [C,W1,b1,W2,b2]\n",
    "print(sum(p.nelement() for p in parameters))\n",
    "for p in parameters:\n",
    "    p.requires_grad = True"
   ]
  },
  {
   "cell_type": "code",
   "execution_count": 105,
   "metadata": {},
   "outputs": [
    {
     "name": "stdout",
     "output_type": "stream",
     "text": [
      "      0 /  200000: 3.3350\n",
      "  10000 /  200000: 1.8129\n",
      "  20000 /  200000: 2.2563\n",
      "  30000 /  200000: 2.0792\n",
      "  40000 /  200000: 1.8910\n",
      "  50000 /  200000: 2.2265\n",
      "  60000 /  200000: 2.2619\n",
      "  70000 /  200000: 2.3287\n",
      "  80000 /  200000: 2.3423\n",
      "  90000 /  200000: 1.8591\n",
      " 100000 /  200000: 1.8025\n",
      " 110000 /  200000: 2.1844\n",
      " 120000 /  200000: 2.1090\n",
      " 130000 /  200000: 2.0773\n",
      " 140000 /  200000: 2.1402\n",
      " 150000 /  200000: 1.9608\n",
      " 160000 /  200000: 1.9829\n",
      " 170000 /  200000: 2.3272\n",
      " 180000 /  200000: 2.3824\n",
      " 190000 /  200000: 2.1729\n"
     ]
    }
   ],
   "source": [
    "max_steps = 200000\n",
    "batch_size = 32\n",
    "lossi = []\n",
    "for i in range(max_steps):\n",
    "    # minibatch construct\n",
    "    ix = torch.randint(0,Xtr.shape[0],(batch_size,),generator=g) #每次batch的sample数据其实是index\n",
    "    Xb,Yb = Xtr[ix],Ytr[ix]\n",
    "\n",
    "    # forward pass\n",
    "    emb = C[Xb] #[batch,block_size,n_emb]\n",
    "    embcat = emb.reshape(emb.shape[0],-1) # [batch, block_size * n_emb]\n",
    "    hpreact = embcat @ W1 + b1\n",
    "    h1 = torch.tanh(hpreact)\n",
    "    logits = h1 @ W2 + b2\n",
    "    \n",
    "    # loss computation\n",
    "    loss = F.cross_entropy(logits,Yb) # [batch, vocab],[vocab]\n",
    "    \n",
    "    # zero_grad\n",
    "    for p in parameters:\n",
    "        p.grad = None\n",
    "    \n",
    "    # backward\n",
    "    loss.backward()\n",
    "\n",
    "    # optimization\n",
    "    lr = 0.1 if i < 100000 else 0.1 # step learning rate decay\n",
    "    for p in parameters:\n",
    "        p.data += -lr * p.grad\n",
    "\n",
    "    # track stats\n",
    "    if i % 10000 == 0:\n",
    "        print(f\"{i :7d} / {max_steps : 7d}: {loss.item() :.4f}\")\n",
    "    lossi.append(loss.log10().item())\n",
    "\n",
    "    # ---DEBUG---\n",
    "    # break\n",
    "    "
   ]
  },
  {
   "cell_type": "code",
   "execution_count": 106,
   "metadata": {},
   "outputs": [
    {
     "data": {
      "text/plain": [
       "[<matplotlib.lines.Line2D at 0x721b0398c2e0>]"
      ]
     },
     "execution_count": 106,
     "metadata": {},
     "output_type": "execute_result"
    },
    {
     "data": {
      "image/png": "[encoded data removed]",
      "text/plain": [
       "<Figure size 640x480 with 1 Axes>"
      ]
     },
     "metadata": {},
     "output_type": "display_data"
    }
   ],
   "source": [
    "plt.plot(lossi)\n",
    "# by andrej:\n",
    "# the plot of loss doesn't have this hocky shape appearance , because what's happening in the hocky stick, the ver\n",
    "# first iterations of the loss what's happening during the optimization is the optimization is just squashing down the logits\n",
    "# and then it's rearranging the logits. So basically we took away this easy part of the loss function, the weights were just being shrunk down.\n",
    "# so therefore we don't get these easy gians at the beginning, and we're just getting some of the hard gains of training the neural nets"
   ]
  },
  {
   "cell_type": "code",
   "execution_count": 103,
   "metadata": {},
   "outputs": [
    {
     "data": {
      "text/plain": [
       "tensor([-0.1998, -0.0653, -0.0585,  0.0231, -0.1083,  0.0320,  0.0511,  0.1527,\n",
       "         0.0324,  0.0747,  0.0370, -0.1811, -0.3098,  0.1957,  0.2041, -0.2903,\n",
       "         0.2246,  0.0566,  0.0523, -0.2549, -0.0042,  0.0157, -0.0253, -0.0394,\n",
       "        -0.1591,  0.0090,  0.0607], grad_fn=<SelectBackward0>)"
      ]
     },
     "execution_count": 103,
     "metadata": {},
     "output_type": "execute_result"
    }
   ],
   "source": [
    "logits[0]"
   ]
  },
  {
   "cell_type": "code",
   "execution_count": 98,
   "metadata": {},
   "outputs": [
    {
     "data": {
      "text/plain": [
       "tensor(3.2958)"
      ]
     },
     "execution_count": 98,
     "metadata": {},
     "output_type": "execute_result"
    }
   ],
   "source": [
    "# 注意标准初始化的结果和W2=0,b=0结果一样，但是这样初始化并不好!!!Andrej : I'm very nervous\n",
    "-torch.tensor(1/27.0).log()"
   ]
  },
  {
   "cell_type": "code",
   "execution_count": 107,
   "metadata": {},
   "outputs": [
    {
     "name": "stdout",
     "output_type": "stream",
     "text": [
      "train 2.1460914611816406\n",
      "test 2.2219550609588623\n"
     ]
    }
   ],
   "source": [
    "@torch.no_grad() # 函数的装饰器，表示调用这个函数的时候不用建立计算图，等价于with torch.no_grad()\n",
    "def split_loss(split):\n",
    "    x,y = {\n",
    "        'train':(Xtr,Ytr),\n",
    "        'val':(Xdev,Ydev),\n",
    "        'test':(Xte,Yte)\n",
    "    }[split]\n",
    "    emb = C[x] #[N,3,emb]\n",
    "    embcat = emb.reshape(emb.shape[0],-1) #[N,3*emmb]\n",
    "    h = torch.tanh(embcat@W1+b1) # [N,n_hidden]\n",
    "    logits = h@W2+b2\n",
    "    loss = F.cross_entropy(logits,y)\n",
    "    print(split,loss.item())\n",
    "\n",
    "split_loss('train')\n",
    "split_loss('test')\n"
   ]
  },
  {
   "cell_type": "markdown",
   "metadata": {},
   "source": [
    "### 3. saturated activation function tanh "
   ]
  },
  {
   "cell_type": "code",
   "execution_count": 144,
   "metadata": {},
   "outputs": [
    {
     "name": "stdout",
     "output_type": "stream",
     "text": [
      "11897\n"
     ]
    }
   ],
   "source": [
    "# 重新看我们的初始化和代码------核心目标，希望logits最后在零附近,不要变成extreme value\n",
    "# 1.为什么大部分模型的projection layer, bias都为False\n",
    "# MLP revisted\n",
    "n_embd = 10 # one-hot to embedding\n",
    "n_hidden = 200\n",
    "g = torch.Generator().manual_seed(2147483467)\n",
    "C = torch.randn(vocab_size, n_embd,             generator=g)\n",
    "W1 = torch.randn(n_embd*block_size, n_hidden,   generator=g) * 0.2 # 设置的稍微大一些，可能会有一点多样性，但是核心还是还能让hpreact在0附近\n",
    "b1 = torch.randn(n_hidden,                      generator=g) * 0.01\n",
    "W2 = torch.randn(n_hidden,vocab_size,           generator=g) * 0.01 # logits = h @ W2, 因此希望logits在零附近，可以给W2一个很小的值,但是最好不要给W2完全=0，虽然这样会得到一个最好的initialization loss\n",
    "b2 = torch.randn(vocab_size,                    generator=g) * 0 # b2直接设置为0，因为希望b2附近的bias为0,NeMO项目中初始化projection b2也为0\n",
    "\n",
    "parameters = [C,W1,b1,W2,b2]\n",
    "print(sum(p.nelement() for p in parameters))\n",
    "for p in parameters:\n",
    "    p.requires_grad = True"
   ]
  },
  {
   "cell_type": "code",
   "execution_count": 145,
   "metadata": {},
   "outputs": [
    {
     "name": "stdout",
     "output_type": "stream",
     "text": [
      "      0 /  200000: 3.3204\n",
      "  10000 /  200000: 1.8148\n",
      "  20000 /  200000: 2.1838\n",
      "  30000 /  200000: 2.0050\n",
      "  40000 /  200000: 1.8666\n",
      "  50000 /  200000: 2.2007\n",
      "  60000 /  200000: 2.0951\n",
      "  70000 /  200000: 2.5550\n",
      "  80000 /  200000: 2.3031\n",
      "  90000 /  200000: 1.8860\n",
      " 100000 /  200000: 1.7799\n",
      " 110000 /  200000: 2.2700\n",
      " 120000 /  200000: 2.0954\n",
      " 130000 /  200000: 1.9765\n",
      " 140000 /  200000: 2.1081\n",
      " 150000 /  200000: 1.9246\n",
      " 160000 /  200000: 1.9466\n",
      " 170000 /  200000: 2.0160\n",
      " 180000 /  200000: 2.3037\n",
      " 190000 /  200000: 2.1909\n"
     ]
    }
   ],
   "source": [
    "max_steps = 200000\n",
    "batch_size = 32\n",
    "lossi = []\n",
    "for i in range(max_steps):\n",
    "    # minibatch construct\n",
    "    ix = torch.randint(0,Xtr.shape[0],(batch_size,),generator=g) #每次batch的sample数据其实是index\n",
    "    Xb,Yb = Xtr[ix],Ytr[ix]\n",
    "\n",
    "    # forward pass\n",
    "    emb = C[Xb] #[batch,block_size,n_emb]\n",
    "    embcat = emb.reshape(emb.shape[0],-1) # [batch, block_size * n_emb]\n",
    "    hpreact = embcat @ W1 + b1 \n",
    "    h = torch.tanh(hpreact) # h很多在1,-1之间，因此需要将hpreact变成离零很近的数值\n",
    "    logits = h @ W2 + b2\n",
    "    \n",
    "    # loss computation\n",
    "    loss = F.cross_entropy(logits,Yb) # [batch, vocab],[vocab]\n",
    "    \n",
    "    # zero_grad\n",
    "    for p in parameters:\n",
    "        p.grad = None\n",
    "    \n",
    "    # backward\n",
    "    loss.backward()\n",
    "\n",
    "    # optimization\n",
    "    lr = 0.1 if i < 100000 else 0.1 # step learning rate decay\n",
    "    for p in parameters:\n",
    "        p.data += -lr * p.grad\n",
    "\n",
    "    # track stats\n",
    "    if i % 10000 == 0:\n",
    "        print(f\"{i :7d} / {max_steps : 7d}: {loss.item() :.4f}\")\n",
    "    lossi.append(loss.log10().item())\n",
    "\n",
    "    # ---DEBUG---\n",
    "    # break\n",
    "    "
   ]
  },
  {
   "cell_type": "code",
   "execution_count": 139,
   "metadata": {},
   "outputs": [
    {
     "data": {
      "image/png": "[encoded data removed]",
      "text/plain": [
       "<Figure size 640x480 with 1 Axes>"
      ]
     },
     "metadata": {},
     "output_type": "display_data"
    }
   ],
   "source": [
    "plt.hist(h.view(-1).tolist(),50); # a semicolon to suppress a bunch of output we don't want"
   ]
  },
  {
   "cell_type": "code",
   "execution_count": 140,
   "metadata": {},
   "outputs": [
    {
     "data": {
      "image/png": "[encoded data removed]",
      "text/plain": [
       "<Figure size 640x480 with 1 Axes>"
      ]
     },
     "metadata": {},
     "output_type": "display_data"
    }
   ],
   "source": [
    "plt.hist(hpreact.view(-1).tolist(),50); # 激活函数前的值非常大，从-15到15，所以这些value都被squashing到-1和1"
   ]
  },
  {
   "cell_type": "code",
   "execution_count": 125,
   "metadata": {},
   "outputs": [],
   "source": [
    "# def tanh(self):\n",
    "#     # auto grad engine不在乎每个步骤是不是基础运算，只要定义出the derivative of the partent node with repsect to the child node即可---定义local grad\n",
    "#     x = self.data\n",
    "#     t = (math.exp(2*x)-1) / (math.exp(2*x)+1)\n",
    "#     out = Value(t,(self,), 'tanh')    \n",
    "#     def _backward():\n",
    "#         self.grad += (1 - t**2) * out.grad # chain rule : local gradient * global gradient\n",
    "#     out._backward = _backward\n",
    "#     return out\n",
    "\n",
    "# 每一个value,如果tanh之后t非常接近-1或者1，那么1-t**2就是0，所以tanh就会kill掉所有global gradient,也就是local gradient为0，阻止了global gradient"
   ]
  },
  {
   "cell_type": "code",
   "execution_count": 141,
   "metadata": {},
   "outputs": [
    {
     "data": {
      "text/plain": [
       "<matplotlib.image.AxesImage at 0x721aee0ba610>"
      ]
     },
     "execution_count": 141,
     "metadata": {},
     "output_type": "execute_result"
    },
    {
     "data": {
      "image/png": "[encoded data removed]",
      "text/plain": [
       "<Figure size 2000x1000 with 1 Axes>"
      ]
     },
     "metadata": {},
     "output_type": "display_data"
    }
   ],
   "source": [
    "# 看一下h通过tanh之后有多少是大于0.99的\n",
    "plt.figure(figsize=(20,10))\n",
    "plt.imshow(h.abs()>0.99,cmap='gray',interpolation='nearest') # [32, 200] input, 200 neurons, white for True and black for False\n",
    "# 大部分白色的区域，梯度会被destroyed\n",
    "# 200个neuron, 当某一列全白色，表示这一个batch的所有梯度过来，都不会更新这一个neuron,表示dead tensor\n",
    "# 不管什么input进来，这一个nueron是-1或者1，无法更新---- tanh dead neuron\n",
    "# 不管什么input进来，这个neuron都是负数，这个relu neuron是一个dead neuron , 这个neuron的weights and bias都不会再被更新,在初始化和训练都有可能发生,训练中如果梯度太大，lr也太大，从此之后没有example可以activate这些neuron\n",
    "# relu dead neuron it's like a permanent brain damage in a mind\n",
    "# leaky ReLU没有flat tail,永远会有梯度"
   ]
  },
  {
   "cell_type": "code",
   "execution_count": 147,
   "metadata": {},
   "outputs": [
    {
     "data": {
      "text/plain": [
       "[<matplotlib.lines.Line2D at 0x721aee1033d0>]"
      ]
     },
     "execution_count": 147,
     "metadata": {},
     "output_type": "execute_result"
    },
    {
     "data": {
      "image/png": "[encoded data removed]",
      "text/plain": [
       "<Figure size 640x480 with 1 Axes>"
      ]
     },
     "metadata": {},
     "output_type": "display_data"
    }
   ],
   "source": [
    "plt.plot(lossi)"
   ]
  },
  {
   "cell_type": "code",
   "execution_count": 146,
   "metadata": {},
   "outputs": [
    {
     "name": "stdout",
     "output_type": "stream",
     "text": [
      "train 2.10556960105896\n",
      "test 2.181131601333618\n"
     ]
    }
   ],
   "source": [
    "@torch.no_grad() # 函数的装饰器，表示调用这个函数的时候不用建立计算图，等价于with torch.no_grad()\n",
    "def split_loss(split):\n",
    "    x,y = {\n",
    "        'train':(Xtr,Ytr),\n",
    "        'val':(Xdev,Ydev),\n",
    "        'test':(Xte,Yte)\n",
    "    }[split]\n",
    "    emb = C[x] #[N,3,emb]\n",
    "    embcat = emb.reshape(emb.shape[0],-1) #[N,3*emmb]\n",
    "    h = torch.tanh(embcat@W1+b1) # [N,n_hidden]\n",
    "    logits = h@W2+b2\n",
    "    loss = F.cross_entropy(logits,y)\n",
    "    print(split,loss.item())\n",
    "\n",
    "split_loss('train')\n",
    "split_loss('test')\n"
   ]
  },
  {
   "cell_type": "code",
   "execution_count": null,
   "metadata": {},
   "outputs": [],
   "source": [
    "# loss log\n",
    "\n",
    "# original:\n",
    "train 2.2018580436706543\n",
    "test 2.262258768081665\n",
    "\n",
    "# fix softmax confidently wrong - fix projection layer initialization\n",
    "train 2.1460914611816406\n",
    "test 2.2219550609588623\n",
    "\n",
    "# fix tanh layer too saturated at init - fix preactivation layer saturation \n",
    "train 2.10556960105896\n",
    "test 2.181131601333618"
   ]
  },
  {
   "cell_type": "markdown",
   "metadata": {},
   "source": [
    "### 4.Kaming init\n",
    "\n",
    "当我的网络有很多很多层，每一层该怎么正确的初始化，该怎么控制W1 = W1 * 0.2这种参数？\n"
   ]
  },
  {
   "cell_type": "code",
   "execution_count": 173,
   "metadata": {},
   "outputs": [
    {
     "name": "stdout",
     "output_type": "stream",
     "text": [
      "tensor(0.0002) tensor(1.0040)\n",
      "tensor(-0.0010) tensor(1.0193)\n",
      "tensor(0.0415) tensor(1.4046)\n"
     ]
    },
    {
     "data": {
      "text/plain": [
       "Text(0.5, 1.0, 'Y_B')"
      ]
     },
     "execution_count": 173,
     "metadata": {},
     "output_type": "execute_result"
    },
    {
     "data": {
      "image/png": "[encoded data removed]",
      "text/plain": [
       "<Figure size 2000x500 with 3 Axes>"
      ]
     },
     "metadata": {},
     "output_type": "display_data"
    }
   ],
   "source": [
    "import math\n",
    "# 很重要的一点，两个randn矩阵相乘，均值不变，但是std会变大非常多\n",
    "x = torch.randn(1000,10)# random sample gaussian sample\n",
    "w = torch.randn(10,200) / 10**0.5 # variance = 10 * (10**0.5)^2\n",
    "b = torch.randn(200)\n",
    "y = x @ w # [1000,200]\n",
    "y_b = y + b\n",
    "print(x.mean(),x.std())\n",
    "print(y.mean(),y.std())\n",
    "print(y_b.mean(),y_b.std())\n",
    "plt.figure(figsize=(20,5))\n",
    "plt.subplot(131)\n",
    "plt.hist(x.view(-1).tolist(),50,density=True);\n",
    "plt.title(f\"X\")\n",
    "plt.subplot(132)\n",
    "plt.hist(y.view(-1).tolist(),50,density=True);\n",
    "plt.title(f\"Y\")\n",
    "plt.subplot(133)\n",
    "plt.hist(y_b.view(-1).tolist(),50,density=True);\n",
    "plt.title(f\"Y_B\")"
   ]
  },
  {
   "cell_type": "markdown",
   "metadata": {},
   "source": [
    "数学上如何解释这种现象？\n",
    "\n",
    "背景:x,y是两个独立的随机变量基本公式如下\n",
    "- $E[x] =\\int p(x)dx,E[f(x)]=\\int f(x)p(x)dx$\n",
    "- $D[x] =E[x^2]-(E[x])^2 $\n",
    "- $E[x+y] = E[x] + E[y]$ 如果x,y彼此独立\n",
    "- $E[xy] = E[x]E[y]$\n",
    "- $D(x+y) = D[x] + D[y]$\n",
    "- $D[xy] == E[(xy)^2] - (E[xy])^2 = E[x^2 y^2] - (E[x]E[y])^2= E[x^2]E[y^2]-0=1$\n",
    "\n",
    "form : $x_i \\in N(0,1), y_i \\in N(0,1)$\n",
    "\n",
    "z = x @ y = $\\sum\\limits_{i=1}^N x_iy_i$ 代表矩阵相乘的每一个元素是由一组向量内积得到\n",
    "\n",
    "$E[z] = \\sum\\limits_{i=1}^N E[x_iy_i]= \\sum\\limits_{i=1}^N E[x_i]E[y_i]=0$   \n",
    "$D[z] = \\sum\\limits_{i=1}^N D[x_iy_i]= N$, N=10表示两个向量内积的个数 \n",
    "$Var(z)=\\sqrt{D[z]}=\\sqrt{10}\\approx3.1623$\n",
    "\n",
    "PS : 1. a,b b,c 一共有 $a\\times b\\times c= 2abc$ 个浮点数操作\n",
    "\n",
    "PS : 2. 同理w+b之后，也会使得variance进一步增大\n",
    "\n",
    "PS : 3. 假设全是FNN,一层之后activation为$\\mathcal{N}(0,N)$,两层之后为$\\mathcal{N}(0,N^2)$, N为hidden layer的大小\n",
    "\n",
    "总结: $Var[y] = nVar[w]Var[x]$\n",
    "\n",
    "****\n",
    "\n",
    "from : Delving Deep into Rectifiers: Surpassing Human-Level Performance on ImageNet Classification\n",
    "\n",
    "Kaming initialization\n",
    "\n",
    "假设神经网络是一系列的MLP:$W,\\bold{b}$ +激活函数$f$\n",
    "\n",
    "$\\bold{y}_L=\\bold{W}_l\\bold{x}_l+\\bold{b}_l,\\bold{x}_l=f(\\bold{y}_{l-1}),\\forall l \\in [2,L]$ \n",
    "\n",
    "$\\bold{y}_1=\\bold{W}_1\\bold{x}_1+\\bold{b}_1$\n",
    "\n",
    "考虑以下假设：  \n",
    "1. $\\bold{b}=0$, $\\bold{W}_l$的每一个元素都是iid的,$x_l$的每一个元素都是iid的，$x_l$和$W_l$的每一个元素都是独立的   \n",
    "\n",
    "2. $w_l$来自一个均值为0,方差为某个数的高斯分布 (symmetric distribution)   \n",
    "\n",
    "3. $y_l$的均值在0附近，是一个对称的分布\n",
    "\n",
    "考虑每一个元素$y_l,x_l,w_l$都是$\\bold{y}_l,\\bold{x}_l,\\bold{W}_l$中的任意一个随机变量：\n",
    "\n",
    "现在我们希望使得输出$y_l$的方差始终控制在一个常数，如0，对$w_l$可能的分布进行探索，主要希望控制$w_l$的初始化方差$Var[w_l]$\n",
    "\n",
    "\n",
    "$Var[y_{l,i}]=\\sum\\limits_{k=1}^{n_l} x_{l,k}W_{l,(i,k)}$,考虑到W和x中的元素相互独立，因此可以通过方差分解      \n",
    "\n",
    "$Var[y_l]=n_lVar[w_lx_l]=n_l(E[w_l^2x_l^2]-E[w_lx_l]^2)$,考虑到$E[w_l]=0$,则$Var[y_l]=n_lE[w_l^2x_l^2]=n_lE[w_l^2]E[x_l^2]$\n",
    "\n",
    "考虑到对于任意随机变量$E[x^2]=D[x]-(E[x])^2$,则$E[w_l^2]=Var[w_l]$\n",
    "\n",
    "$Var[y_l]=n_lVar[w_l]E[x_l^2]$\n",
    "\n",
    "注意到$E[x_l^2]在多数情况不为0，特别是对于ReLU, x_l=\\max(0,y_{l-1}), E[x_l]=\\frac{1}{2}Var[y_{l-1}]$对于$y_{l-1}$为任意概率分布。而有无激活函数、不同激活函数会导致$E[x_l^2]$的不同，\n",
    "\n",
    "proof : $E[x_l^2]=E[g(y)]=\\int\\limits_{-\\infty}^{\\infty}max(0,y_{l-1})^2p(y_{l-1})dy_{l-1}$其中g(y)=max(0,y_{l-1})^2\n",
    "\n",
    "proof :$E[x_l^2]=\\int\\limits_{0}^{\\infty}y_{l-1}^2p(y_{l-1})dy_{l-1}$只考虑$y_{l-1}>0$的部分,且p(y)与$y_2$都是对称，因此有:\n",
    "\n",
    "proof :$E[x_l^2]=\\frac{1}{2}\\int\\limits_{-\\infty}^{\\infty}y_{l-1}^2p(y_{l-1})dy_{l-1}= \\frac{1}{2}E[y_{l-1}^2]=\\frac{1}{2}Var[y_{l-1}]$,由于$E[y_{l-1}]=0$\n",
    "\n",
    "因此$Var[y_l]=\\frac{1}{2}n_lVar[w_l]Var[y_{l-1}]$\n",
    "\n",
    "- 如果无激活函数，可以看作$x_l=y_{l-1},E[x_l]=E[y_{l-1}]=0,Var[y_{l-1}]=Var[x_l]=E[x_l^2]$, $Var[y_l]=n_lVar[w_l]Var[y_{l-1}]$\n",
    "\n",
    "$n_l$前面的系数称为gain,是不同激活函数的期望带来的结果\n",
    "\n",
    "如果有L层放在一起,这样导致复杂度通过$n_l$指数增加\n",
    "\n",
    "$Var[y_L]=Var[y_1](\\Pi_{l=2}^L \\frac{1}{2}n_lVar[w_l])$  \n",
    "\n",
    "这样如果想要每一层$\\frac{1}{2}n_lVar[w_l]=1;Var[w_l]=\\frac{2}{n_l}$,\n",
    "\n",
    "对于第一层相当于没有ReLU函数，因此$n_1Var[w_1]=1$，但是$Var[w_1]=\\frac{2}{n_1}$简化了代码\n",
    "\n",
    "同时作者发现，当使用这种初始化方式初始化forward propagation的时候，backward梯度同样也近似正确的初始化\n",
    "\n",
    "\n",
    "\n",
    "-----\n",
    "\n",
    "\n",
    "Same idea also in transformer, attention score = $\\frac{QK^T}{\\sqrt{d_k}}$, as $qk^T$ has mean 0 and vadiance d_k"
   ]
  },
  {
   "cell_type": "code",
   "execution_count": 188,
   "metadata": {},
   "outputs": [],
   "source": [
    "x = nn.Linear(10,10)"
   ]
  },
  {
   "cell_type": "code",
   "execution_count": 189,
   "metadata": {},
   "outputs": [
    {
     "data": {
      "text/plain": [
       "Parameter containing:\n",
       "tensor([-0.1754,  0.1014, -0.1699, -0.0982,  0.1684,  0.2071,  0.2008,  0.0628,\n",
       "        -0.2355, -0.0386], requires_grad=True)"
      ]
     },
     "execution_count": 189,
     "metadata": {},
     "output_type": "execute_result"
    }
   ],
   "source": [
    "x.bias"
   ]
  },
  {
   "cell_type": "code",
   "execution_count": 182,
   "metadata": {},
   "outputs": [
    {
     "name": "stdout",
     "output_type": "stream",
     "text": [
      "tensor(0.0025) tensor(1.0019)\n",
      "tensor(-0.0025) tensor(15.1803)\n",
      "tensor(0.0199) tensor(199.1286)\n",
      "tensor(0.0840) tensor(3066.2524)\n"
     ]
    }
   ],
   "source": [
    "# FFN在参数全是均匀高斯分布的情况下，会explore\n",
    "x = torch.randn(10000,16)# random sample gaussian sample\n",
    "w1 = torch.randn(16,16) \n",
    "w2 = torch.randn(16,16)\n",
    "w3 = torch.randn(16,16)\n",
    "y1 = x @ w1\n",
    "y2 = y1 @ w2\n",
    "y3 = y2 @ w3\n",
    "print(x.mean(),x.var())\n",
    "print(y1.mean(),y1.var())\n",
    "print(y2.mean(),y2.var())\n",
    "print(y3.mean(),y3.var()) # 可以明显的看到参数variance会explode"
   ]
  },
  {
   "cell_type": "code",
   "execution_count": 158,
   "metadata": {},
   "outputs": [
    {
     "data": {
      "text/plain": [
       "tensor(3.1623)"
      ]
     },
     "execution_count": 158,
     "metadata": {},
     "output_type": "execute_result"
    }
   ],
   "source": [
    "# 深度学习都是一些矩阵操作block,如何设置初始化使得activation value都是合理的\n",
    "\n",
    "# andrej，现在有很多种方法使得训练非常稳定，所以一个非常精确的初始化似乎不那么重要，大致上只需要除以根号下n就可以\n",
    "# 1. residue connections, \n",
    "# 2. normalizations\n",
    "# 3. 更好的optimizer"
   ]
  },
  {
   "cell_type": "code",
   "execution_count": 191,
   "metadata": {},
   "outputs": [
    {
     "data": {
      "text/plain": [
       "tensor(0.1970)"
      ]
     },
     "execution_count": 191,
     "metadata": {},
     "output_type": "execute_result"
    }
   ],
   "source": [
    "(torch.randn(10000) * 0.2 ).std() # torch.randn()*的值表示控制std,比如NeMO项目中控制噪音的标准差"
   ]
  },
  {
   "cell_type": "code",
   "execution_count": 192,
   "metadata": {},
   "outputs": [
    {
     "data": {
      "text/plain": [
       "0.3042903097250923"
      ]
     },
     "execution_count": 192,
     "metadata": {},
     "output_type": "execute_result"
    }
   ],
   "source": [
    "# tanh进行初始化的时候，gain=5/3, \n",
    "(5/3) / (30**0.5)"
   ]
  },
  {
   "cell_type": "code",
   "execution_count": 193,
   "metadata": {},
   "outputs": [
    {
     "name": "stdout",
     "output_type": "stream",
     "text": [
      "11897\n"
     ]
    }
   ],
   "source": [
    "# 重新看我们的初始化和代码------核心目标，希望logits最后在零附近,不要变成extreme value\n",
    "# 1.为什么大部分模型的projection layer, bias都为False\n",
    "# MLP revisted\n",
    "n_embd = 10 # one-hot to embedding\n",
    "n_hidden = 200\n",
    "g = torch.Generator().manual_seed(2147483467)\n",
    "C = torch.randn(vocab_size, n_embd,             generator=g)\n",
    "W1 = torch.randn(n_embd*block_size, n_hidden,   generator=g) * (5/3)*(n_embd*block_size)**0.5 # kaming init\n",
    "b1 = torch.randn(n_hidden,                      generator=g) * 0.01\n",
    "W2 = torch.randn(n_hidden,vocab_size,           generator=g) * 0.01 # logits = h @ W2, 因此希望logits在零附近，可以给W2一个很小的值,但是最好不要给W2完全=0，虽然这样会得到一个最好的initialization loss\n",
    "b2 = torch.randn(vocab_size,                    generator=g) * 0 # b2直接设置为0，因为希望b2附近的bias为0,NeMO项目中初始化projection b2也为0\n",
    "\n",
    "parameters = [C,W1,b1,W2,b2]\n",
    "print(sum(p.nelement() for p in parameters))\n",
    "for p in parameters:\n",
    "    p.requires_grad = True"
   ]
  },
  {
   "cell_type": "markdown",
   "metadata": {},
   "source": [
    "通过kaming initial，我们初始化的时候不需要猜一个标准差数值，而是有一些semi-principled方法来确定每一层初始化的方差大致应该是多少，特别是那些对应不同激活函数的weight"
   ]
  },
  {
   "cell_type": "markdown",
   "metadata": {},
   "source": [
    "### 5.Batch normalization\n",
    "\n",
    "正是因为有了这些normalization,才使得现代训练神经网络非常可靠"
   ]
  },
  {
   "cell_type": "code",
   "execution_count": null,
   "metadata": {},
   "outputs": [],
   "source": []
  }
 ],
 "metadata": {
  "kernelspec": {
   "display_name": "dl",
   "language": "python",
   "name": "python3"
  },
  "language_info": {
   "codemirror_mode": {
    "name": "ipython",
    "version": 3
   },
   "file_extension": ".py",
   "mimetype": "text/x-python",
   "name": "python",
   "nbconvert_exporter": "python",
   "pygments_lexer": "ipython3",
   "version": "3.9.19"
  }
 },
 "nbformat": 4,
 "nbformat_minor": 2
}
