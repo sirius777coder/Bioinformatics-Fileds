{
 "cells": [
  {
   "cell_type": "markdown",
   "metadata": {},
   "source": [
    "## flash attention and attention mechanism \n",
    "### self attention"
   ]
  },
  {
   "cell_type": "code",
   "execution_count": null,
   "metadata": {},
   "outputs": [],
   "source": [
    "from flash_attn import flash_attn_qkvpacked_func, flash_attn_func\n",
    "import torch\n",
    "\n",
    "batchsize = 2\n",
    "seqlen = 128\n",
    "num_heads = 8\n",
    "head_dim = 64\n",
    "\n",
    "q,k,v = [torch.randn(batchsize, seqlen, num_heads, head_dim) for _ in range(3)]"
   ]
  },
  {
   "cell_type": "code",
   "execution_count": 2,
   "metadata": {},
   "outputs": [],
   "source": [
    "# flash_attn_func needs bf16 and cuda\n",
    "q = q.to(torch.bfloat16).cuda()\n",
    "k = k.to(torch.bfloat16).cuda()\n",
    "v = v.to(torch.bfloat16).cuda()"
   ]
  },
  {
   "cell_type": "code",
   "execution_count": 3,
   "metadata": {},
   "outputs": [
    {
     "name": "stdout",
     "output_type": "stream",
     "text": [
      "torch.Size([2, 128, 8, 64])\n"
     ]
    }
   ],
   "source": [
    "output_flash_attn = flash_attn_func(q, k, v)\n",
    "print(output_flash_attn.shape)"
   ]
  },
  {
   "cell_type": "code",
   "execution_count": 4,
   "metadata": {},
   "outputs": [
    {
     "name": "stdout",
     "output_type": "stream",
     "text": [
      "torch.Size([2, 128, 8, 64])\n"
     ]
    }
   ],
   "source": [
    "activation = torch.einsum('bqhc,bkhc->bhqk',q,k) / (head_dim**0.5)\n",
    "output = torch.einsum('bhqk,bkhc->bqhc',activation,v)\n",
    "print(output.shape)"
   ]
  },
  {
   "cell_type": "code",
   "execution_count": 8,
   "metadata": {},
   "outputs": [
    {
     "data": {
      "text/plain": [
       "tensor([ 13.6875,   2.9844,   1.0938,   6.7500,  20.8750,   9.7500,   0.8945,\n",
       "          3.7812,   7.3125,  -3.6250,  -0.6055,  10.7500,  -6.7188, -20.0000,\n",
       "          8.4375, -19.0000, -12.1875,   3.0469,   6.6562,  20.1250,   3.6719,\n",
       "         12.1250, -10.5625,   8.5000,  -6.3125,  15.7500, -11.6250,   4.1875,\n",
       "         -7.2500,   4.1562, -13.3125,   5.5625,   8.3750,  -8.8125,  13.5000,\n",
       "         -5.0312,   9.8750,  13.4375,   5.1875,  -0.0776,  -3.4688, -10.6250,\n",
       "         -2.0781, -24.1250,  -2.1875,   8.5000, -17.1250,  12.6875,   9.1250,\n",
       "          8.6250,   9.3125,   0.7578, -16.0000,   2.4375,  -9.1875,  14.6250,\n",
       "        -11.9375,  -7.3438,   7.1250,   2.2656,  -1.1016,  -1.9297, -10.1875,\n",
       "         14.3125], device='cuda:0', dtype=torch.bfloat16)"
      ]
     },
     "execution_count": 8,
     "metadata": {},
     "output_type": "execute_result"
    }
   ],
   "source": [
    "output[0,0,0]"
   ]
  },
  {
   "cell_type": "code",
   "execution_count": 6,
   "metadata": {},
   "outputs": [],
   "source": [
    "causal_mask = torch.triu(torch.full((seqlen, seqlen), -10000.0, device=q.device), 1) # 1 means diagonal and above\n",
    "# node can attend itself and the nodes before it"
   ]
  },
  {
   "cell_type": "markdown",
   "metadata": {},
   "source": [
    "### cross attention"
   ]
  },
  {
   "cell_type": "code",
   "execution_count": 15,
   "metadata": {},
   "outputs": [],
   "source": [
    "memory_len = 256\n",
    "memory_k = torch.randn(batchsize, memory_len, num_heads, head_dim, device=q.device).to(torch.bfloat16)\n",
    "memory_v = torch.randn(batchsize, memory_len, num_heads, head_dim, device=q.device).to(torch.bfloat16)"
   ]
  },
  {
   "cell_type": "code",
   "execution_count": 16,
   "metadata": {},
   "outputs": [],
   "source": [
    "output_cross_attention = flash_attn_func(q, memory_k, memory_v)"
   ]
  },
  {
   "cell_type": "code",
   "execution_count": null,
   "metadata": {},
   "outputs": [],
   "source": []
  },
  {
   "cell_type": "code",
   "execution_count": 55,
   "metadata": {},
   "outputs": [],
   "source": [
    "# original scaled-dot product self-attention \n",
    "# no learnable parameters\n",
    "import copy\n",
    "import torch\n",
    "import torch.nn as nn\n",
    "\n",
    "\n",
    "batchsize = 16\n",
    "seqlen = 128\n",
    "dim = 1024\n",
    "heads = 16\n",
    "x = torch.randn(batchsize, seqlen, dim) # b k h c\n",
    "q,k,v = copy.deepcopy(x), copy.deepcopy(x), copy.deepcopy(x)\n",
    "\n",
    "\n",
    "score = torch.einsum(\"bqc,bkc->bqk\",q,k) * (q.shape[-1] ** -0.5)\n",
    "mask = torch.zeros_like(score)\n",
    "score += mask\n",
    "\n",
    "# print(score.mean(),score.std()) # check the varaince of score if no scaled \n",
    "score = nn.functional.softmax(score,dim=-1)\n",
    "\n",
    "output = torch.einsum(\"bqk,bkc->bqc\",score,v)\n",
    "\n",
    "\n"
   ]
  },
  {
   "cell_type": "code",
   "execution_count": 56,
   "metadata": {},
   "outputs": [],
   "source": [
    "# Multi-Head attention\n",
    "import copy\n",
    "import torch.nn as nn\n",
    "q,k,v = copy.deepcopy(x), copy.deepcopy(x), copy.deepcopy(x)\n",
    "\n",
    "Wq = nn.Linear(dim,dim)\n",
    "Wk = nn.Linear(dim,dim)\n",
    "Wv = nn.Linear(dim,dim)\n",
    "Wo = nn.Linear(dim,dim)\n",
    "\n",
    "# projection into many lower dimensions\n",
    "q = Wq(q).reshape(batchsize, seqlen,heads,dim//heads) # b q h c\n",
    "k = Wk(k).reshape(batchsize, seqlen,heads,dim//heads) # b k h c \n",
    "v = Wv(v).reshape(batchsize, seqlen,heads,dim//heads) # b k h c\n",
    "\n",
    "# heads times scaled-dot product attention\n",
    "\n",
    "## compute heads attention\n",
    "score = torch.einsum(\"bqhc,bkhc->bqkh\",q,k) * ((dim//heads)**-0.5)\n",
    "mask = torch.zeros_like(score)\n",
    "score += mask\n",
    "# print(score.mean(),score.std()) # check the varaince of score if no scaled \n",
    "\n",
    "score = nn.functional.softmax(score,dim=-1)\n",
    "\n",
    "## output heads times and concatenation\n",
    "output = torch.einsum(\"bqkh,bkhc->bqhc\",score,v).reshape(batchsize, seqlen,-1)\n",
    "\n",
    "# projection final layers\n",
    "\n",
    "output = Wo(output)"
   ]
  },
  {
   "cell_type": "code",
   "execution_count": 15,
   "metadata": {},
   "outputs": [],
   "source": [
    "# Multi-Head attention (Cross Attention)\n",
    "import copy\n",
    "import torch\n",
    "import torch.nn as nn\n",
    "\n",
    "batchsize = 16\n",
    "seqlen_query = 128\n",
    "seqlen_memory = 256\n",
    "dim = 1024\n",
    "heads = 16\n",
    "x_query = torch.randn(batchsize, seqlen_query, dim) # b q c\n",
    "x_memory = torch.randn(batchsize, seqlen_memory, dim) # b m c\n",
    "q = copy.deepcopy(x_query)\n",
    "k,v = copy.deepcopy(x_memory),copy.deepcopy(x_memory)\n",
    "\n",
    "# Define the projection weight matrices\n",
    "Wq = nn.Linear(dim, dim)\n",
    "Wk = nn.Linear(dim, dim)\n",
    "Wv = nn.Linear(dim, dim)\n",
    "Wo = nn.Linear(dim, dim)\n",
    "\n",
    "# projection into many lower dimension space\n",
    "q = Wq(q).reshape(batchsize, seqlen_query,heads,dim//heads) # b q h c\n",
    "k = Wk(k).reshape(batchsize, seqlen_memory,heads,dim//heads) # b m h c \n",
    "v = Wv(v).reshape(batchsize, seqlen_memory,heads,dim//heads) # b m h c\n",
    "\n",
    "# score\n",
    "score = torch.einsum(\"bqhc,bmhc->bqmh\",q,k)\n",
    "score = nn.functional.softmax(score,dim=-1)\n",
    "\n",
    "## output heads times and concatenation\n",
    "output = torch.einsum(\"bqmh,bmhc->bqhc\",score,v).reshape(batchsize, seqlen_query,-1)\n",
    "\n",
    "# projection final layers\n",
    "\n",
    "output = Wo(output)"
   ]
  },
  {
   "cell_type": "code",
   "execution_count": 20,
   "metadata": {},
   "outputs": [
    {
     "name": "stdout",
     "output_type": "stream",
     "text": [
      "tensor(-6.5193e-09, grad_fn=<SelectBackward0>) tensor(1.0005, grad_fn=<SelectBackward0>)\n",
      "tensor(4.6566e-10, grad_fn=<SelectBackward0>) tensor(1.0000, grad_fn=<SelectBackward0>)\n"
     ]
    }
   ],
   "source": [
    "# Li Mu layer norm\n",
    "# layer norm on token\n",
    "LN_token = nn.LayerNorm(dim)\n",
    "print(LN_token(output).mean(dim=-1)[0,0],LN_token(output).std(dim=-1)[0,0])\n",
    "print(LN_token(output).mean(dim=[-1,-2])[0],LN_token(output).std(dim=[-1,-2])[0])"
   ]
  },
  {
   "cell_type": "code",
   "execution_count": 16,
   "metadata": {},
   "outputs": [
    {
     "data": {
      "text/plain": [
       "(tensor(-0.0191, grad_fn=<SelectBackward0>),\n",
       " tensor(1.0172, grad_fn=<SelectBackward0>))"
      ]
     },
     "execution_count": 16,
     "metadata": {},
     "output_type": "execute_result"
    }
   ],
   "source": [
    "LN_sample = nn.LayerNorm((seqlen_query, dim))\n",
    "LN_sample(output).mean(dim=-1)[0,0],LN_sample(output).std(dim=-1)[0,0]\n"
   ]
  },
  {
   "cell_type": "code",
   "execution_count": 17,
   "metadata": {},
   "outputs": [
    {
     "data": {
      "text/plain": [
       "(tensor(-9.3132e-10, grad_fn=<SelectBackward0>),\n",
       " tensor(1.0000, grad_fn=<SelectBackward0>))"
      ]
     },
     "execution_count": 17,
     "metadata": {},
     "output_type": "execute_result"
    }
   ],
   "source": [
    "# mean on last two dimensions\n",
    "LN_sample(output).mean(dim=[-1,-2])[0],LN_sample(output).std(dim=[-1,-2])[0]"
   ]
  },
  {
   "cell_type": "code",
   "execution_count": null,
   "metadata": {},
   "outputs": [],
   "source": []
  }
 ],
 "metadata": {
  "kernelspec": {
   "display_name": "Python 3 (ipykernel)",
   "language": "python",
   "name": "python3"
  },
  "language_info": {
   "codemirror_mode": {
    "name": "ipython",
    "version": 3
   },
   "file_extension": ".py",
   "mimetype": "text/x-python",
   "name": "python",
   "nbconvert_exporter": "python",
   "pygments_lexer": "ipython3",
   "version": "3.9.19"
  }
 },
 "nbformat": 4,
 "nbformat_minor": 2
}
