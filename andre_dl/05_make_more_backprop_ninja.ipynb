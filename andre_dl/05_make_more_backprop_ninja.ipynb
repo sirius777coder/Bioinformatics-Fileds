{
 "cells": [
  {
   "cell_type": "markdown",
   "metadata": {},
   "source": [
    "# makemore: becoming a backprop ninja\n",
    "\n",
    "## 2024 08 20 practice\n",
    "\n",
    "## 2024 11 26 finish the video \n",
    "\n",
    "## Question : how should I use x += y or x = x + y\n",
    "\n",
    "- 感觉是没啥区别，我一般会写成x=x+y\n",
    "\n",
    "## 2025 03 20\n",
    "\n",
    "终于完成了exercise1的所有任务\n",
    "- 计算梯度时的难点：某个layer被重复使用，梯度要累加；矩阵乘法的梯度是最基础的梯度，通过torch.einsum实现; embedding indexing的梯度\n"
   ]
  },
  {
   "cell_type": "markdown",
   "metadata": {},
   "source": [
    "### Exercise1"
   ]
  },
  {
   "cell_type": "code",
   "execution_count": 2,
   "metadata": {},
   "outputs": [],
   "source": [
    "import torch\n",
    "import torch.nn.functional as F\n",
    "import matplotlib.pyplot as plt # for making figures\n"
   ]
  },
  {
   "cell_type": "code",
   "execution_count": 3,
   "metadata": {},
   "outputs": [
    {
     "name": "stdout",
     "output_type": "stream",
     "text": [
      "32033\n",
      "15\n",
      "['emma', 'olivia', 'ava', 'isabella', 'sophia', 'charlotte', 'mia', 'amelia']\n"
     ]
    }
   ],
   "source": [
    "# read in all the words\n",
    "words = open('makemore/names.txt', 'r').read().splitlines()\n",
    "print(len(words))\n",
    "print(max(len(w) for w in words))\n",
    "print(words[:8])"
   ]
  },
  {
   "cell_type": "code",
   "execution_count": 4,
   "metadata": {},
   "outputs": [
    {
     "name": "stdout",
     "output_type": "stream",
     "text": [
      "{1: 'a', 2: 'b', 3: 'c', 4: 'd', 5: 'e', 6: 'f', 7: 'g', 8: 'h', 9: 'i', 10: 'j', 11: 'k', 12: 'l', 13: 'm', 14: 'n', 15: 'o', 16: 'p', 17: 'q', 18: 'r', 19: 's', 20: 't', 21: 'u', 22: 'v', 23: 'w', 24: 'x', 25: 'y', 26: 'z', 0: '.'}\n",
      "27\n"
     ]
    }
   ],
   "source": [
    "# build the vocabulary of characters and mappings to/from integers\n",
    "chars = sorted(list(set(''.join(words))))\n",
    "stoi = {s:i+1 for i,s in enumerate(chars)}\n",
    "stoi['.'] = 0\n",
    "itos = {i:s for s,i in stoi.items()}\n",
    "vocab_size = len(itos)\n",
    "print(itos)\n",
    "print(vocab_size)"
   ]
  },
  {
   "cell_type": "code",
   "execution_count": 5,
   "metadata": {},
   "outputs": [
    {
     "name": "stdout",
     "output_type": "stream",
     "text": [
      "torch.Size([182625, 3]) torch.Size([182625])\n",
      "torch.Size([22655, 3]) torch.Size([22655])\n",
      "torch.Size([22866, 3]) torch.Size([22866])\n"
     ]
    }
   ],
   "source": [
    "# build the dataset\n",
    "block_size = 3 # context length: how many characters do we take to predict the next one?\n",
    "\n",
    "def build_dataset(words):  \n",
    "  X, Y = [], []\n",
    "  \n",
    "  for w in words:\n",
    "    context = [0] * block_size\n",
    "    for ch in w + '.':\n",
    "      ix = stoi[ch]\n",
    "      X.append(context)\n",
    "      Y.append(ix)\n",
    "      context = context[1:] + [ix] # crop and append\n",
    "\n",
    "  X = torch.tensor(X)\n",
    "  Y = torch.tensor(Y)\n",
    "  print(X.shape, Y.shape)\n",
    "  return X, Y\n",
    "\n",
    "import random\n",
    "random.seed(42)\n",
    "random.shuffle(words)\n",
    "n1 = int(0.8*len(words))\n",
    "n2 = int(0.9*len(words))\n",
    "\n",
    "Xtr,  Ytr  = build_dataset(words[:n1])     # 80%\n",
    "Xdev, Ydev = build_dataset(words[n1:n2])   # 10%\n",
    "Xte,  Yte  = build_dataset(words[n2:])     # 10%"
   ]
  },
  {
   "cell_type": "code",
   "execution_count": 6,
   "metadata": {},
   "outputs": [],
   "source": [
    "# utility function we will use later when comparing manual gradients to PyTorch gradients\n",
    "def cmp(s, dt, t):\n",
    "  ex = torch.all(dt == t.grad).item()\n",
    "  app = torch.allclose(dt, t.grad)\n",
    "  maxdiff = (dt - t.grad).abs().max().item()\n",
    "  print(f'{s:15s} | exact: {str(ex):5s} | approximate: {str(app):5s} | maxdiff: {maxdiff}')"
   ]
  },
  {
   "cell_type": "code",
   "execution_count": 7,
   "metadata": {},
   "outputs": [
    {
     "data": {
      "text/plain": [
       "27"
      ]
     },
     "execution_count": 7,
     "metadata": {},
     "output_type": "execute_result"
    }
   ],
   "source": [
    "vocab_size"
   ]
  },
  {
   "cell_type": "code",
   "execution_count": 8,
   "metadata": {},
   "outputs": [
    {
     "name": "stdout",
     "output_type": "stream",
     "text": [
      "4137\n"
     ]
    }
   ],
   "source": [
    "n_embd = 10 # the dimensionality of the character embedding vectors\n",
    "n_hidden = 64 # the number of neurons in the hidden layer of the MLP\n",
    "\n",
    "g = torch.Generator().manual_seed(2147483647) # for reproducibility\n",
    "C  = torch.randn((vocab_size, n_embd),            generator=g)\n",
    "# Layer 1\n",
    "W1 = torch.randn((n_embd * block_size, n_hidden), generator=g) * (5/3)/((n_embd * block_size)**0.5)\n",
    "b1 = torch.randn(n_hidden,                        generator=g) * 0.1 # using b1 just for fun, it's useless because of BN\n",
    "# Layer 2\n",
    "W2 = torch.randn((n_hidden, vocab_size),          generator=g) * 0.1\n",
    "b2 = torch.randn(vocab_size,                      generator=g) * 0.1\n",
    "# BatchNorm parameters\n",
    "bngain = torch.randn((1, n_hidden))*0.1 + 1.0\n",
    "bnbias = torch.randn((1, n_hidden))*0.1\n",
    "\n",
    "# Note: I am initializating many of these parameters in non-standard ways\n",
    "# because sometimes initializating with e.g. all zeros could mask an incorrect\n",
    "# implementation of the backward pass.\n",
    "\n",
    "parameters = [C, W1, b1, W2, b2, bngain, bnbias]\n",
    "print(sum(p.nelement() for p in parameters)) # number of parameters in total\n",
    "for p in parameters:\n",
    "  p.requires_grad = True"
   ]
  },
  {
   "cell_type": "code",
   "execution_count": 9,
   "metadata": {},
   "outputs": [],
   "source": [
    "batch_size = 32\n",
    "n = batch_size # a shorter variable also, for convenience\n",
    "# construct a minibatch\n",
    "ix = torch.randint(0, Xtr.shape[0], (batch_size,), generator=g)\n",
    "Xb, Yb = Xtr[ix], Ytr[ix] # batch X,Y"
   ]
  },
  {
   "cell_type": "code",
   "execution_count": 10,
   "metadata": {},
   "outputs": [
    {
     "data": {
      "text/plain": [
       "tensor(3.3064, grad_fn=<NegBackward0>)"
      ]
     },
     "execution_count": 10,
     "metadata": {},
     "output_type": "execute_result"
    }
   ],
   "source": [
    "# forward pass, \"chunkated\" into smaller steps that are possible to backward one at a time\n",
    "\n",
    "emb = C[Xb] # embed the characters into vectors\n",
    "embcat = emb.view(emb.shape[0], -1) # concatenate the vectors\n",
    "# Linear layer 1\n",
    "hprebn = embcat @ W1 + b1 # hidden layer pre-activation\n",
    "# BatchNorm layer\n",
    "bnmeani = 1/n*hprebn.sum(0, keepdim=True)\n",
    "bndiff = hprebn - bnmeani\n",
    "bndiff2 = bndiff**2\n",
    "bnvar = 1/(n-1)*(bndiff2).sum(0, keepdim=True) # note: Bessel's correction (dividing by n-1, not n)\n",
    "bnvar_inv = (bnvar + 1e-5)**-0.5\n",
    "bnraw = bndiff * bnvar_inv\n",
    "hpreact = bngain * bnraw + bnbias\n",
    "# Non-linearity\n",
    "h = torch.tanh(hpreact) # hidden layer\n",
    "# Linear layer 2\n",
    "logits = h @ W2 + b2 # output layer\n",
    "# cross entropy loss (same as F.cross_entropy(logits, Yb))\n",
    "logit_maxes = logits.max(1, keepdim=True).values\n",
    "norm_logits = logits - logit_maxes # subtract max for numerical stability\n",
    "counts = norm_logits.exp()\n",
    "counts_sum = counts.sum(1, keepdims=True)\n",
    "counts_sum_inv = counts_sum**-1 # if I use (1.0 / counts_sum) instead then I can't get backprop to be bit exact...\n",
    "probs = counts * counts_sum_inv\n",
    "logprobs = probs.log()\n",
    "loss = -logprobs[range(n), Yb].mean() # plug out all the correct index probabilities and average\n",
    "\n",
    "# PyTorch backward pass\n",
    "for p in parameters:\n",
    "  p.grad = None\n",
    "for t in [logprobs, probs, counts, counts_sum, counts_sum_inv, # afaik there is no cleaner way # important !!!! otherwise no gradient for the non-leaft tensors\n",
    "          norm_logits, logit_maxes, logits, h, hpreact, bnraw,\n",
    "         bnvar_inv, bnvar, bndiff2, bndiff, hprebn, bnmeani,\n",
    "         embcat, emb]:\n",
    "  t.retain_grad()\n",
    "loss.backward()\n",
    "loss"
   ]
  },
  {
   "cell_type": "code",
   "execution_count": 11,
   "metadata": {},
   "outputs": [
    {
     "data": {
      "text/plain": [
       "torch.Size([32, 27])"
      ]
     },
     "execution_count": 11,
     "metadata": {},
     "output_type": "execute_result"
    }
   ],
   "source": [
    "logprobs.shape"
   ]
  },
  {
   "cell_type": "code",
   "execution_count": 12,
   "metadata": {},
   "outputs": [],
   "source": [
    "dlogprobs = torch.zeros_like(logprobs)\n",
    "dlogprobs[range(n), Yb] = -1/n\n",
    "# 只有这N个value参与了计算，其他的位置没有参与到计算 \n",
    "# no matter how log probs is confidently wrong , the gradient of loss function wrt. logprobs is -1/n on the correct class"
   ]
  },
  {
   "cell_type": "code",
   "execution_count": 13,
   "metadata": {},
   "outputs": [],
   "source": [
    "dlogprobs_probs = probs ** -1 \n",
    "dprobs = dlogprobs * dlogprobs_probs # here a uniform distribution and a extreme value distribution will make different"
   ]
  },
  {
   "cell_type": "code",
   "execution_count": 14,
   "metadata": {},
   "outputs": [],
   "source": [
    "dcounts_sum_inv = torch.einsum(\"ij,ij->i\",dprobs,counts)[:,None] # dl/db_i = \\sum_j dl/dc_ij * dc_ij/db_i from gradient chain rule"
   ]
  },
  {
   "cell_type": "code",
   "execution_count": 15,
   "metadata": {},
   "outputs": [],
   "source": [
    "dcounts_sum = (-1*counts_sum**(-2))*dcounts_sum_inv"
   ]
  },
  {
   "cell_type": "code",
   "execution_count": 16,
   "metadata": {},
   "outputs": [],
   "source": [
    "# dcounts should be solved by chain rule\n",
    "# exp : z = yx, y = 2x; dz = ydx + xdy , dy = 2 dx \n",
    "\n",
    "# forward\n",
    "# counts_sum = counts.sum(1, keepdims=True)\n",
    "# counts_sum_inv = counts_sum**-1 # if I use (1.0 / counts_sum) instead then I can't get backprop to be bit exact...\n",
    "# probs = counts * counts_sum_inv\n",
    "\n",
    "dcounts_1 = torch.einsum(\"ij,i->ij\",dprobs,counts_sum_inv[...,0]) # first parts of gradients\n",
    "dcounts_2 = torch.ones_like(counts) * dcounts_sum\n",
    "dcounts = dcounts_1 + dcounts_2\n",
    "\n",
    "# Q : take two things into consideration, uniform softmax and a extreme value softmax, what will happen?"
   ]
  },
  {
   "cell_type": "code",
   "execution_count": 17,
   "metadata": {},
   "outputs": [],
   "source": [
    "# forward\n",
    "# counts = norm_logits.exp() ; the derivative of exp is exp x \n",
    "with torch.no_grad():\n",
    "    dnorm_logits = dcounts * counts"
   ]
  },
  {
   "cell_type": "code",
   "execution_count": 18,
   "metadata": {},
   "outputs": [],
   "source": [
    "# forward\n",
    "# norm_logits = logits - logit_maxes # subtract max for numerical stability\n",
    "\n",
    "# dlogit_maxes = -1 * torch.einsum(\"ij->i\",dnorm_logits)\n",
    "with torch.no_grad():\n",
    "    dlogit_maxes  = -1 * torch.sum(dnorm_logits,1,keepdim=True)\n"
   ]
  },
  {
   "cell_type": "code",
   "execution_count": 19,
   "metadata": {},
   "outputs": [],
   "source": [
    "# forward\n",
    "# logit_maxes = logits.max(1, keepdim=True).values\n",
    "# norm_logits = logits - logit_maxes # subtract max for numerical stability\n",
    "with torch.no_grad():\n",
    "    # dlogits for two parts\n",
    "    dlogits1 = torch.ones_like(logits) * dnorm_logits\n",
    "    dlogits2 = torch.zeros_like(logits)\n",
    "    # find max_positions\n",
    "    max_positions = logits.argmax(1,keepdim=False)\n",
    "    dlogits2[range(n),max_positions] = 1 * dlogit_maxes[...,0]\n",
    "    dlogits = dlogits1 + dlogits2\n",
    "    # we have dlogit_maxes "
   ]
  },
  {
   "cell_type": "code",
   "execution_count": 20,
   "metadata": {},
   "outputs": [],
   "source": [
    "# IN MLP, we don't need tensor / tensor, we can all get scalar / tensor\n",
    "\n",
    "# forward\n",
    "# Linear layer 2\n",
    "# logits = h @ W2 + b2 # output layer\n",
    "# don't compute the local gradient\n",
    "# just give the gradient of the loss wrt. weight and linear\n",
    "\n",
    "with torch.no_grad():\n",
    "    dh =  torch.einsum(\"kj,ij->ki\",dlogits,W2) \n",
    "    # dh = dlogits @ W2.T\n",
    "    db2 = torch.sum(dlogits,dim=0,keepdim=True).squeeze()\n",
    "    # dW2 = torch.einsum(\"kj,ki->ij\",dlogits,h)  may cause numerical bugs\n",
    "    dW2 = h.T @ dlogits "
   ]
  },
  {
   "cell_type": "code",
   "execution_count": 21,
   "metadata": {},
   "outputs": [],
   "source": [
    "# forward\n",
    "\n",
    "# hpreact = bngain * bnraw + bnbias\n",
    "# h = torch.tanh(hpreact) # hidden layer\n",
    "with torch.no_grad():\n",
    "    dhpreact =  dh * (1-h**2)\n",
    "    dbngain = torch.sum(dhpreact*bnraw,dim=0,keepdim=True) \n",
    "    dbnbias = torch.sum(dhpreact,dim=0,keepdim=True)\n",
    "    dbnraw = dhpreact * bngain"
   ]
  },
  {
   "cell_type": "code",
   "execution_count": 22,
   "metadata": {},
   "outputs": [],
   "source": [
    "# forward\n",
    "# emb = C[Xb] # embed the characters into vectors\n",
    "# embcat = emb.view(emb.shape[0], -1) # concatenate the vectors\n",
    "# # Linear layer 1\n",
    "# hprebn = embcat @ W1 + b1 # hidden layer pre-activation\n",
    "# # BatchNorm layer\n",
    "# bnmeani = 1/n*hprebn.sum(0, keepdim=True)\n",
    "# bndiff = hprebn - bnmeani\n",
    "# bndiff2 = bndiff**2\n",
    "# bnvar = 1/(n-1)*(bndiff2).sum(0, keepdim=True) # note: Bessel's correction (dividing by n-1, not n)\n",
    "# bnvar_inv = (bnvar + 1e-5)**-0.5\n",
    "# bnraw = bndiff * bnvar_inv\n",
    "with torch.no_grad():\n",
    "    dbnvar_inv = torch.sum(dbnraw * bndiff,dim=0,keepdim=True)\n",
    "    dbnvar = dbnvar_inv * (-0.5) * (bnvar + 1e-5)**(-1.5)\n",
    "    dbndiff2 = (1/(n-1) * dbnvar).repeat(32,1)\n",
    "    dbndiff = 2 * bndiff * dbndiff2 + dbnraw * bnvar_inv\n",
    "    dbnmeani = -1 * dbndiff.sum(dim=0,keepdim=True)   \n",
    "    dhprebn = dbndiff + 1/n * dbnmeani\n",
    "    dembcat = torch.einsum(\"ik,jk->ij\",dhprebn,W1) \n",
    "    dW1 = torch.einsum(\"ij,ik->jk\",embcat,dhprebn)\n",
    "    db1 = dhprebn.sum(dim=0)\n",
    "    demb = dembcat.reshape(emb.shape)\n",
    "    dC = torch.zeros_like(C)\n",
    "    for batch_idx in range(Xb.shape[0]):\n",
    "        for char_idx in range(Xb.shape[1]):\n",
    "            tensor_idx = Xb[batch_idx,char_idx].item()\n",
    "            dC[tensor_idx] += demb[batch_idx,char_idx]"
   ]
  },
  {
   "cell_type": "code",
   "execution_count": 23,
   "metadata": {},
   "outputs": [],
   "source": [
    "# dC = torch.zeros_like(C)\n",
    "# for batch_idx in range(Xb.shape[0]):\n",
    "#     for char_idx in range(Xb.shape[1]):\n",
    "#         tensor_idx = Xb[batch_idx,char_idx].item()\n",
    "#         dC[tensor_idx] += demb[batch_idx,char_idx]"
   ]
  },
  {
   "cell_type": "code",
   "execution_count": 24,
   "metadata": {},
   "outputs": [
    {
     "name": "stdout",
     "output_type": "stream",
     "text": [
      "logprobs        | exact: True  | approximate: True  | maxdiff: 0.0\n",
      "probs           | exact: True  | approximate: True  | maxdiff: 0.0\n",
      "counts_sum_inv  | exact: True  | approximate: True  | maxdiff: 0.0\n",
      "counts_sum      | exact: True  | approximate: True  | maxdiff: 0.0\n",
      "counts          | exact: True  | approximate: True  | maxdiff: 0.0\n",
      "norm_logits     | exact: True  | approximate: True  | maxdiff: 0.0\n",
      "logit_maxes     | exact: True  | approximate: True  | maxdiff: 0.0\n",
      "logits          | exact: True  | approximate: True  | maxdiff: 0.0\n",
      "h               | exact: True  | approximate: True  | maxdiff: 0.0\n",
      "W2              | exact: True  | approximate: True  | maxdiff: 0.0\n",
      "b2              | exact: True  | approximate: True  | maxdiff: 0.0\n",
      "hpreact         | exact: False | approximate: True  | maxdiff: 4.656612873077393e-10\n",
      "bngain          | exact: False | approximate: True  | maxdiff: 1.862645149230957e-09\n",
      "bnbias          | exact: False | approximate: True  | maxdiff: 3.725290298461914e-09\n",
      "bnraw           | exact: False | approximate: True  | maxdiff: 4.656612873077393e-10\n",
      "bnvar_inv       | exact: False | approximate: True  | maxdiff: 1.862645149230957e-09\n",
      "bnvar           | exact: False | approximate: True  | maxdiff: 9.313225746154785e-10\n",
      "bndiff2         | exact: False | approximate: True  | maxdiff: 2.9103830456733704e-11\n",
      "bndiff          | exact: False | approximate: True  | maxdiff: 4.656612873077393e-10\n",
      "bnmeani         | exact: False | approximate: True  | maxdiff: 2.7939677238464355e-09\n",
      "hprebn          | exact: False | approximate: True  | maxdiff: 4.656612873077393e-10\n",
      "embcat          | exact: False | approximate: True  | maxdiff: 2.7939677238464355e-09\n",
      "W1              | exact: False | approximate: True  | maxdiff: 7.450580596923828e-09\n",
      "b1              | exact: False | approximate: True  | maxdiff: 3.725290298461914e-09\n",
      "emb             | exact: False | approximate: True  | maxdiff: 2.7939677238464355e-09\n",
      "C               | exact: False | approximate: True  | maxdiff: 5.005858838558197e-09\n"
     ]
    }
   ],
   "source": [
    "# Exercise 1: backprop through the whole thing manually, \n",
    "# backpropagating through exactly all of the variables \n",
    "# as they are defined in the forward pass above, one by one\n",
    "\n",
    "# -----------------\n",
    "# YOUR CODE HERE :)\n",
    "# -----------------\n",
    "\n",
    "dlogprobs = torch.zeros_like(logprobs)\n",
    "dlogprobs[range(n), Yb] = -1/n\n",
    "dprobs = dlogprobs * (probs ** -1) # 对于真正label，如果概率p非常低，那么1/p就会非常大，因此logp会boost这个梯度\n",
    "dcounts_sum_inv = (dprobs * counts).sum(dim=1,keepdim=True)   # two steps for pytorch : 1. 广播成同样的形状 2.对于同样的形状计算梯度\n",
    "# element-wise梯度：dprobs * counts 是loss对于广播的之后的矩阵梯度\n",
    "# 广播、replication梯度：在广播的维度相加\n",
    "\n",
    "\n",
    "cmp('logprobs', dlogprobs, logprobs)\n",
    "cmp('probs', dprobs, probs)\n",
    "cmp('counts_sum_inv', dcounts_sum_inv, counts_sum_inv)\n",
    "cmp('counts_sum', dcounts_sum, counts_sum)\n",
    "cmp('counts', dcounts, counts)\n",
    "cmp('norm_logits', dnorm_logits, norm_logits)\n",
    "cmp('logit_maxes', dlogit_maxes, logit_maxes)\n",
    "cmp('logits', dlogits, logits)\n",
    "cmp('h', dh, h)\n",
    "cmp('W2', dW2, W2)\n",
    "cmp('b2', db2, b2)\n",
    "cmp('hpreact', dhpreact, hpreact)\n",
    "cmp('bngain', dbngain, bngain)\n",
    "cmp('bnbias', dbnbias, bnbias)\n",
    "cmp('bnraw', dbnraw, bnraw)\n",
    "cmp('bnvar_inv', dbnvar_inv, bnvar_inv)\n",
    "cmp('bnvar', dbnvar, bnvar)\n",
    "cmp('bndiff2', dbndiff2, bndiff2)\n",
    "cmp('bndiff', dbndiff, bndiff)\n",
    "cmp('bnmeani', dbnmeani, bnmeani)\n",
    "cmp('hprebn', dhprebn, hprebn)\n",
    "cmp('embcat', dembcat, embcat)\n",
    "cmp('W1', dW1, W1)\n",
    "cmp('b1', db1, b1)\n",
    "cmp('emb', demb, emb)\n",
    "cmp('C', dC, C)"
   ]
  },
  {
   "cell_type": "markdown",
   "metadata": {},
   "source": [
    "### Exercise2\n",
    "\n",
    "将logits - CrossEntropy写到一起"
   ]
  },
  {
   "cell_type": "code",
   "execution_count": 25,
   "metadata": {},
   "outputs": [
    {
     "name": "stdout",
     "output_type": "stream",
     "text": [
      "3.3063859939575195 diff: 0.0\n"
     ]
    }
   ],
   "source": [
    "\n",
    "# Exercise 2: backprop through cross_entropy but all in one go\n",
    "# to complete this challenge look at the mathematical expression of the loss,\n",
    "# take the derivative, simplify the expression, and just write it out\n",
    "\n",
    "# forward pass\n",
    "\n",
    "# before:\n",
    "# logit_maxes = logits.max(1, keepdim=True).values\n",
    "# norm_logits = logits - logit_maxes # subtract max for numerical stability\n",
    "# counts = norm_logits.exp()\n",
    "# counts_sum = counts.sum(1, keepdims=True)\n",
    "# counts_sum_inv = counts_sum**-1 # if I use (1.0 / counts_sum) instead then I can't get backprop to be bit exact...\n",
    "# probs = counts * counts_sum_inv\n",
    "# logprobs = probs.log()\n",
    "# loss = -logprobs[range(n), Yb].mean()\n",
    "\n",
    "# now:\n",
    "loss_fast = F.cross_entropy(logits, Yb)\n",
    "print(loss_fast.item(), 'diff:', (loss_fast - loss).item())"
   ]
  },
  {
   "cell_type": "code",
   "execution_count": 26,
   "metadata": {},
   "outputs": [],
   "source": [
    "def cross_entropy_gradient(logits,y):\n",
    "    # single batch gradient \n",
    "    grad = torch.exp(logits) / torch.sum(torch.exp(logits))\n",
    "    grad[y] -= 1\n",
    "    return grad"
   ]
  },
  {
   "cell_type": "code",
   "execution_count": 27,
   "metadata": {},
   "outputs": [
    {
     "name": "stdout",
     "output_type": "stream",
     "text": [
      "logits          | exact: False | approximate: True  | maxdiff: 6.51925802230835e-09\n"
     ]
    }
   ],
   "source": [
    "\n",
    "# backward pass\n",
    "# dlogits = torch.zeros_like(logits)\n",
    "# for batch_idx in range(n):\n",
    "#     dlogits[batch_idx] = cross_entropy_gradient(logits[batch_idx], Yb[batch_idx]) / n\n",
    "\n",
    "\n",
    "# 一种更优雅的方式, crossentropy的梯度就是prob, 在label处为prob - 1\n",
    "dlogits = F.softmax(logits, dim=1)\n",
    "dlogits[range(n), Yb] -= 1\n",
    "dlogits /= n\n",
    "\n",
    "cmp('logits', dlogits, logits) # I can only get approximate to be true, my maxdiff is 6e-9"
   ]
  },
  {
   "cell_type": "code",
   "execution_count": 28,
   "metadata": {},
   "outputs": [
    {
     "data": {
      "text/plain": [
       "torch.Size([32, 27])"
      ]
     },
     "execution_count": 28,
     "metadata": {},
     "output_type": "execute_result"
    }
   ],
   "source": [
    "dlogits.shape"
   ]
  },
  {
   "cell_type": "code",
   "execution_count": 29,
   "metadata": {},
   "outputs": [
    {
     "data": {
      "text/plain": [
       "torch.Size([32, 27])"
      ]
     },
     "execution_count": 29,
     "metadata": {},
     "output_type": "execute_result"
    }
   ],
   "source": [
    "logits.shape"
   ]
  },
  {
   "cell_type": "code",
   "execution_count": 30,
   "metadata": {},
   "outputs": [
    {
     "data": {
      "text/plain": [
       "(tensor([ 0.0613,  0.0975, -0.9668,  0.1645,  0.1916,  0.0447,  0.1374,  0.1183,\n",
       "          0.1025,  0.0489]),)"
      ]
     },
     "execution_count": 30,
     "metadata": {},
     "output_type": "execute_result"
    }
   ],
   "source": [
    "logits = torch.randn(10)\n",
    "logits.requires_grad = True\n",
    "y = 2\n",
    "probs = F.softmax(logits, dim=0)\n",
    "logprobs = probs.log()\n",
    "loss = -logprobs[y].mean()\n",
    "torch.autograd.grad(loss, logits)\n"
   ]
  },
  {
   "cell_type": "code",
   "execution_count": 31,
   "metadata": {},
   "outputs": [
    {
     "data": {
      "text/plain": [
       "tensor([ 0.0613,  0.0975, -0.9668,  0.1645,  0.1916,  0.0447,  0.1374,  0.1183,\n",
       "         0.1025,  0.0489], grad_fn=<CopySlices>)"
      ]
     },
     "execution_count": 31,
     "metadata": {},
     "output_type": "execute_result"
    }
   ],
   "source": [
    "cross_entropy_gradient(logits,y)"
   ]
  },
  {
   "cell_type": "code",
   "execution_count": 32,
   "metadata": {},
   "outputs": [
    {
     "data": {
      "text/plain": [
       "tensor([ 0.0613,  0.0975, -0.9668,  0.1645,  0.1916,  0.0447,  0.1374,  0.1183,\n",
       "         0.1025,  0.0489], grad_fn=<CopySlices>)"
      ]
     },
     "execution_count": 32,
     "metadata": {},
     "output_type": "execute_result"
    }
   ],
   "source": [
    "dlogits_computation = torch.exp(logits) / torch.sum(torch.exp(logits))\n",
    "dlogits_computation[y] -= 1\n",
    "dlogits_computation\n"
   ]
  },
  {
   "cell_type": "markdown",
   "metadata": {},
   "source": [
    "## Exercise 3\n",
    "\n",
    "将batch normalization整合到一起"
   ]
  },
  {
   "cell_type": "code",
   "execution_count": 33,
   "metadata": {},
   "outputs": [
    {
     "name": "stdout",
     "output_type": "stream",
     "text": [
      "max diff: tensor(4.7684e-07, grad_fn=<MaxBackward1>)\n"
     ]
    }
   ],
   "source": [
    "# Exercise 3: backprop through batchnorm but all in one go\n",
    "# to complete this challenge look at the mathematical expression of the output of batchnorm,\n",
    "# take the derivative w.r.t. its input, simplify the expression, and just write it out\n",
    "\n",
    "# forward pass\n",
    "\n",
    "# before:\n",
    "# bnmeani = 1/n*hprebn.sum(0, keepdim=True)\n",
    "# bndiff = hprebn - bnmeani\n",
    "# bndiff2 = bndiff**2\n",
    "# bnvar = 1/(n-1)*(bndiff2).sum(0, keepdim=True) # note: Bessel's correction (dividing by n-1, not n)\n",
    "# bnvar_inv = (bnvar + 1e-5)**-0.5\n",
    "# bnraw = bndiff * bnvar_inv\n",
    "# hpreact = bngain * bnraw + bnbias\n",
    "\n",
    "# now:\n",
    "hpreact_fast = bngain * (hprebn - hprebn.mean(0, keepdim=True)) / torch.sqrt(hprebn.var(0, keepdim=True, unbiased=True) + 1e-5) + bnbias\n",
    "print('max diff:', (hpreact_fast - hpreact).abs().max())"
   ]
  },
  {
   "cell_type": "code",
   "execution_count": 34,
   "metadata": {},
   "outputs": [
    {
     "name": "stdout",
     "output_type": "stream",
     "text": [
      "hprebn          | exact: False | approximate: True  | maxdiff: 9.313225746154785e-10\n"
     ]
    }
   ],
   "source": [
    "# backward pass\n",
    "\n",
    "# before we had:\n",
    "# dbnraw = bngain * dhpreact\n",
    "# dbndiff = bnvar_inv * dbnraw\n",
    "# dbnvar_inv = (bndiff * dbnraw).sum(0, keepdim=True)\n",
    "# dbnvar = (-0.5*(bnvar + 1e-5)**-1.5) * dbnvar_inv\n",
    "# dbndiff2 = (1.0/(n-1))*torch.ones_like(bndiff2) * dbnvar\n",
    "# dbndiff += (2*bndiff) * dbndiff2\n",
    "# dhprebn = dbndiff.clone()\n",
    "# dbnmeani = (-dbndiff).sum(0)\n",
    "# dhprebn += 1.0/n * (torch.ones_like(hprebn) * dbnmeani)\n",
    "\n",
    "# calculate dhprebn given dhpreact (i.e. backprop through the batchnorm)\n",
    "# (you'll also need to use some of the variables from the forward pass up above)\n",
    "\n",
    "dhprebn = bngain*bnvar_inv/n * (n*dhpreact - dhpreact.sum(0) - n/(n-1)*bnraw*(dhpreact*bnraw).sum(0))\n",
    "\n",
    "cmp('hprebn', dhprebn, hprebn) # I can only get approximate to be true, my maxdiff is 9e-10"
   ]
  },
  {
   "cell_type": "markdown",
   "metadata": {},
   "source": [
    "### Exercise 4\n",
    "\n",
    "将forward与backward, update写到一起"
   ]
  },
  {
   "cell_type": "code",
   "execution_count": 35,
   "metadata": {},
   "outputs": [
    {
     "name": "stdout",
     "output_type": "stream",
     "text": [
      "12297\n",
      "      0/ 200000: 3.7555\n",
      "  10000/ 200000: 2.1554\n",
      "  20000/ 200000: 2.3344\n",
      "  30000/ 200000: 2.4711\n",
      "  40000/ 200000: 1.9529\n",
      "  50000/ 200000: 2.3565\n",
      "  60000/ 200000: 2.4089\n",
      "  70000/ 200000: 2.0273\n",
      "  80000/ 200000: 2.2614\n",
      "  90000/ 200000: 2.1883\n",
      " 100000/ 200000: 1.9724\n",
      " 110000/ 200000: 2.3216\n",
      " 120000/ 200000: 1.9399\n",
      " 130000/ 200000: 2.4385\n",
      " 140000/ 200000: 2.3242\n",
      " 150000/ 200000: 2.1719\n",
      " 160000/ 200000: 1.9338\n",
      " 170000/ 200000: 1.8476\n",
      " 180000/ 200000: 2.1449\n",
      " 190000/ 200000: 1.9264\n"
     ]
    }
   ],
   "source": [
    "# Exercise 4: putting it all together!\n",
    "# Train the MLP neural net with your own backward pass\n",
    "\n",
    "# init\n",
    "n_embd = 10 # the dimensionality of the character embedding vectors\n",
    "n_hidden = 200 # the number of neurons in the hidden layer of the MLP\n",
    "\n",
    "g = torch.Generator().manual_seed(2147483647) # for reproducibility\n",
    "C  = torch.randn((vocab_size, n_embd),            generator=g)\n",
    "# Layer 1\n",
    "W1 = torch.randn((n_embd * block_size, n_hidden), generator=g) * (5/3)/((n_embd * block_size)**0.5)\n",
    "b1 = torch.randn(n_hidden,                        generator=g) * 0.1\n",
    "# Layer 2\n",
    "W2 = torch.randn((n_hidden, vocab_size),          generator=g) * 0.1\n",
    "b2 = torch.randn(vocab_size,                      generator=g) * 0.1\n",
    "# BatchNorm parameters\n",
    "bngain = torch.randn((1, n_hidden))*0.1 + 1.0\n",
    "bnbias = torch.randn((1, n_hidden))*0.1\n",
    "\n",
    "parameters = [C, W1, b1, W2, b2, bngain, bnbias]\n",
    "print(sum(p.nelement() for p in parameters)) # number of parameters in total\n",
    "for p in parameters:\n",
    "  p.requires_grad = True\n",
    "\n",
    "# same optimization as last time\n",
    "max_steps = 200000\n",
    "batch_size = 32\n",
    "n = batch_size # convenience\n",
    "lossi = []\n",
    "\n",
    "# use this context manager for efficiency once your backward pass is written (TODO)\n",
    "with torch.no_grad():\n",
    "\n",
    "  # kick off optimization\n",
    "  for i in range(max_steps):\n",
    "\n",
    "    # minibatch construct\n",
    "    ix = torch.randint(0, Xtr.shape[0], (batch_size,), generator=g)\n",
    "    Xb, Yb = Xtr[ix], Ytr[ix] # batch X,Y\n",
    "\n",
    "    # forward pass\n",
    "    emb = C[Xb] # embed the characters into vectors\n",
    "    embcat = emb.view(emb.shape[0], -1) # concatenate the vectors\n",
    "    # Linear layer\n",
    "    hprebn = embcat @ W1 + b1 # hidden layer pre-activation\n",
    "    # BatchNorm layer\n",
    "    # -------------------------------------------------------------\n",
    "    bnmean = hprebn.mean(0, keepdim=True)\n",
    "    bnvar = hprebn.var(0, keepdim=True, unbiased=True)\n",
    "    bnvar_inv = (bnvar + 1e-5)**-0.5\n",
    "    bnraw = (hprebn - bnmean) * bnvar_inv\n",
    "    hpreact = bngain * bnraw + bnbias\n",
    "    # -------------------------------------------------------------\n",
    "    # Non-linearity\n",
    "    h = torch.tanh(hpreact) # hidden layer\n",
    "    logits = h @ W2 + b2 # output layer\n",
    "    loss = F.cross_entropy(logits, Yb) # loss function\n",
    "\n",
    "    # backward pass\n",
    "    for p in parameters:\n",
    "      p.grad = None\n",
    "    #loss.backward() # use this for correctness comparisons, delete it later!\n",
    "\n",
    "    # manual backprop! #swole_doge_meme\n",
    "    # -----------------\n",
    "    dlogits = F.softmax(logits, 1)\n",
    "    dlogits[range(n), Yb] -= 1\n",
    "    dlogits /= n\n",
    "    # 2nd layer backprop\n",
    "    dh = dlogits @ W2.T\n",
    "    dW2 = h.T @ dlogits\n",
    "    db2 = dlogits.sum(0)\n",
    "    # tanh\n",
    "    dhpreact = (1.0 - h**2) * dh\n",
    "    # batchnorm backprop\n",
    "    dbngain = (bnraw * dhpreact).sum(0, keepdim=True)\n",
    "    dbnbias = dhpreact.sum(0, keepdim=True)\n",
    "    dhprebn = bngain*bnvar_inv/n * (n*dhpreact - dhpreact.sum(0) - n/(n-1)*bnraw*(dhpreact*bnraw).sum(0))\n",
    "    # 1st layer\n",
    "    dembcat = dhprebn @ W1.T\n",
    "    dW1 = embcat.T @ dhprebn\n",
    "    db1 = dhprebn.sum(0)\n",
    "    # embedding\n",
    "    demb = dembcat.view(emb.shape)\n",
    "    dC = torch.zeros_like(C)\n",
    "    for k in range(Xb.shape[0]):\n",
    "      for j in range(Xb.shape[1]):\n",
    "        ix = Xb[k,j]\n",
    "        dC[ix] += demb[k,j]\n",
    "    grads = [dC, dW1, db1, dW2, db2, dbngain, dbnbias]\n",
    "    # -----------------\n",
    "\n",
    "    # update\n",
    "    lr = 0.1 if i < 100000 else 0.01 # step learning rate decay\n",
    "    for p, grad in zip(parameters, grads):\n",
    "      #p.data += -lr * p.grad # old way of cheems doge (using PyTorch grad from .backward())\n",
    "      p.data += -lr * grad # new way of swole doge TODO: enable\n",
    "\n",
    "    # track stats\n",
    "    if i % 10000 == 0: # print every once in a while\n",
    "      print(f'{i:7d}/{max_steps:7d}: {loss.item():.4f}')\n",
    "    lossi.append(loss.log10().item())\n",
    "\n",
    "  #   if i >= 100: # TODO: delete early breaking when you're ready to train the full net\n",
    "  #     break"
   ]
  },
  {
   "cell_type": "code",
   "execution_count": 38,
   "metadata": {},
   "outputs": [],
   "source": [
    "# calibrate the batch norm at the end of training\n",
    "\n",
    "with torch.no_grad():\n",
    "  # pass the training set through\n",
    "  emb = C[Xtr]\n",
    "  embcat = emb.view(emb.shape[0], -1)\n",
    "  hpreact = embcat @ W1 + b1\n",
    "  # measure the mean/std over the entire training set\n",
    "  bnmean = hpreact.mean(0, keepdim=True)\n",
    "  bnvar = hpreact.var(0, keepdim=True, unbiased=True)"
   ]
  },
  {
   "cell_type": "code",
   "execution_count": 41,
   "metadata": {},
   "outputs": [
    {
     "name": "stdout",
     "output_type": "stream",
     "text": [
      "train 2.071352243423462\n",
      "val 2.1112256050109863\n"
     ]
    }
   ],
   "source": [
    "# evaluate train and val loss\n",
    "\n",
    "@torch.no_grad() # this decorator disables gradient tracking\n",
    "def split_loss(split):\n",
    "  x,y = {\n",
    "    'train': (Xtr, Ytr),\n",
    "    'val': (Xdev, Ydev),\n",
    "    'test': (Xte, Yte),\n",
    "  }[split]\n",
    "  emb = C[x] # (N, block_size, n_embd)\n",
    "  embcat = emb.view(emb.shape[0], -1) # concat into (N, block_size * n_embd)\n",
    "  hpreact = embcat @ W1 + b1\n",
    "  hpreact = bngain * (hpreact - bnmean) * (bnvar + 1e-5)**-0.5 + bnbias\n",
    "  h = torch.tanh(hpreact) # (N, n_hidden)\n",
    "  logits = h @ W2 + b2 # (N, vocab_size)\n",
    "  loss = F.cross_entropy(logits, y)\n",
    "  print(split, loss.item())\n",
    "\n",
    "split_loss('train')\n",
    "split_loss('val')"
   ]
  },
  {
   "cell_type": "code",
   "execution_count": 42,
   "metadata": {},
   "outputs": [
    {
     "name": "stdout",
     "output_type": "stream",
     "text": [
      "mona.\n",
      "mayah.\n",
      "seel.\n",
      "ndhonalee.\n",
      "thruthadrie.\n",
      "cadelyn.\n",
      "elin.\n",
      "shi.\n",
      "jenleigh.\n",
      "esmana.\n",
      "sepheimhotalin.\n",
      "shreer.\n",
      "shirael.\n",
      "kindreelynn.\n",
      "novana.\n",
      "ubelled.\n",
      "ryyah.\n",
      "fael.\n",
      "yuma.\n",
      "mys.\n"
     ]
    }
   ],
   "source": [
    "# sample from the model\n",
    "g = torch.Generator().manual_seed(2147483647 + 10)\n",
    "\n",
    "for _ in range(20):\n",
    "    \n",
    "    out = []\n",
    "    context = [0] * block_size # initialize with all ...\n",
    "    while True:\n",
    "      # ------------\n",
    "      # forward pass:\n",
    "      # Embedding\n",
    "      emb = C[torch.tensor([context])] # (1,block_size,d)      \n",
    "      embcat = emb.view(emb.shape[0], -1) # concat into (N, block_size * n_embd)\n",
    "      hpreact = embcat @ W1 + b1\n",
    "      hpreact = bngain * (hpreact - bnmean) * (bnvar + 1e-5)**-0.5 + bnbias\n",
    "      h = torch.tanh(hpreact) # (N, n_hidden)\n",
    "      logits = h @ W2 + b2 # (N, vocab_size)\n",
    "      # ------------\n",
    "      # Sample\n",
    "      probs = F.softmax(logits, dim=1)\n",
    "      ix = torch.multinomial(probs, num_samples=1, generator=g).item()\n",
    "      context = context[1:] + [ix]\n",
    "      out.append(ix)\n",
    "      if ix == 0:\n",
    "        break\n",
    "    \n",
    "    print(''.join(itos[i] for i in out))"
   ]
  },
  {
   "cell_type": "code",
   "execution_count": null,
   "metadata": {},
   "outputs": [],
   "source": []
  },
  {
   "cell_type": "code",
   "execution_count": null,
   "metadata": {},
   "outputs": [],
   "source": []
  },
  {
   "cell_type": "code",
   "execution_count": null,
   "metadata": {},
   "outputs": [],
   "source": []
  },
  {
   "cell_type": "code",
   "execution_count": null,
   "metadata": {},
   "outputs": [],
   "source": []
  },
  {
   "cell_type": "code",
   "execution_count": null,
   "metadata": {},
   "outputs": [],
   "source": []
  },
  {
   "cell_type": "code",
   "execution_count": 120,
   "metadata": {},
   "outputs": [],
   "source": [
    "import torch\n",
    "def repeat_kv(x: torch.Tensor, n_rep: int) -> torch.Tensor:\n",
    "    \"\"\"torch.repeat_interleave(x, dim=2, repeats=n_rep) from Llamma3\"\"\"\n",
    "    bs, slen, n_kv_heads, head_dim = x.shape\n",
    "    if n_rep == 1:\n",
    "        return x\n",
    "    return (\n",
    "        x[:, :, :, None, :]\n",
    "        .expand(bs, slen, n_kv_heads, n_rep, head_dim)\n",
    "        .reshape(bs, slen, n_kv_heads * n_rep, head_dim)\n",
    "        )"
   ]
  },
  {
   "cell_type": "code",
   "execution_count": 24,
   "metadata": {},
   "outputs": [],
   "source": [
    "x = torch.randn(1, 2, 4, 2)\n",
    "y = repeat_kv(x, 2)"
   ]
  },
  {
   "cell_type": "code",
   "execution_count": 25,
   "metadata": {},
   "outputs": [
    {
     "data": {
      "text/plain": [
       "tensor([[[[-0.9775, -1.0789],\n",
       "          [ 0.1624, -1.8405],\n",
       "          [ 0.9507,  0.3011],\n",
       "          [-1.2406, -0.5837]],\n",
       "\n",
       "         [[-1.1423,  1.7853],\n",
       "          [ 0.0409,  1.1610],\n",
       "          [-0.2402,  1.9578],\n",
       "          [ 0.7019,  2.1591]]]])"
      ]
     },
     "execution_count": 25,
     "metadata": {},
     "output_type": "execute_result"
    }
   ],
   "source": [
    "x"
   ]
  },
  {
   "cell_type": "code",
   "execution_count": 26,
   "metadata": {},
   "outputs": [
    {
     "data": {
      "text/plain": [
       "tensor([[[[-0.9775, -1.0789],\n",
       "          [-0.9775, -1.0789],\n",
       "          [ 0.1624, -1.8405],\n",
       "          [ 0.1624, -1.8405],\n",
       "          [ 0.9507,  0.3011],\n",
       "          [ 0.9507,  0.3011],\n",
       "          [-1.2406, -0.5837],\n",
       "          [-1.2406, -0.5837]],\n",
       "\n",
       "         [[-1.1423,  1.7853],\n",
       "          [-1.1423,  1.7853],\n",
       "          [ 0.0409,  1.1610],\n",
       "          [ 0.0409,  1.1610],\n",
       "          [-0.2402,  1.9578],\n",
       "          [-0.2402,  1.9578],\n",
       "          [ 0.7019,  2.1591],\n",
       "          [ 0.7019,  2.1591]]]])"
      ]
     },
     "execution_count": 26,
     "metadata": {},
     "output_type": "execute_result"
    }
   ],
   "source": [
    "y"
   ]
  },
  {
   "cell_type": "code",
   "execution_count": 27,
   "metadata": {},
   "outputs": [
    {
     "data": {
      "text/plain": [
       "tensor([[[[-0.7903,  2.4070, -0.4276,  0.0947, -1.2497],\n",
       "          [-0.7903,  2.4070, -0.4276,  0.0947, -1.2497],\n",
       "          [ 0.8955, -0.0571, -1.2833, -0.0313, -0.2610],\n",
       "          [ 0.8955, -0.0571, -1.2833, -0.0313, -0.2610],\n",
       "          [ 1.2286, -0.2659, -0.5508,  0.8652,  0.6643],\n",
       "          [ 1.2286, -0.2659, -0.5508,  0.8652,  0.6643],\n",
       "          [ 0.2125, -0.7300, -2.1901, -1.4154,  0.2888],\n",
       "          [ 0.2125, -0.7300, -2.1901, -1.4154,  0.2888]],\n",
       "\n",
       "         [[ 0.5943,  0.8673,  1.7449, -0.9035, -0.3915],\n",
       "          [ 0.5943,  0.8673,  1.7449, -0.9035, -0.3915],\n",
       "          [ 0.8661, -1.0370, -0.2133,  0.4721,  0.2251],\n",
       "          [ 0.8661, -1.0370, -0.2133,  0.4721,  0.2251],\n",
       "          [ 0.0478, -0.0921, -1.5668,  1.3102,  0.3000],\n",
       "          [ 0.0478, -0.0921, -1.5668,  1.3102,  0.3000],\n",
       "          [ 0.9285,  1.5418,  0.3743,  2.2138, -0.0551],\n",
       "          [ 0.9285,  1.5418,  0.3743,  2.2138, -0.0551]],\n",
       "\n",
       "         [[-0.5614,  0.1855,  0.5033,  0.4404,  0.4352],\n",
       "          [-0.5614,  0.1855,  0.5033,  0.4404,  0.4352],\n",
       "          [-0.0076, -1.2400, -2.1232, -0.6488, -1.1718],\n",
       "          [-0.0076, -1.2400, -2.1232, -0.6488, -1.1718],\n",
       "          [ 1.4755,  1.0237, -0.1041, -1.8069, -0.0429],\n",
       "          [ 1.4755,  1.0237, -0.1041, -1.8069, -0.0429],\n",
       "          [-0.3347, -0.1648, -0.0924,  1.2085,  1.9018],\n",
       "          [-0.3347, -0.1648, -0.0924,  1.2085,  1.9018]]],\n",
       "\n",
       "\n",
       "        [[[-1.5241, -0.4767, -0.8892,  0.8292,  0.1663],\n",
       "          [-1.5241, -0.4767, -0.8892,  0.8292,  0.1663],\n",
       "          [ 0.1582, -1.0771, -1.0697, -1.3399, -1.7172],\n",
       "          [ 0.1582, -1.0771, -1.0697, -1.3399, -1.7172],\n",
       "          [ 0.4655, -1.3165, -1.3587,  0.3115,  0.5285],\n",
       "          [ 0.4655, -1.3165, -1.3587,  0.3115,  0.5285],\n",
       "          [-2.3132, -1.1173,  1.3607,  1.1186, -1.7430],\n",
       "          [-2.3132, -1.1173,  1.3607,  1.1186, -1.7430]],\n",
       "\n",
       "         [[-0.0718, -0.0785, -0.4380,  0.9883, -0.6385],\n",
       "          [-0.0718, -0.0785, -0.4380,  0.9883, -0.6385],\n",
       "          [ 1.0034,  1.2669,  0.6727, -1.5759,  1.6536],\n",
       "          [ 1.0034,  1.2669,  0.6727, -1.5759,  1.6536],\n",
       "          [ 0.0378, -1.3002,  1.6906,  1.8275, -0.0243],\n",
       "          [ 0.0378, -1.3002,  1.6906,  1.8275, -0.0243],\n",
       "          [ 1.3366,  0.1310,  1.1234,  0.8442,  1.7671],\n",
       "          [ 1.3366,  0.1310,  1.1234,  0.8442,  1.7671]],\n",
       "\n",
       "         [[ 0.9717,  1.5450,  1.3851,  0.8310, -0.5777],\n",
       "          [ 0.9717,  1.5450,  1.3851,  0.8310, -0.5777],\n",
       "          [ 0.5987,  0.5778, -1.3555,  0.3011,  1.7695],\n",
       "          [ 0.5987,  0.5778, -1.3555,  0.3011,  1.7695],\n",
       "          [-1.5902, -2.7956,  1.6979,  0.8745, -0.6507],\n",
       "          [-1.5902, -2.7956,  1.6979,  0.8745, -0.6507],\n",
       "          [-0.3026, -2.2609, -0.2017, -0.4319, -0.5258],\n",
       "          [-0.3026, -2.2609, -0.2017, -0.4319, -0.5258]]]])"
      ]
     },
     "execution_count": 27,
     "metadata": {},
     "output_type": "execute_result"
    }
   ],
   "source": [
    "z"
   ]
  },
  {
   "cell_type": "code",
   "execution_count": 28,
   "metadata": {},
   "outputs": [],
   "source": [
    "z = torch.repeat_interleave(x, dim=2, repeats=2)"
   ]
  },
  {
   "cell_type": "code",
   "execution_count": 29,
   "metadata": {},
   "outputs": [
    {
     "data": {
      "text/plain": [
       "tensor([[[[-0.9775, -1.0789],\n",
       "          [-0.9775, -1.0789],\n",
       "          [ 0.1624, -1.8405],\n",
       "          [ 0.1624, -1.8405],\n",
       "          [ 0.9507,  0.3011],\n",
       "          [ 0.9507,  0.3011],\n",
       "          [-1.2406, -0.5837],\n",
       "          [-1.2406, -0.5837]],\n",
       "\n",
       "         [[-1.1423,  1.7853],\n",
       "          [-1.1423,  1.7853],\n",
       "          [ 0.0409,  1.1610],\n",
       "          [ 0.0409,  1.1610],\n",
       "          [-0.2402,  1.9578],\n",
       "          [-0.2402,  1.9578],\n",
       "          [ 0.7019,  2.1591],\n",
       "          [ 0.7019,  2.1591]]]])"
      ]
     },
     "execution_count": 29,
     "metadata": {},
     "output_type": "execute_result"
    }
   ],
   "source": [
    "z"
   ]
  },
  {
   "cell_type": "code",
   "execution_count": 58,
   "metadata": {},
   "outputs": [],
   "source": [
    "AA_FREQ = {'A': 0.07421620506799341,\n",
    " 'R': 0.05161448614128464,\n",
    " 'N': 0.044645808512757915,\n",
    " 'D': 0.05362600083855441,\n",
    " 'C': 0.02468745716794485,\n",
    " 'Q': 0.03425965059141602,\n",
    " 'E': 0.0543119256845875,\n",
    " 'G': 0.074146941452645,\n",
    " 'H': 0.026212984805266227,\n",
    " 'I': 0.06791736761895376,\n",
    " 'L': 0.09890786849715096,\n",
    " 'K': 0.05815568230307968,\n",
    " 'M': 0.02499019757964311,\n",
    " 'F': 0.04741845974228475,\n",
    " 'P': 0.038538003320306206,\n",
    " 'S': 0.05722902947649442,\n",
    " 'T': 0.05089136455028703,\n",
    " 'W': 0.013029956129972148,\n",
    " 'Y': 0.03228151231375858,\n",
    " 'V': 0.07291909820561925}"
   ]
  },
  {
   "cell_type": "code",
   "execution_count": 35,
   "metadata": {},
   "outputs": [],
   "source": [
    "# make ESM2 backprop\n",
    "\n",
    "\n",
    "L = 256\n",
    "hidden = 1280\n",
    "\n",
    "pssm = torch.randn(L, 20)\n",
    "pssm.requires_grad = True\n",
    "W = torch.randn(20, hidden)\n",
    "W.requires_grad = True"
   ]
  },
  {
   "cell_type": "code",
   "execution_count": 36,
   "metadata": {},
   "outputs": [],
   "source": [
    "one_hot = pssm.argmax(1,keepdim=False)\n",
    "one_hot = F.one_hot(one_hot,20).float()\n",
    "one_hot.requires_grad = True\n",
    "activation = one_hot @ W\n",
    "loss = activation.sum()\n",
    "# real gradient\n",
    "loss.backward()"
   ]
  },
  {
   "cell_type": "code",
   "execution_count": 14,
   "metadata": {},
   "outputs": [],
   "source": [
    "dl_dactivation = torch.ones_like(activation)"
   ]
  },
  {
   "cell_type": "code",
   "execution_count": 42,
   "metadata": {},
   "outputs": [
    {
     "data": {
      "text/plain": [
       "torch.Size([256, 1280])"
      ]
     },
     "execution_count": 42,
     "metadata": {},
     "output_type": "execute_result"
    }
   ],
   "source": [
    "dl_dactivation.shape"
   ]
  },
  {
   "cell_type": "code",
   "execution_count": 54,
   "metadata": {},
   "outputs": [],
   "source": [
    "done_hot = torch.einsum(\"kj,ij->ki\",dl_dactivation, W)\n",
    "dW = torch.einsum(\"kj, ki->ij\",dl_dactivation,one_hot)"
   ]
  },
  {
   "cell_type": "code",
   "execution_count": 50,
   "metadata": {},
   "outputs": [
    {
     "data": {
      "text/plain": [
       "tensor([[ 57.4189,  17.2741,  -7.4375,  ...,   7.2317,  46.7600, -11.4610],\n",
       "        [ 57.4189,  17.2741,  -7.4375,  ...,   7.2317,  46.7600, -11.4610],\n",
       "        [ 57.4189,  17.2741,  -7.4375,  ...,   7.2317,  46.7600, -11.4610],\n",
       "        ...,\n",
       "        [ 57.4189,  17.2741,  -7.4375,  ...,   7.2317,  46.7600, -11.4610],\n",
       "        [ 57.4189,  17.2741,  -7.4375,  ...,   7.2317,  46.7600, -11.4610],\n",
       "        [ 57.4189,  17.2741,  -7.4375,  ...,   7.2317,  46.7600, -11.4610]],\n",
       "       grad_fn=<ViewBackward0>)"
      ]
     },
     "execution_count": 50,
     "metadata": {},
     "output_type": "execute_result"
    }
   ],
   "source": [
    "done_hot "
   ]
  },
  {
   "cell_type": "code",
   "execution_count": 39,
   "metadata": {},
   "outputs": [
    {
     "data": {
      "text/plain": [
       "tensor([[ 57.4189,  17.2741,  -7.4375,  ...,   7.2317,  46.7600, -11.4610],\n",
       "        [ 57.4189,  17.2741,  -7.4375,  ...,   7.2317,  46.7600, -11.4610],\n",
       "        [ 57.4189,  17.2741,  -7.4375,  ...,   7.2317,  46.7600, -11.4610],\n",
       "        ...,\n",
       "        [ 57.4189,  17.2741,  -7.4375,  ...,   7.2317,  46.7600, -11.4610],\n",
       "        [ 57.4189,  17.2741,  -7.4375,  ...,   7.2317,  46.7600, -11.4610],\n",
       "        [ 57.4189,  17.2741,  -7.4375,  ...,   7.2317,  46.7600, -11.4610]])"
      ]
     },
     "execution_count": 39,
     "metadata": {},
     "output_type": "execute_result"
    }
   ],
   "source": [
    "one_hot.grad"
   ]
  },
  {
   "cell_type": "code",
   "execution_count": 30,
   "metadata": {},
   "outputs": [
    {
     "name": "stderr",
     "output_type": "stream",
     "text": [
      "/tmp/ipykernel_12563/4104473693.py:1: UserWarning: The .grad attribute of a Tensor that is not a leaf Tensor is being accessed. Its .grad attribute won't be populated during autograd.backward(). If you indeed want the .grad field to be populated for a non-leaf Tensor, use .retain_grad() on the non-leaf Tensor. If you access the non-leaf Tensor by mistake, make sure you access the leaf Tensor instead. See github.com/pytorch/pytorch/pull/30531 for more informations. (Triggered internally at /opt/conda/conda-bld/pytorch_1711403380481/work/build/aten/src/ATen/core/TensorBody.h:489.)\n",
      "  activation.grad\n"
     ]
    }
   ],
   "source": [
    "activation.grad"
   ]
  },
  {
   "cell_type": "code",
   "execution_count": 40,
   "metadata": {},
   "outputs": [
    {
     "data": {
      "text/plain": [
       "tensor([[1., 0., 0.,  ..., 0., 0., 0.],\n",
       "        [0., 0., 0.,  ..., 1., 0., 0.],\n",
       "        [0., 0., 0.,  ..., 0., 0., 0.],\n",
       "        ...,\n",
       "        [0., 0., 1.,  ..., 0., 0., 0.],\n",
       "        [0., 0., 0.,  ..., 0., 0., 0.],\n",
       "        [0., 0., 0.,  ..., 0., 0., 0.]], requires_grad=True)"
      ]
     },
     "execution_count": 40,
     "metadata": {},
     "output_type": "execute_result"
    }
   ],
   "source": [
    "one_hot"
   ]
  },
  {
   "cell_type": "code",
   "execution_count": null,
   "metadata": {},
   "outputs": [],
   "source": []
  }
 ],
 "metadata": {
  "kernelspec": {
   "display_name": "dl",
   "language": "python",
   "name": "python3"
  },
  "language_info": {
   "codemirror_mode": {
    "name": "ipython",
    "version": 3
   },
   "file_extension": ".py",
   "mimetype": "text/x-python",
   "name": "python",
   "nbconvert_exporter": "python",
   "pygments_lexer": "ipython3",
   "version": "3.12.2"
  }
 },
 "nbformat": 4,
 "nbformat_minor": 2
}
